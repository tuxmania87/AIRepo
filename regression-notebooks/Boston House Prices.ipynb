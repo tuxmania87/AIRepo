{
 "cells": [
  {
   "cell_type": "markdown",
   "metadata": {},
   "source": [
    "# Boston House Pricing dataset from sklearn"
   ]
  },
  {
   "cell_type": "markdown",
   "metadata": {},
   "source": [
    "## Loading data into pandas dataframe"
   ]
  },
  {
   "cell_type": "markdown",
   "metadata": {},
   "source": [
    "First we extract a list of descriptions out of the data set to understand what we are actually looking at\n",
    "\n",
    "* CRIM     per capita crime rate by town\n",
    "* ZN       proportion of residential land zoned for lots over 25,000 sq.ft.\n",
    "* INDUS    proportion of non-retail business acres per town\n",
    "* CHAS     Charles River dummy variable (= 1 if tract bounds river; 0 otherwise)\n",
    "* NOX      nitric oxides concentration (parts per 10 million)\n",
    "* RM       average number of rooms per dwelling\n",
    "* AGE      proportion of owner-occupied units built prior to 1940\n",
    "* DIS      weighted distances to five Boston employment centres\n",
    "* RAD      index of accessibility to radial highways\n",
    "* TAX      full-value property-tax rate per \\$10,000\n",
    "* PTRATIO  pupil-teacher ratio by town\n",
    "* B        1000(Bk - 0.63)^2 where Bk is the proportion of blacks by town\n",
    "* LSTAT    % lower status of the population\n",
    "* MEDV     Median value of owner-occupied homes in $1000's"
   ]
  },
  {
   "cell_type": "code",
   "execution_count": 1,
   "metadata": {
    "ExecuteTime": {
     "end_time": "2020-06-04T06:26:01.255953Z",
     "start_time": "2020-06-04T06:25:58.281339Z"
    }
   },
   "outputs": [],
   "source": [
    "import pandas as pd\n",
    "from sklearn.datasets import load_boston\n",
    "import matplotlib.pyplot as plt\n",
    "import seaborn as sns\n",
    "import numpy as np\n",
    "\n",
    "boston_dataset = load_boston()\n",
    "df = pd.DataFrame(boston_dataset[\"data\"])\n",
    "df.columns = boston_dataset[\"feature_names\"]\n",
    "\n",
    "df[\"MEDV\"] = boston_dataset[\"target\"]\n"
   ]
  },
  {
   "cell_type": "code",
   "execution_count": 152,
   "metadata": {
    "ExecuteTime": {
     "end_time": "2020-06-03T15:34:28.824152Z",
     "start_time": "2020-06-03T15:34:28.819674Z"
    }
   },
   "outputs": [
    {
     "data": {
      "text/plain": [
       "CRIM       False\n",
       "ZN         False\n",
       "INDUS      False\n",
       "CHAS       False\n",
       "NOX        False\n",
       "RM         False\n",
       "AGE        False\n",
       "DIS        False\n",
       "RAD        False\n",
       "TAX        False\n",
       "PTRATIO    False\n",
       "B          False\n",
       "LSTAT      False\n",
       "MEDV       False\n",
       "dtype: bool"
      ]
     },
     "execution_count": 152,
     "metadata": {},
     "output_type": "execute_result"
    }
   ],
   "source": [
    "df.isna().any()"
   ]
  },
  {
   "cell_type": "markdown",
   "metadata": {},
   "source": [
    "So there are no missing values which is good, otherwise we would now take a look at what features have missing values and if we can fix it with an Imputer or if we have to simply drop lines where features have missing values or maybe even drop the feature itself if too many observations have missing values in that particular feature.\n",
    "\n",
    "Next up we have a look at the distribution of all the variables, since they all are numerical we are not missing out on anything here."
   ]
  },
  {
   "cell_type": "code",
   "execution_count": 155,
   "metadata": {
    "ExecuteTime": {
     "end_time": "2020-06-03T15:34:51.490110Z",
     "start_time": "2020-06-03T15:34:51.445141Z"
    }
   },
   "outputs": [
    {
     "data": {
      "text/html": [
       "<div>\n",
       "<style scoped>\n",
       "    .dataframe tbody tr th:only-of-type {\n",
       "        vertical-align: middle;\n",
       "    }\n",
       "\n",
       "    .dataframe tbody tr th {\n",
       "        vertical-align: top;\n",
       "    }\n",
       "\n",
       "    .dataframe thead th {\n",
       "        text-align: right;\n",
       "    }\n",
       "</style>\n",
       "<table border=\"1\" class=\"dataframe\">\n",
       "  <thead>\n",
       "    <tr style=\"text-align: right;\">\n",
       "      <th></th>\n",
       "      <th>CRIM</th>\n",
       "      <th>ZN</th>\n",
       "      <th>INDUS</th>\n",
       "      <th>CHAS</th>\n",
       "      <th>NOX</th>\n",
       "      <th>RM</th>\n",
       "      <th>AGE</th>\n",
       "      <th>DIS</th>\n",
       "      <th>RAD</th>\n",
       "      <th>TAX</th>\n",
       "      <th>PTRATIO</th>\n",
       "      <th>B</th>\n",
       "      <th>LSTAT</th>\n",
       "      <th>MEDV</th>\n",
       "    </tr>\n",
       "  </thead>\n",
       "  <tbody>\n",
       "    <tr>\n",
       "      <th>count</th>\n",
       "      <td>506.000000</td>\n",
       "      <td>506.000000</td>\n",
       "      <td>506.000000</td>\n",
       "      <td>506.000000</td>\n",
       "      <td>506.000000</td>\n",
       "      <td>506.000000</td>\n",
       "      <td>506.000000</td>\n",
       "      <td>506.000000</td>\n",
       "      <td>506.000000</td>\n",
       "      <td>506.000000</td>\n",
       "      <td>506.000000</td>\n",
       "      <td>506.000000</td>\n",
       "      <td>506.000000</td>\n",
       "      <td>506.000000</td>\n",
       "    </tr>\n",
       "    <tr>\n",
       "      <th>mean</th>\n",
       "      <td>3.613524</td>\n",
       "      <td>11.363636</td>\n",
       "      <td>11.136779</td>\n",
       "      <td>0.069170</td>\n",
       "      <td>0.554695</td>\n",
       "      <td>6.284634</td>\n",
       "      <td>68.574901</td>\n",
       "      <td>3.795043</td>\n",
       "      <td>9.549407</td>\n",
       "      <td>408.237154</td>\n",
       "      <td>18.455534</td>\n",
       "      <td>356.674032</td>\n",
       "      <td>12.653063</td>\n",
       "      <td>22.532806</td>\n",
       "    </tr>\n",
       "    <tr>\n",
       "      <th>std</th>\n",
       "      <td>8.601545</td>\n",
       "      <td>23.322453</td>\n",
       "      <td>6.860353</td>\n",
       "      <td>0.253994</td>\n",
       "      <td>0.115878</td>\n",
       "      <td>0.702617</td>\n",
       "      <td>28.148861</td>\n",
       "      <td>2.105710</td>\n",
       "      <td>8.707259</td>\n",
       "      <td>168.537116</td>\n",
       "      <td>2.164946</td>\n",
       "      <td>91.294864</td>\n",
       "      <td>7.141062</td>\n",
       "      <td>9.197104</td>\n",
       "    </tr>\n",
       "    <tr>\n",
       "      <th>min</th>\n",
       "      <td>0.006320</td>\n",
       "      <td>0.000000</td>\n",
       "      <td>0.460000</td>\n",
       "      <td>0.000000</td>\n",
       "      <td>0.385000</td>\n",
       "      <td>3.561000</td>\n",
       "      <td>2.900000</td>\n",
       "      <td>1.129600</td>\n",
       "      <td>1.000000</td>\n",
       "      <td>187.000000</td>\n",
       "      <td>12.600000</td>\n",
       "      <td>0.320000</td>\n",
       "      <td>1.730000</td>\n",
       "      <td>5.000000</td>\n",
       "    </tr>\n",
       "    <tr>\n",
       "      <th>25%</th>\n",
       "      <td>0.082045</td>\n",
       "      <td>0.000000</td>\n",
       "      <td>5.190000</td>\n",
       "      <td>0.000000</td>\n",
       "      <td>0.449000</td>\n",
       "      <td>5.885500</td>\n",
       "      <td>45.025000</td>\n",
       "      <td>2.100175</td>\n",
       "      <td>4.000000</td>\n",
       "      <td>279.000000</td>\n",
       "      <td>17.400000</td>\n",
       "      <td>375.377500</td>\n",
       "      <td>6.950000</td>\n",
       "      <td>17.025000</td>\n",
       "    </tr>\n",
       "    <tr>\n",
       "      <th>50%</th>\n",
       "      <td>0.256510</td>\n",
       "      <td>0.000000</td>\n",
       "      <td>9.690000</td>\n",
       "      <td>0.000000</td>\n",
       "      <td>0.538000</td>\n",
       "      <td>6.208500</td>\n",
       "      <td>77.500000</td>\n",
       "      <td>3.207450</td>\n",
       "      <td>5.000000</td>\n",
       "      <td>330.000000</td>\n",
       "      <td>19.050000</td>\n",
       "      <td>391.440000</td>\n",
       "      <td>11.360000</td>\n",
       "      <td>21.200000</td>\n",
       "    </tr>\n",
       "    <tr>\n",
       "      <th>75%</th>\n",
       "      <td>3.677083</td>\n",
       "      <td>12.500000</td>\n",
       "      <td>18.100000</td>\n",
       "      <td>0.000000</td>\n",
       "      <td>0.624000</td>\n",
       "      <td>6.623500</td>\n",
       "      <td>94.075000</td>\n",
       "      <td>5.188425</td>\n",
       "      <td>24.000000</td>\n",
       "      <td>666.000000</td>\n",
       "      <td>20.200000</td>\n",
       "      <td>396.225000</td>\n",
       "      <td>16.955000</td>\n",
       "      <td>25.000000</td>\n",
       "    </tr>\n",
       "    <tr>\n",
       "      <th>max</th>\n",
       "      <td>88.976200</td>\n",
       "      <td>100.000000</td>\n",
       "      <td>27.740000</td>\n",
       "      <td>1.000000</td>\n",
       "      <td>0.871000</td>\n",
       "      <td>8.780000</td>\n",
       "      <td>100.000000</td>\n",
       "      <td>12.126500</td>\n",
       "      <td>24.000000</td>\n",
       "      <td>711.000000</td>\n",
       "      <td>22.000000</td>\n",
       "      <td>396.900000</td>\n",
       "      <td>37.970000</td>\n",
       "      <td>50.000000</td>\n",
       "    </tr>\n",
       "  </tbody>\n",
       "</table>\n",
       "</div>"
      ],
      "text/plain": [
       "             CRIM          ZN       INDUS        CHAS         NOX          RM  \\\n",
       "count  506.000000  506.000000  506.000000  506.000000  506.000000  506.000000   \n",
       "mean     3.613524   11.363636   11.136779    0.069170    0.554695    6.284634   \n",
       "std      8.601545   23.322453    6.860353    0.253994    0.115878    0.702617   \n",
       "min      0.006320    0.000000    0.460000    0.000000    0.385000    3.561000   \n",
       "25%      0.082045    0.000000    5.190000    0.000000    0.449000    5.885500   \n",
       "50%      0.256510    0.000000    9.690000    0.000000    0.538000    6.208500   \n",
       "75%      3.677083   12.500000   18.100000    0.000000    0.624000    6.623500   \n",
       "max     88.976200  100.000000   27.740000    1.000000    0.871000    8.780000   \n",
       "\n",
       "              AGE         DIS         RAD         TAX     PTRATIO           B  \\\n",
       "count  506.000000  506.000000  506.000000  506.000000  506.000000  506.000000   \n",
       "mean    68.574901    3.795043    9.549407  408.237154   18.455534  356.674032   \n",
       "std     28.148861    2.105710    8.707259  168.537116    2.164946   91.294864   \n",
       "min      2.900000    1.129600    1.000000  187.000000   12.600000    0.320000   \n",
       "25%     45.025000    2.100175    4.000000  279.000000   17.400000  375.377500   \n",
       "50%     77.500000    3.207450    5.000000  330.000000   19.050000  391.440000   \n",
       "75%     94.075000    5.188425   24.000000  666.000000   20.200000  396.225000   \n",
       "max    100.000000   12.126500   24.000000  711.000000   22.000000  396.900000   \n",
       "\n",
       "            LSTAT        MEDV  \n",
       "count  506.000000  506.000000  \n",
       "mean    12.653063   22.532806  \n",
       "std      7.141062    9.197104  \n",
       "min      1.730000    5.000000  \n",
       "25%      6.950000   17.025000  \n",
       "50%     11.360000   21.200000  \n",
       "75%     16.955000   25.000000  \n",
       "max     37.970000   50.000000  "
      ]
     },
     "execution_count": 155,
     "metadata": {},
     "output_type": "execute_result"
    }
   ],
   "source": [
    "df.describe()"
   ]
  },
  {
   "cell_type": "markdown",
   "metadata": {},
   "source": [
    "So we notice here two features that are eactually behaving a bit off, namely \"ZN\" and \"CHAS\". Both of them have min/25 percentile/50 percentile 0 which indicates a high skew. \n",
    "\n",
    "To investigate that further lets plot the histogram/distribution charts of all the features to confirm that observation.\n",
    "Notice here that this is expected because CHAS is a dummy variable that is either 0 or 1 so its actually a categorical one, and ZN is the proportion so its also kind of categorical capped at 100 being a ratio. It could as well be scaled down to \\[0,1)"
   ]
  },
  {
   "cell_type": "code",
   "execution_count": 6,
   "metadata": {
    "ExecuteTime": {
     "end_time": "2020-06-04T06:42:28.257371Z",
     "start_time": "2020-06-04T06:42:26.158721Z"
    }
   },
   "outputs": [
    {
     "data": {
      "text/plain": [
       "array([[<matplotlib.axes._subplots.AxesSubplot object at 0x7f48c98d4f98>,\n",
       "        <matplotlib.axes._subplots.AxesSubplot object at 0x7f48c96784e0>,\n",
       "        <matplotlib.axes._subplots.AxesSubplot object at 0x7f48c969a978>,\n",
       "        <matplotlib.axes._subplots.AxesSubplot object at 0x7f48c9648ef0>],\n",
       "       [<matplotlib.axes._subplots.AxesSubplot object at 0x7f48c96014e0>,\n",
       "        <matplotlib.axes._subplots.AxesSubplot object at 0x7f48c962fa90>,\n",
       "        <matplotlib.axes._subplots.AxesSubplot object at 0x7f48c95ec080>,\n",
       "        <matplotlib.axes._subplots.AxesSubplot object at 0x7f48c96d4c18>],\n",
       "       [<matplotlib.axes._subplots.AxesSubplot object at 0x7f48c96d4c50>,\n",
       "        <matplotlib.axes._subplots.AxesSubplot object at 0x7f48c956c780>,\n",
       "        <matplotlib.axes._subplots.AxesSubplot object at 0x7f48c951ed30>,\n",
       "        <matplotlib.axes._subplots.AxesSubplot object at 0x7f48c94db320>],\n",
       "       [<matplotlib.axes._subplots.AxesSubplot object at 0x7f48c948b8d0>,\n",
       "        <matplotlib.axes._subplots.AxesSubplot object at 0x7f48c943fe80>,\n",
       "        <matplotlib.axes._subplots.AxesSubplot object at 0x7f48c93fc470>,\n",
       "        <matplotlib.axes._subplots.AxesSubplot object at 0x7f48c942ca20>]],\n",
       "      dtype=object)"
      ]
     },
     "execution_count": 6,
     "metadata": {},
     "output_type": "execute_result"
    },
    {
     "data": {
      "image/png": "[encoded data removed]",
      "text/plain": [
       "<Figure size 1440x720 with 16 Axes>"
      ]
     },
     "metadata": {
      "needs_background": "light"
     },
     "output_type": "display_data"
    }
   ],
   "source": [
    "df.hist(figsize=(20,10))"
   ]
  },
  {
   "cell_type": "markdown",
   "metadata": {
    "ExecuteTime": {
     "end_time": "2020-06-03T13:19:54.120457Z",
     "start_time": "2020-06-03T13:19:54.104799Z"
    }
   },
   "source": [
    "That looks already interesting. What can be already seen here is that our target MEDV is almost normal distributed, we have to check on thet weird little bump towards 50(k) there.\n",
    "\n",
    "As predicted ZN and CHAS are not distributed normal at all, and as well B is very skewed towards 400. Whats also noticable is TAX and RAD having these gaps between their max value and the rest of their values.\n",
    "\n",
    "We continue in investigating now step-by-step first the MEDV (target) and then we go ahead and see what other features are worth investigating after seeing there corelation towards the target variable\n"
   ]
  },
  {
   "cell_type": "code",
   "execution_count": 14,
   "metadata": {
    "ExecuteTime": {
     "end_time": "2020-06-04T09:18:30.825826Z",
     "start_time": "2020-06-04T09:18:30.521239Z"
    }
   },
   "outputs": [
    {
     "data": {
      "text/plain": [
       "<matplotlib.axes._subplots.AxesSubplot at 0x7f48c6515e80>"
      ]
     },
     "execution_count": 14,
     "metadata": {},
     "output_type": "execute_result"
    },
    {
     "data": {
      "image/png": "[encoded data removed]",
      "text/plain": [
       "<Figure size 1008x504 with 2 Axes>"
      ]
     },
     "metadata": {
      "needs_background": "light"
     },
     "output_type": "display_data"
    }
   ],
   "source": [
    "plt.figure(figsize=(14, 7))\n",
    "\n",
    "ax = plt.subplot(121)\n",
    "sns.distplot(df[\"MEDV\"], ax=ax)\n",
    "\n",
    "ax = plt.subplot(122)\n",
    "sns.boxplot(df[\"MEDV\"],ax=ax)"
   ]
  },
  {
   "cell_type": "markdown",
   "metadata": {},
   "source": [
    "So here we see a lot of outliers. That is expected because we can see the bell curve hence the normal distribution and there are big outliers towards the 50. \n",
    "\n",
    "So we now investigate the Outliers to see if they are reasonable and are reflecting our problem here. Because it might be that the MEDV is capped at 50 and thus it would explain the jamming at value 50.\n",
    "\n",
    "Let's see if the outliers make sense"
   ]
  },
  {
   "cell_type": "code",
   "execution_count": 22,
   "metadata": {
    "ExecuteTime": {
     "end_time": "2020-06-04T09:34:12.642864Z",
     "start_time": "2020-06-04T09:34:12.611270Z"
    }
   },
   "outputs": [
    {
     "name": "stdout",
     "output_type": "stream",
     "text": [
      "(38, 14)\n"
     ]
    },
    {
     "data": {
      "text/html": [
       "<div>\n",
       "<style scoped>\n",
       "    .dataframe tbody tr th:only-of-type {\n",
       "        vertical-align: middle;\n",
       "    }\n",
       "\n",
       "    .dataframe tbody tr th {\n",
       "        vertical-align: top;\n",
       "    }\n",
       "\n",
       "    .dataframe thead th {\n",
       "        text-align: right;\n",
       "    }\n",
       "</style>\n",
       "<table border=\"1\" class=\"dataframe\">\n",
       "  <thead>\n",
       "    <tr style=\"text-align: right;\">\n",
       "      <th></th>\n",
       "      <th>CRIM</th>\n",
       "      <th>ZN</th>\n",
       "      <th>INDUS</th>\n",
       "      <th>CHAS</th>\n",
       "      <th>NOX</th>\n",
       "      <th>RM</th>\n",
       "      <th>AGE</th>\n",
       "      <th>DIS</th>\n",
       "      <th>RAD</th>\n",
       "      <th>TAX</th>\n",
       "      <th>PTRATIO</th>\n",
       "      <th>B</th>\n",
       "      <th>LSTAT</th>\n",
       "      <th>MEDV</th>\n",
       "    </tr>\n",
       "  </thead>\n",
       "  <tbody>\n",
       "    <tr>\n",
       "      <th>97</th>\n",
       "      <td>0.12083</td>\n",
       "      <td>0.0</td>\n",
       "      <td>2.89</td>\n",
       "      <td>0.0</td>\n",
       "      <td>0.4450</td>\n",
       "      <td>8.069</td>\n",
       "      <td>76.0</td>\n",
       "      <td>3.4952</td>\n",
       "      <td>2.0</td>\n",
       "      <td>276.0</td>\n",
       "      <td>18.0</td>\n",
       "      <td>396.90</td>\n",
       "      <td>4.21</td>\n",
       "      <td>38.7</td>\n",
       "    </tr>\n",
       "    <tr>\n",
       "      <th>98</th>\n",
       "      <td>0.08187</td>\n",
       "      <td>0.0</td>\n",
       "      <td>2.89</td>\n",
       "      <td>0.0</td>\n",
       "      <td>0.4450</td>\n",
       "      <td>7.820</td>\n",
       "      <td>36.9</td>\n",
       "      <td>3.4952</td>\n",
       "      <td>2.0</td>\n",
       "      <td>276.0</td>\n",
       "      <td>18.0</td>\n",
       "      <td>393.53</td>\n",
       "      <td>3.57</td>\n",
       "      <td>43.8</td>\n",
       "    </tr>\n",
       "    <tr>\n",
       "      <th>157</th>\n",
       "      <td>1.22358</td>\n",
       "      <td>0.0</td>\n",
       "      <td>19.58</td>\n",
       "      <td>0.0</td>\n",
       "      <td>0.6050</td>\n",
       "      <td>6.943</td>\n",
       "      <td>97.4</td>\n",
       "      <td>1.8773</td>\n",
       "      <td>5.0</td>\n",
       "      <td>403.0</td>\n",
       "      <td>14.7</td>\n",
       "      <td>363.43</td>\n",
       "      <td>4.59</td>\n",
       "      <td>41.3</td>\n",
       "    </tr>\n",
       "    <tr>\n",
       "      <th>161</th>\n",
       "      <td>1.46336</td>\n",
       "      <td>0.0</td>\n",
       "      <td>19.58</td>\n",
       "      <td>0.0</td>\n",
       "      <td>0.6050</td>\n",
       "      <td>7.489</td>\n",
       "      <td>90.8</td>\n",
       "      <td>1.9709</td>\n",
       "      <td>5.0</td>\n",
       "      <td>403.0</td>\n",
       "      <td>14.7</td>\n",
       "      <td>374.43</td>\n",
       "      <td>1.73</td>\n",
       "      <td>50.0</td>\n",
       "    </tr>\n",
       "    <tr>\n",
       "      <th>162</th>\n",
       "      <td>1.83377</td>\n",
       "      <td>0.0</td>\n",
       "      <td>19.58</td>\n",
       "      <td>1.0</td>\n",
       "      <td>0.6050</td>\n",
       "      <td>7.802</td>\n",
       "      <td>98.2</td>\n",
       "      <td>2.0407</td>\n",
       "      <td>5.0</td>\n",
       "      <td>403.0</td>\n",
       "      <td>14.7</td>\n",
       "      <td>389.61</td>\n",
       "      <td>1.92</td>\n",
       "      <td>50.0</td>\n",
       "    </tr>\n",
       "    <tr>\n",
       "      <th>163</th>\n",
       "      <td>1.51902</td>\n",
       "      <td>0.0</td>\n",
       "      <td>19.58</td>\n",
       "      <td>1.0</td>\n",
       "      <td>0.6050</td>\n",
       "      <td>8.375</td>\n",
       "      <td>93.9</td>\n",
       "      <td>2.1620</td>\n",
       "      <td>5.0</td>\n",
       "      <td>403.0</td>\n",
       "      <td>14.7</td>\n",
       "      <td>388.45</td>\n",
       "      <td>3.32</td>\n",
       "      <td>50.0</td>\n",
       "    </tr>\n",
       "    <tr>\n",
       "      <th>166</th>\n",
       "      <td>2.01019</td>\n",
       "      <td>0.0</td>\n",
       "      <td>19.58</td>\n",
       "      <td>0.0</td>\n",
       "      <td>0.6050</td>\n",
       "      <td>7.929</td>\n",
       "      <td>96.2</td>\n",
       "      <td>2.0459</td>\n",
       "      <td>5.0</td>\n",
       "      <td>403.0</td>\n",
       "      <td>14.7</td>\n",
       "      <td>369.30</td>\n",
       "      <td>3.70</td>\n",
       "      <td>50.0</td>\n",
       "    </tr>\n",
       "    <tr>\n",
       "      <th>179</th>\n",
       "      <td>0.05780</td>\n",
       "      <td>0.0</td>\n",
       "      <td>2.46</td>\n",
       "      <td>0.0</td>\n",
       "      <td>0.4880</td>\n",
       "      <td>6.980</td>\n",
       "      <td>58.4</td>\n",
       "      <td>2.8290</td>\n",
       "      <td>3.0</td>\n",
       "      <td>193.0</td>\n",
       "      <td>17.8</td>\n",
       "      <td>396.90</td>\n",
       "      <td>5.04</td>\n",
       "      <td>37.2</td>\n",
       "    </tr>\n",
       "    <tr>\n",
       "      <th>180</th>\n",
       "      <td>0.06588</td>\n",
       "      <td>0.0</td>\n",
       "      <td>2.46</td>\n",
       "      <td>0.0</td>\n",
       "      <td>0.4880</td>\n",
       "      <td>7.765</td>\n",
       "      <td>83.3</td>\n",
       "      <td>2.7410</td>\n",
       "      <td>3.0</td>\n",
       "      <td>193.0</td>\n",
       "      <td>17.8</td>\n",
       "      <td>395.56</td>\n",
       "      <td>7.56</td>\n",
       "      <td>39.8</td>\n",
       "    </tr>\n",
       "    <tr>\n",
       "      <th>182</th>\n",
       "      <td>0.09103</td>\n",
       "      <td>0.0</td>\n",
       "      <td>2.46</td>\n",
       "      <td>0.0</td>\n",
       "      <td>0.4880</td>\n",
       "      <td>7.155</td>\n",
       "      <td>92.2</td>\n",
       "      <td>2.7006</td>\n",
       "      <td>3.0</td>\n",
       "      <td>193.0</td>\n",
       "      <td>17.8</td>\n",
       "      <td>394.12</td>\n",
       "      <td>4.82</td>\n",
       "      <td>37.9</td>\n",
       "    </tr>\n",
       "    <tr>\n",
       "      <th>186</th>\n",
       "      <td>0.05602</td>\n",
       "      <td>0.0</td>\n",
       "      <td>2.46</td>\n",
       "      <td>0.0</td>\n",
       "      <td>0.4880</td>\n",
       "      <td>7.831</td>\n",
       "      <td>53.6</td>\n",
       "      <td>3.1992</td>\n",
       "      <td>3.0</td>\n",
       "      <td>193.0</td>\n",
       "      <td>17.8</td>\n",
       "      <td>392.63</td>\n",
       "      <td>4.45</td>\n",
       "      <td>50.0</td>\n",
       "    </tr>\n",
       "    <tr>\n",
       "      <th>190</th>\n",
       "      <td>0.09068</td>\n",
       "      <td>45.0</td>\n",
       "      <td>3.44</td>\n",
       "      <td>0.0</td>\n",
       "      <td>0.4370</td>\n",
       "      <td>6.951</td>\n",
       "      <td>21.5</td>\n",
       "      <td>6.4798</td>\n",
       "      <td>5.0</td>\n",
       "      <td>398.0</td>\n",
       "      <td>15.2</td>\n",
       "      <td>377.68</td>\n",
       "      <td>5.10</td>\n",
       "      <td>37.0</td>\n",
       "    </tr>\n",
       "    <tr>\n",
       "      <th>195</th>\n",
       "      <td>0.01381</td>\n",
       "      <td>80.0</td>\n",
       "      <td>0.46</td>\n",
       "      <td>0.0</td>\n",
       "      <td>0.4220</td>\n",
       "      <td>7.875</td>\n",
       "      <td>32.0</td>\n",
       "      <td>5.6484</td>\n",
       "      <td>4.0</td>\n",
       "      <td>255.0</td>\n",
       "      <td>14.4</td>\n",
       "      <td>394.23</td>\n",
       "      <td>2.97</td>\n",
       "      <td>50.0</td>\n",
       "    </tr>\n",
       "    <tr>\n",
       "      <th>202</th>\n",
       "      <td>0.02177</td>\n",
       "      <td>82.5</td>\n",
       "      <td>2.03</td>\n",
       "      <td>0.0</td>\n",
       "      <td>0.4150</td>\n",
       "      <td>7.610</td>\n",
       "      <td>15.7</td>\n",
       "      <td>6.2700</td>\n",
       "      <td>2.0</td>\n",
       "      <td>348.0</td>\n",
       "      <td>14.7</td>\n",
       "      <td>395.38</td>\n",
       "      <td>3.11</td>\n",
       "      <td>42.3</td>\n",
       "    </tr>\n",
       "    <tr>\n",
       "      <th>203</th>\n",
       "      <td>0.03510</td>\n",
       "      <td>95.0</td>\n",
       "      <td>2.68</td>\n",
       "      <td>0.0</td>\n",
       "      <td>0.4161</td>\n",
       "      <td>7.853</td>\n",
       "      <td>33.2</td>\n",
       "      <td>5.1180</td>\n",
       "      <td>4.0</td>\n",
       "      <td>224.0</td>\n",
       "      <td>14.7</td>\n",
       "      <td>392.78</td>\n",
       "      <td>3.81</td>\n",
       "      <td>48.5</td>\n",
       "    </tr>\n",
       "    <tr>\n",
       "      <th>204</th>\n",
       "      <td>0.02009</td>\n",
       "      <td>95.0</td>\n",
       "      <td>2.68</td>\n",
       "      <td>0.0</td>\n",
       "      <td>0.4161</td>\n",
       "      <td>8.034</td>\n",
       "      <td>31.9</td>\n",
       "      <td>5.1180</td>\n",
       "      <td>4.0</td>\n",
       "      <td>224.0</td>\n",
       "      <td>14.7</td>\n",
       "      <td>390.55</td>\n",
       "      <td>2.88</td>\n",
       "      <td>50.0</td>\n",
       "    </tr>\n",
       "    <tr>\n",
       "      <th>224</th>\n",
       "      <td>0.31533</td>\n",
       "      <td>0.0</td>\n",
       "      <td>6.20</td>\n",
       "      <td>0.0</td>\n",
       "      <td>0.5040</td>\n",
       "      <td>8.266</td>\n",
       "      <td>78.3</td>\n",
       "      <td>2.8944</td>\n",
       "      <td>8.0</td>\n",
       "      <td>307.0</td>\n",
       "      <td>17.4</td>\n",
       "      <td>385.05</td>\n",
       "      <td>4.14</td>\n",
       "      <td>44.8</td>\n",
       "    </tr>\n",
       "    <tr>\n",
       "      <th>225</th>\n",
       "      <td>0.52693</td>\n",
       "      <td>0.0</td>\n",
       "      <td>6.20</td>\n",
       "      <td>0.0</td>\n",
       "      <td>0.5040</td>\n",
       "      <td>8.725</td>\n",
       "      <td>83.0</td>\n",
       "      <td>2.8944</td>\n",
       "      <td>8.0</td>\n",
       "      <td>307.0</td>\n",
       "      <td>17.4</td>\n",
       "      <td>382.00</td>\n",
       "      <td>4.63</td>\n",
       "      <td>50.0</td>\n",
       "    </tr>\n",
       "    <tr>\n",
       "      <th>226</th>\n",
       "      <td>0.38214</td>\n",
       "      <td>0.0</td>\n",
       "      <td>6.20</td>\n",
       "      <td>0.0</td>\n",
       "      <td>0.5040</td>\n",
       "      <td>8.040</td>\n",
       "      <td>86.5</td>\n",
       "      <td>3.2157</td>\n",
       "      <td>8.0</td>\n",
       "      <td>307.0</td>\n",
       "      <td>17.4</td>\n",
       "      <td>387.38</td>\n",
       "      <td>3.13</td>\n",
       "      <td>37.6</td>\n",
       "    </tr>\n",
       "    <tr>\n",
       "      <th>228</th>\n",
       "      <td>0.29819</td>\n",
       "      <td>0.0</td>\n",
       "      <td>6.20</td>\n",
       "      <td>0.0</td>\n",
       "      <td>0.5040</td>\n",
       "      <td>7.686</td>\n",
       "      <td>17.0</td>\n",
       "      <td>3.3751</td>\n",
       "      <td>8.0</td>\n",
       "      <td>307.0</td>\n",
       "      <td>17.4</td>\n",
       "      <td>377.51</td>\n",
       "      <td>3.92</td>\n",
       "      <td>46.7</td>\n",
       "    </tr>\n",
       "    <tr>\n",
       "      <th>232</th>\n",
       "      <td>0.57529</td>\n",
       "      <td>0.0</td>\n",
       "      <td>6.20</td>\n",
       "      <td>0.0</td>\n",
       "      <td>0.5070</td>\n",
       "      <td>8.337</td>\n",
       "      <td>73.3</td>\n",
       "      <td>3.8384</td>\n",
       "      <td>8.0</td>\n",
       "      <td>307.0</td>\n",
       "      <td>17.4</td>\n",
       "      <td>385.91</td>\n",
       "      <td>2.47</td>\n",
       "      <td>41.7</td>\n",
       "    </tr>\n",
       "    <tr>\n",
       "      <th>233</th>\n",
       "      <td>0.33147</td>\n",
       "      <td>0.0</td>\n",
       "      <td>6.20</td>\n",
       "      <td>0.0</td>\n",
       "      <td>0.5070</td>\n",
       "      <td>8.247</td>\n",
       "      <td>70.4</td>\n",
       "      <td>3.6519</td>\n",
       "      <td>8.0</td>\n",
       "      <td>307.0</td>\n",
       "      <td>17.4</td>\n",
       "      <td>378.95</td>\n",
       "      <td>3.95</td>\n",
       "      <td>48.3</td>\n",
       "    </tr>\n",
       "    <tr>\n",
       "      <th>253</th>\n",
       "      <td>0.36894</td>\n",
       "      <td>22.0</td>\n",
       "      <td>5.86</td>\n",
       "      <td>0.0</td>\n",
       "      <td>0.4310</td>\n",
       "      <td>8.259</td>\n",
       "      <td>8.4</td>\n",
       "      <td>8.9067</td>\n",
       "      <td>7.0</td>\n",
       "      <td>330.0</td>\n",
       "      <td>19.1</td>\n",
       "      <td>396.90</td>\n",
       "      <td>3.54</td>\n",
       "      <td>42.8</td>\n",
       "    </tr>\n",
       "    <tr>\n",
       "      <th>256</th>\n",
       "      <td>0.01538</td>\n",
       "      <td>90.0</td>\n",
       "      <td>3.75</td>\n",
       "      <td>0.0</td>\n",
       "      <td>0.3940</td>\n",
       "      <td>7.454</td>\n",
       "      <td>34.2</td>\n",
       "      <td>6.3361</td>\n",
       "      <td>3.0</td>\n",
       "      <td>244.0</td>\n",
       "      <td>15.9</td>\n",
       "      <td>386.34</td>\n",
       "      <td>3.11</td>\n",
       "      <td>44.0</td>\n",
       "    </tr>\n",
       "    <tr>\n",
       "      <th>257</th>\n",
       "      <td>0.61154</td>\n",
       "      <td>20.0</td>\n",
       "      <td>3.97</td>\n",
       "      <td>0.0</td>\n",
       "      <td>0.6470</td>\n",
       "      <td>8.704</td>\n",
       "      <td>86.9</td>\n",
       "      <td>1.8010</td>\n",
       "      <td>5.0</td>\n",
       "      <td>264.0</td>\n",
       "      <td>13.0</td>\n",
       "      <td>389.70</td>\n",
       "      <td>5.12</td>\n",
       "      <td>50.0</td>\n",
       "    </tr>\n",
       "    <tr>\n",
       "      <th>261</th>\n",
       "      <td>0.53412</td>\n",
       "      <td>20.0</td>\n",
       "      <td>3.97</td>\n",
       "      <td>0.0</td>\n",
       "      <td>0.6470</td>\n",
       "      <td>7.520</td>\n",
       "      <td>89.4</td>\n",
       "      <td>2.1398</td>\n",
       "      <td>5.0</td>\n",
       "      <td>264.0</td>\n",
       "      <td>13.0</td>\n",
       "      <td>388.37</td>\n",
       "      <td>7.26</td>\n",
       "      <td>43.1</td>\n",
       "    </tr>\n",
       "    <tr>\n",
       "      <th>262</th>\n",
       "      <td>0.52014</td>\n",
       "      <td>20.0</td>\n",
       "      <td>3.97</td>\n",
       "      <td>0.0</td>\n",
       "      <td>0.6470</td>\n",
       "      <td>8.398</td>\n",
       "      <td>91.5</td>\n",
       "      <td>2.2885</td>\n",
       "      <td>5.0</td>\n",
       "      <td>264.0</td>\n",
       "      <td>13.0</td>\n",
       "      <td>386.86</td>\n",
       "      <td>5.91</td>\n",
       "      <td>48.8</td>\n",
       "    </tr>\n",
       "    <tr>\n",
       "      <th>267</th>\n",
       "      <td>0.57834</td>\n",
       "      <td>20.0</td>\n",
       "      <td>3.97</td>\n",
       "      <td>0.0</td>\n",
       "      <td>0.5750</td>\n",
       "      <td>8.297</td>\n",
       "      <td>67.0</td>\n",
       "      <td>2.4216</td>\n",
       "      <td>5.0</td>\n",
       "      <td>264.0</td>\n",
       "      <td>13.0</td>\n",
       "      <td>384.54</td>\n",
       "      <td>7.44</td>\n",
       "      <td>50.0</td>\n",
       "    </tr>\n",
       "    <tr>\n",
       "      <th>268</th>\n",
       "      <td>0.54050</td>\n",
       "      <td>20.0</td>\n",
       "      <td>3.97</td>\n",
       "      <td>0.0</td>\n",
       "      <td>0.5750</td>\n",
       "      <td>7.470</td>\n",
       "      <td>52.6</td>\n",
       "      <td>2.8720</td>\n",
       "      <td>5.0</td>\n",
       "      <td>264.0</td>\n",
       "      <td>13.0</td>\n",
       "      <td>390.30</td>\n",
       "      <td>3.16</td>\n",
       "      <td>43.5</td>\n",
       "    </tr>\n",
       "    <tr>\n",
       "      <th>280</th>\n",
       "      <td>0.03578</td>\n",
       "      <td>20.0</td>\n",
       "      <td>3.33</td>\n",
       "      <td>0.0</td>\n",
       "      <td>0.4429</td>\n",
       "      <td>7.820</td>\n",
       "      <td>64.5</td>\n",
       "      <td>4.6947</td>\n",
       "      <td>5.0</td>\n",
       "      <td>216.0</td>\n",
       "      <td>14.9</td>\n",
       "      <td>387.31</td>\n",
       "      <td>3.76</td>\n",
       "      <td>45.4</td>\n",
       "    </tr>\n",
       "    <tr>\n",
       "      <th>282</th>\n",
       "      <td>0.06129</td>\n",
       "      <td>20.0</td>\n",
       "      <td>3.33</td>\n",
       "      <td>1.0</td>\n",
       "      <td>0.4429</td>\n",
       "      <td>7.645</td>\n",
       "      <td>49.7</td>\n",
       "      <td>5.2119</td>\n",
       "      <td>5.0</td>\n",
       "      <td>216.0</td>\n",
       "      <td>14.9</td>\n",
       "      <td>377.07</td>\n",
       "      <td>3.01</td>\n",
       "      <td>46.0</td>\n",
       "    </tr>\n",
       "    <tr>\n",
       "      <th>283</th>\n",
       "      <td>0.01501</td>\n",
       "      <td>90.0</td>\n",
       "      <td>1.21</td>\n",
       "      <td>1.0</td>\n",
       "      <td>0.4010</td>\n",
       "      <td>7.923</td>\n",
       "      <td>24.8</td>\n",
       "      <td>5.8850</td>\n",
       "      <td>1.0</td>\n",
       "      <td>198.0</td>\n",
       "      <td>13.6</td>\n",
       "      <td>395.52</td>\n",
       "      <td>3.16</td>\n",
       "      <td>50.0</td>\n",
       "    </tr>\n",
       "    <tr>\n",
       "      <th>291</th>\n",
       "      <td>0.07886</td>\n",
       "      <td>80.0</td>\n",
       "      <td>4.95</td>\n",
       "      <td>0.0</td>\n",
       "      <td>0.4110</td>\n",
       "      <td>7.148</td>\n",
       "      <td>27.7</td>\n",
       "      <td>5.1167</td>\n",
       "      <td>4.0</td>\n",
       "      <td>245.0</td>\n",
       "      <td>19.2</td>\n",
       "      <td>396.90</td>\n",
       "      <td>3.56</td>\n",
       "      <td>37.3</td>\n",
       "    </tr>\n",
       "    <tr>\n",
       "      <th>368</th>\n",
       "      <td>4.89822</td>\n",
       "      <td>0.0</td>\n",
       "      <td>18.10</td>\n",
       "      <td>0.0</td>\n",
       "      <td>0.6310</td>\n",
       "      <td>4.970</td>\n",
       "      <td>100.0</td>\n",
       "      <td>1.3325</td>\n",
       "      <td>24.0</td>\n",
       "      <td>666.0</td>\n",
       "      <td>20.2</td>\n",
       "      <td>375.52</td>\n",
       "      <td>3.26</td>\n",
       "      <td>50.0</td>\n",
       "    </tr>\n",
       "    <tr>\n",
       "      <th>369</th>\n",
       "      <td>5.66998</td>\n",
       "      <td>0.0</td>\n",
       "      <td>18.10</td>\n",
       "      <td>1.0</td>\n",
       "      <td>0.6310</td>\n",
       "      <td>6.683</td>\n",
       "      <td>96.8</td>\n",
       "      <td>1.3567</td>\n",
       "      <td>24.0</td>\n",
       "      <td>666.0</td>\n",
       "      <td>20.2</td>\n",
       "      <td>375.33</td>\n",
       "      <td>3.73</td>\n",
       "      <td>50.0</td>\n",
       "    </tr>\n",
       "    <tr>\n",
       "      <th>370</th>\n",
       "      <td>6.53876</td>\n",
       "      <td>0.0</td>\n",
       "      <td>18.10</td>\n",
       "      <td>1.0</td>\n",
       "      <td>0.6310</td>\n",
       "      <td>7.016</td>\n",
       "      <td>97.5</td>\n",
       "      <td>1.2024</td>\n",
       "      <td>24.0</td>\n",
       "      <td>666.0</td>\n",
       "      <td>20.2</td>\n",
       "      <td>392.05</td>\n",
       "      <td>2.96</td>\n",
       "      <td>50.0</td>\n",
       "    </tr>\n",
       "    <tr>\n",
       "      <th>371</th>\n",
       "      <td>9.23230</td>\n",
       "      <td>0.0</td>\n",
       "      <td>18.10</td>\n",
       "      <td>0.0</td>\n",
       "      <td>0.6310</td>\n",
       "      <td>6.216</td>\n",
       "      <td>100.0</td>\n",
       "      <td>1.1691</td>\n",
       "      <td>24.0</td>\n",
       "      <td>666.0</td>\n",
       "      <td>20.2</td>\n",
       "      <td>366.15</td>\n",
       "      <td>9.53</td>\n",
       "      <td>50.0</td>\n",
       "    </tr>\n",
       "    <tr>\n",
       "      <th>372</th>\n",
       "      <td>8.26725</td>\n",
       "      <td>0.0</td>\n",
       "      <td>18.10</td>\n",
       "      <td>1.0</td>\n",
       "      <td>0.6680</td>\n",
       "      <td>5.875</td>\n",
       "      <td>89.6</td>\n",
       "      <td>1.1296</td>\n",
       "      <td>24.0</td>\n",
       "      <td>666.0</td>\n",
       "      <td>20.2</td>\n",
       "      <td>347.88</td>\n",
       "      <td>8.88</td>\n",
       "      <td>50.0</td>\n",
       "    </tr>\n",
       "  </tbody>\n",
       "</table>\n",
       "</div>"
      ],
      "text/plain": [
       "        CRIM    ZN  INDUS  CHAS     NOX     RM    AGE     DIS   RAD    TAX  \\\n",
       "97   0.12083   0.0   2.89   0.0  0.4450  8.069   76.0  3.4952   2.0  276.0   \n",
       "98   0.08187   0.0   2.89   0.0  0.4450  7.820   36.9  3.4952   2.0  276.0   \n",
       "157  1.22358   0.0  19.58   0.0  0.6050  6.943   97.4  1.8773   5.0  403.0   \n",
       "161  1.46336   0.0  19.58   0.0  0.6050  7.489   90.8  1.9709   5.0  403.0   \n",
       "162  1.83377   0.0  19.58   1.0  0.6050  7.802   98.2  2.0407   5.0  403.0   \n",
       "163  1.51902   0.0  19.58   1.0  0.6050  8.375   93.9  2.1620   5.0  403.0   \n",
       "166  2.01019   0.0  19.58   0.0  0.6050  7.929   96.2  2.0459   5.0  403.0   \n",
       "179  0.05780   0.0   2.46   0.0  0.4880  6.980   58.4  2.8290   3.0  193.0   \n",
       "180  0.06588   0.0   2.46   0.0  0.4880  7.765   83.3  2.7410   3.0  193.0   \n",
       "182  0.09103   0.0   2.46   0.0  0.4880  7.155   92.2  2.7006   3.0  193.0   \n",
       "186  0.05602   0.0   2.46   0.0  0.4880  7.831   53.6  3.1992   3.0  193.0   \n",
       "190  0.09068  45.0   3.44   0.0  0.4370  6.951   21.5  6.4798   5.0  398.0   \n",
       "195  0.01381  80.0   0.46   0.0  0.4220  7.875   32.0  5.6484   4.0  255.0   \n",
       "202  0.02177  82.5   2.03   0.0  0.4150  7.610   15.7  6.2700   2.0  348.0   \n",
       "203  0.03510  95.0   2.68   0.0  0.4161  7.853   33.2  5.1180   4.0  224.0   \n",
       "204  0.02009  95.0   2.68   0.0  0.4161  8.034   31.9  5.1180   4.0  224.0   \n",
       "224  0.31533   0.0   6.20   0.0  0.5040  8.266   78.3  2.8944   8.0  307.0   \n",
       "225  0.52693   0.0   6.20   0.0  0.5040  8.725   83.0  2.8944   8.0  307.0   \n",
       "226  0.38214   0.0   6.20   0.0  0.5040  8.040   86.5  3.2157   8.0  307.0   \n",
       "228  0.29819   0.0   6.20   0.0  0.5040  7.686   17.0  3.3751   8.0  307.0   \n",
       "232  0.57529   0.0   6.20   0.0  0.5070  8.337   73.3  3.8384   8.0  307.0   \n",
       "233  0.33147   0.0   6.20   0.0  0.5070  8.247   70.4  3.6519   8.0  307.0   \n",
       "253  0.36894  22.0   5.86   0.0  0.4310  8.259    8.4  8.9067   7.0  330.0   \n",
       "256  0.01538  90.0   3.75   0.0  0.3940  7.454   34.2  6.3361   3.0  244.0   \n",
       "257  0.61154  20.0   3.97   0.0  0.6470  8.704   86.9  1.8010   5.0  264.0   \n",
       "261  0.53412  20.0   3.97   0.0  0.6470  7.520   89.4  2.1398   5.0  264.0   \n",
       "262  0.52014  20.0   3.97   0.0  0.6470  8.398   91.5  2.2885   5.0  264.0   \n",
       "267  0.57834  20.0   3.97   0.0  0.5750  8.297   67.0  2.4216   5.0  264.0   \n",
       "268  0.54050  20.0   3.97   0.0  0.5750  7.470   52.6  2.8720   5.0  264.0   \n",
       "280  0.03578  20.0   3.33   0.0  0.4429  7.820   64.5  4.6947   5.0  216.0   \n",
       "282  0.06129  20.0   3.33   1.0  0.4429  7.645   49.7  5.2119   5.0  216.0   \n",
       "283  0.01501  90.0   1.21   1.0  0.4010  7.923   24.8  5.8850   1.0  198.0   \n",
       "291  0.07886  80.0   4.95   0.0  0.4110  7.148   27.7  5.1167   4.0  245.0   \n",
       "368  4.89822   0.0  18.10   0.0  0.6310  4.970  100.0  1.3325  24.0  666.0   \n",
       "369  5.66998   0.0  18.10   1.0  0.6310  6.683   96.8  1.3567  24.0  666.0   \n",
       "370  6.53876   0.0  18.10   1.0  0.6310  7.016   97.5  1.2024  24.0  666.0   \n",
       "371  9.23230   0.0  18.10   0.0  0.6310  6.216  100.0  1.1691  24.0  666.0   \n",
       "372  8.26725   0.0  18.10   1.0  0.6680  5.875   89.6  1.1296  24.0  666.0   \n",
       "\n",
       "     PTRATIO       B  LSTAT  MEDV  \n",
       "97      18.0  396.90   4.21  38.7  \n",
       "98      18.0  393.53   3.57  43.8  \n",
       "157     14.7  363.43   4.59  41.3  \n",
       "161     14.7  374.43   1.73  50.0  \n",
       "162     14.7  389.61   1.92  50.0  \n",
       "163     14.7  388.45   3.32  50.0  \n",
       "166     14.7  369.30   3.70  50.0  \n",
       "179     17.8  396.90   5.04  37.2  \n",
       "180     17.8  395.56   7.56  39.8  \n",
       "182     17.8  394.12   4.82  37.9  \n",
       "186     17.8  392.63   4.45  50.0  \n",
       "190     15.2  377.68   5.10  37.0  \n",
       "195     14.4  394.23   2.97  50.0  \n",
       "202     14.7  395.38   3.11  42.3  \n",
       "203     14.7  392.78   3.81  48.5  \n",
       "204     14.7  390.55   2.88  50.0  \n",
       "224     17.4  385.05   4.14  44.8  \n",
       "225     17.4  382.00   4.63  50.0  \n",
       "226     17.4  387.38   3.13  37.6  \n",
       "228     17.4  377.51   3.92  46.7  \n",
       "232     17.4  385.91   2.47  41.7  \n",
       "233     17.4  378.95   3.95  48.3  \n",
       "253     19.1  396.90   3.54  42.8  \n",
       "256     15.9  386.34   3.11  44.0  \n",
       "257     13.0  389.70   5.12  50.0  \n",
       "261     13.0  388.37   7.26  43.1  \n",
       "262     13.0  386.86   5.91  48.8  \n",
       "267     13.0  384.54   7.44  50.0  \n",
       "268     13.0  390.30   3.16  43.5  \n",
       "280     14.9  387.31   3.76  45.4  \n",
       "282     14.9  377.07   3.01  46.0  \n",
       "283     13.6  395.52   3.16  50.0  \n",
       "291     19.2  396.90   3.56  37.3  \n",
       "368     20.2  375.52   3.26  50.0  \n",
       "369     20.2  375.33   3.73  50.0  \n",
       "370     20.2  392.05   2.96  50.0  \n",
       "371     20.2  366.15   9.53  50.0  \n",
       "372     20.2  347.88   8.88  50.0  "
      ]
     },
     "execution_count": 22,
     "metadata": {},
     "output_type": "execute_result"
    }
   ],
   "source": [
    "irq = df[\"MEDV\"].quantile(.75) - df[\"MEDV\"].quantile(.25)\n",
    "upperWhiskerBound = df[\"MEDV\"].quantile(.75) + 1.5 * irq\n",
    "\n",
    "df_outliers = df[df[\"MEDV\"] > upperWhiskerBound]\n",
    "\n",
    "print(df_outliers.shape)\n",
    "\n",
    "df_outliers\n",
    "\n",
    "\n"
   ]
  },
  {
   "cell_type": "markdown",
   "metadata": {},
   "source": [
    "Observations:\n",
    "* outliers rooms range from little to many\n",
    "* tax also ranges from low to high\n",
    "\n",
    "Both if it is unusal so lets again compare distributions of outliers vs distribution of whole dataset"
   ]
  },
  {
   "cell_type": "code",
   "execution_count": 26,
   "metadata": {
    "ExecuteTime": {
     "end_time": "2020-06-04T09:35:30.754953Z",
     "start_time": "2020-06-04T09:35:30.405456Z"
    }
   },
   "outputs": [
    {
     "data": {
      "text/plain": [
       "<matplotlib.axes._subplots.AxesSubplot at 0x7f48c4131a20>"
      ]
     },
     "execution_count": 26,
     "metadata": {},
     "output_type": "execute_result"
    },
    {
     "data": {
      "image/png": "[encoded data removed]",
      "text/plain": [
       "<Figure size 1008x504 with 4 Axes>"
      ]
     },
     "metadata": {
      "needs_background": "light"
     },
     "output_type": "display_data"
    }
   ],
   "source": [
    "plt.figure(figsize=(14, 7))\n",
    "\n",
    "ax=plt.subplot(221)\n",
    "sns.boxplot(df[\"TAX\"],ax=ax)\n",
    "\n",
    "ax=plt.subplot(222)\n",
    "sns.boxplot(df_outliers[\"TAX\"],ax=ax)\n",
    "\n",
    "ax=plt.subplot(223)\n",
    "sns.boxplot(df[\"RM\"],ax=ax)\n",
    "\n",
    "ax=plt.subplot(224)\n",
    "sns.boxplot(df_outliers[\"RM\"],ax=ax)\n",
    "\n"
   ]
  },
  {
   "cell_type": "markdown",
   "metadata": {},
   "source": [
    "The Boxplots for outliers are on the right.\n",
    "\n",
    "We can see that for TAX it looks weirdly cut off and also it ranges almost the same as the whole dataset just missing the higher taxes which seems unusal for buildings that have the highest prices.\n",
    "\n",
    "Furtheremore the boxplot of the rooms is indeed giving as a higher median which is expected from a higher house price, but still it has houses in with only 5 rooms which seems to be odd when looking at the most expensive mansions.\n",
    "\n",
    "Conclusion:\n",
    "\n",
    "We will drop all the observations that have outliers in the target variable because it seems not make sense and might disturb our model."
   ]
  },
  {
   "cell_type": "code",
   "execution_count": 31,
   "metadata": {
    "ExecuteTime": {
     "end_time": "2020-06-04T09:44:04.050907Z",
     "start_time": "2020-06-04T09:44:04.045742Z"
    }
   },
   "outputs": [],
   "source": [
    "df = df[df[\"MEDV\"] <= upperWhiskerBound]\n"
   ]
  },
  {
   "cell_type": "markdown",
   "metadata": {},
   "source": [
    "Next up is TAX. We remembered that it looks odd, lets have a look again at boxplot and distplot to see whats going on here."
   ]
  },
  {
   "cell_type": "code",
   "execution_count": 33,
   "metadata": {
    "ExecuteTime": {
     "end_time": "2020-06-04T09:46:41.356553Z",
     "start_time": "2020-06-04T09:46:41.002175Z"
    }
   },
   "outputs": [
    {
     "data": {
      "text/plain": [
       "<matplotlib.axes._subplots.AxesSubplot at 0x7f48c3466080>"
      ]
     },
     "execution_count": 33,
     "metadata": {},
     "output_type": "execute_result"
    },
    {
     "data": {
      "image/png": "[encoded data removed]",
      "text/plain": [
       "<Figure size 1080x360 with 2 Axes>"
      ]
     },
     "metadata": {
      "needs_background": "light"
     },
     "output_type": "display_data"
    }
   ],
   "source": [
    "plt.figure(figsize=(15,5))\n",
    "\n",
    "ax = plt.subplot(121)\n",
    "sns.boxplot(df[\"TAX\"],ax=ax)\n",
    "\n",
    "ax = plt.subplot(122)\n",
    "sns.distplot(df[\"TAX\"],ax=ax)"
   ]
  },
  {
   "cell_type": "markdown",
   "metadata": {},
   "source": [
    "Although the box plot seem to indicate that there are no outliers, looking at the distplot reveals that there seems to be a normal distribution with a huge set of outliers at around 650. \n",
    "\n",
    "Next step is to isolate these outliers lets say all values > 600 and investigate on what is going on."
   ]
  },
  {
   "cell_type": "code",
   "execution_count": 38,
   "metadata": {
    "ExecuteTime": {
     "end_time": "2020-06-04T09:49:32.813598Z",
     "start_time": "2020-06-04T09:49:32.766455Z"
    }
   },
   "outputs": [
    {
     "name": "stdout",
     "output_type": "stream",
     "text": [
      "[666. 711.]\n"
     ]
    },
    {
     "data": {
      "text/html": [
       "<div>\n",
       "<style scoped>\n",
       "    .dataframe tbody tr th:only-of-type {\n",
       "        vertical-align: middle;\n",
       "    }\n",
       "\n",
       "    .dataframe tbody tr th {\n",
       "        vertical-align: top;\n",
       "    }\n",
       "\n",
       "    .dataframe thead th {\n",
       "        text-align: right;\n",
       "    }\n",
       "</style>\n",
       "<table border=\"1\" class=\"dataframe\">\n",
       "  <thead>\n",
       "    <tr style=\"text-align: right;\">\n",
       "      <th></th>\n",
       "      <th>CRIM</th>\n",
       "      <th>ZN</th>\n",
       "      <th>INDUS</th>\n",
       "      <th>CHAS</th>\n",
       "      <th>NOX</th>\n",
       "      <th>RM</th>\n",
       "      <th>AGE</th>\n",
       "      <th>DIS</th>\n",
       "      <th>RAD</th>\n",
       "      <th>TAX</th>\n",
       "      <th>PTRATIO</th>\n",
       "      <th>B</th>\n",
       "      <th>LSTAT</th>\n",
       "      <th>MEDV</th>\n",
       "    </tr>\n",
       "  </thead>\n",
       "  <tbody>\n",
       "    <tr>\n",
       "      <th>count</th>\n",
       "      <td>132.000000</td>\n",
       "      <td>132.0</td>\n",
       "      <td>132.000000</td>\n",
       "      <td>132.000000</td>\n",
       "      <td>132.000000</td>\n",
       "      <td>132.000000</td>\n",
       "      <td>132.000000</td>\n",
       "      <td>132.000000</td>\n",
       "      <td>132.000000</td>\n",
       "      <td>132.000000</td>\n",
       "      <td>132.000000</td>\n",
       "      <td>132.000000</td>\n",
       "      <td>132.000000</td>\n",
       "      <td>132.000000</td>\n",
       "    </tr>\n",
       "    <tr>\n",
       "      <th>mean</th>\n",
       "      <td>12.502868</td>\n",
       "      <td>0.0</td>\n",
       "      <td>18.465152</td>\n",
       "      <td>0.037879</td>\n",
       "      <td>0.671303</td>\n",
       "      <td>6.000689</td>\n",
       "      <td>89.709848</td>\n",
       "      <td>2.085395</td>\n",
       "      <td>23.242424</td>\n",
       "      <td>667.704545</td>\n",
       "      <td>20.196212</td>\n",
       "      <td>287.995606</td>\n",
       "      <td>19.167045</td>\n",
       "      <td>14.994697</td>\n",
       "    </tr>\n",
       "    <tr>\n",
       "      <th>std</th>\n",
       "      <td>13.216389</td>\n",
       "      <td>0.0</td>\n",
       "      <td>1.847316</td>\n",
       "      <td>0.191630</td>\n",
       "      <td>0.061816</td>\n",
       "      <td>0.712621</td>\n",
       "      <td>12.611021</td>\n",
       "      <td>0.597438</td>\n",
       "      <td>3.832607</td>\n",
       "      <td>8.623365</td>\n",
       "      <td>0.019163</td>\n",
       "      <td>145.913197</td>\n",
       "      <td>6.483094</td>\n",
       "      <td>5.405825</td>\n",
       "    </tr>\n",
       "    <tr>\n",
       "      <th>min</th>\n",
       "      <td>0.105740</td>\n",
       "      <td>0.0</td>\n",
       "      <td>18.100000</td>\n",
       "      <td>0.000000</td>\n",
       "      <td>0.532000</td>\n",
       "      <td>3.561000</td>\n",
       "      <td>40.300000</td>\n",
       "      <td>1.137000</td>\n",
       "      <td>4.000000</td>\n",
       "      <td>666.000000</td>\n",
       "      <td>20.100000</td>\n",
       "      <td>0.320000</td>\n",
       "      <td>5.290000</td>\n",
       "      <td>5.000000</td>\n",
       "    </tr>\n",
       "    <tr>\n",
       "      <th>25%</th>\n",
       "      <td>5.404117</td>\n",
       "      <td>0.0</td>\n",
       "      <td>18.100000</td>\n",
       "      <td>0.000000</td>\n",
       "      <td>0.614000</td>\n",
       "      <td>5.674250</td>\n",
       "      <td>85.325000</td>\n",
       "      <td>1.637600</td>\n",
       "      <td>24.000000</td>\n",
       "      <td>666.000000</td>\n",
       "      <td>20.200000</td>\n",
       "      <td>167.375000</td>\n",
       "      <td>14.647500</td>\n",
       "      <td>10.900000</td>\n",
       "    </tr>\n",
       "    <tr>\n",
       "      <th>50%</th>\n",
       "      <td>8.887540</td>\n",
       "      <td>0.0</td>\n",
       "      <td>18.100000</td>\n",
       "      <td>0.000000</td>\n",
       "      <td>0.693000</td>\n",
       "      <td>6.139500</td>\n",
       "      <td>94.200000</td>\n",
       "      <td>1.951200</td>\n",
       "      <td>24.000000</td>\n",
       "      <td>666.000000</td>\n",
       "      <td>20.200000</td>\n",
       "      <td>373.740000</td>\n",
       "      <td>18.100000</td>\n",
       "      <td>14.100000</td>\n",
       "    </tr>\n",
       "    <tr>\n",
       "      <th>75%</th>\n",
       "      <td>14.333700</td>\n",
       "      <td>0.0</td>\n",
       "      <td>18.100000</td>\n",
       "      <td>0.000000</td>\n",
       "      <td>0.713000</td>\n",
       "      <td>6.407250</td>\n",
       "      <td>98.800000</td>\n",
       "      <td>2.431300</td>\n",
       "      <td>24.000000</td>\n",
       "      <td>666.000000</td>\n",
       "      <td>20.200000</td>\n",
       "      <td>395.355000</td>\n",
       "      <td>23.275000</td>\n",
       "      <td>19.200000</td>\n",
       "    </tr>\n",
       "    <tr>\n",
       "      <th>max</th>\n",
       "      <td>88.976200</td>\n",
       "      <td>0.0</td>\n",
       "      <td>27.740000</td>\n",
       "      <td>1.000000</td>\n",
       "      <td>0.770000</td>\n",
       "      <td>8.780000</td>\n",
       "      <td>100.000000</td>\n",
       "      <td>4.098300</td>\n",
       "      <td>24.000000</td>\n",
       "      <td>711.000000</td>\n",
       "      <td>20.200000</td>\n",
       "      <td>396.900000</td>\n",
       "      <td>37.970000</td>\n",
       "      <td>29.800000</td>\n",
       "    </tr>\n",
       "  </tbody>\n",
       "</table>\n",
       "</div>"
      ],
      "text/plain": [
       "             CRIM     ZN       INDUS        CHAS         NOX          RM  \\\n",
       "count  132.000000  132.0  132.000000  132.000000  132.000000  132.000000   \n",
       "mean    12.502868    0.0   18.465152    0.037879    0.671303    6.000689   \n",
       "std     13.216389    0.0    1.847316    0.191630    0.061816    0.712621   \n",
       "min      0.105740    0.0   18.100000    0.000000    0.532000    3.561000   \n",
       "25%      5.404117    0.0   18.100000    0.000000    0.614000    5.674250   \n",
       "50%      8.887540    0.0   18.100000    0.000000    0.693000    6.139500   \n",
       "75%     14.333700    0.0   18.100000    0.000000    0.713000    6.407250   \n",
       "max     88.976200    0.0   27.740000    1.000000    0.770000    8.780000   \n",
       "\n",
       "              AGE         DIS         RAD         TAX     PTRATIO           B  \\\n",
       "count  132.000000  132.000000  132.000000  132.000000  132.000000  132.000000   \n",
       "mean    89.709848    2.085395   23.242424  667.704545   20.196212  287.995606   \n",
       "std     12.611021    0.597438    3.832607    8.623365    0.019163  145.913197   \n",
       "min     40.300000    1.137000    4.000000  666.000000   20.100000    0.320000   \n",
       "25%     85.325000    1.637600   24.000000  666.000000   20.200000  167.375000   \n",
       "50%     94.200000    1.951200   24.000000  666.000000   20.200000  373.740000   \n",
       "75%     98.800000    2.431300   24.000000  666.000000   20.200000  395.355000   \n",
       "max    100.000000    4.098300   24.000000  711.000000   20.200000  396.900000   \n",
       "\n",
       "            LSTAT        MEDV  \n",
       "count  132.000000  132.000000  \n",
       "mean    19.167045   14.994697  \n",
       "std      6.483094    5.405825  \n",
       "min      5.290000    5.000000  \n",
       "25%     14.647500   10.900000  \n",
       "50%     18.100000   14.100000  \n",
       "75%     23.275000   19.200000  \n",
       "max     37.970000   29.800000  "
      ]
     },
     "execution_count": 38,
     "metadata": {},
     "output_type": "execute_result"
    }
   ],
   "source": [
    "df_isolate = df[df[\"TAX\"] >= 600]\n",
    "print(df_isolate.TAX.unique())\n",
    "df_isolate.describe()"
   ]
  },
  {
   "cell_type": "markdown",
   "metadata": {
    "ExecuteTime": {
     "end_time": "2020-06-04T09:49:25.986477Z",
     "start_time": "2020-06-04T09:49:25.971705Z"
    }
   },
   "source": [
    "The unique values show that we are dealing with values that are either 666 and 711. At this moment I think this seems to be some kind of input error because 666 not only is the number of the beast :) But it's also very strange that the TAX is so high for different kinds of Rooms (ranging from 3 to 9) and also when looking at other features they seem to be not samish but more distributed.\n",
    "\n",
    "There are basically two possiblities here. Either remove the observations which show these weird numbers or go with it and impute them.\n",
    "\n",
    "Since we are seeing 132 rows out of ~500 it would hurt us a lot if we just drop those rows. Instead lets find another value that maybe correlates whith TAX (outside of the outlier set). Then we cut bucket a correlated feature and reassign it to the 666 and 711 values."
   ]
  },
  {
   "cell_type": "code",
   "execution_count": 48,
   "metadata": {
    "ExecuteTime": {
     "end_time": "2020-06-04T09:57:13.597276Z",
     "start_time": "2020-06-04T09:57:13.589339Z"
    }
   },
   "outputs": [
    {
     "data": {
      "text/plain": [
       "TAX        1.000000\n",
       "NOX        0.385035\n",
       "INDUS      0.368546\n",
       "CRIM       0.363871\n",
       "RAD        0.245062\n",
       "LSTAT      0.244195\n",
       "AGE        0.242765\n",
       "PTRATIO   -0.027333\n",
       "CHAS      -0.046508\n",
       "ZN        -0.070191\n",
       "RM        -0.216174\n",
       "DIS       -0.229028\n",
       "B         -0.252573\n",
       "MEDV      -0.340861\n",
       "Name: TAX, dtype: float64"
      ]
     },
     "execution_count": 48,
     "metadata": {},
     "output_type": "execute_result"
    },
    {
     "data": {
      "text/plain": [
       "<Figure size 1080x720 with 0 Axes>"
      ]
     },
     "metadata": {},
     "output_type": "display_data"
    }
   ],
   "source": [
    "df_investigate = df[df[\"TAX\"] < 600]\n",
    "\n",
    "plt.figure(figsize=(15,10))\n",
    "\n",
    "df_investigate.corr()[\"TAX\"].sort_values(ascending=False)"
   ]
  },
  {
   "cell_type": "markdown",
   "metadata": {},
   "source": [
    "NOX has the highest corelation when ignoring TAX values over 600. This means we will impute TAX numbers with TAX numbers that have samish NOX values."
   ]
  },
  {
   "cell_type": "code",
   "execution_count": 89,
   "metadata": {
    "ExecuteTime": {
     "end_time": "2020-06-04T10:16:18.066378Z",
     "start_time": "2020-06-04T10:16:17.629458Z"
    }
   },
   "outputs": [
    {
     "name": "stderr",
     "output_type": "stream",
     "text": [
      "/home/robert/.local/lib/python3.6/site-packages/ipykernel_launcher.py:6: SettingWithCopyWarning: \n",
      "A value is trying to be set on a copy of a slice from a DataFrame.\n",
      "Try using .loc[row_indexer,col_indexer] = value instead\n",
      "\n",
      "See the caveats in the documentation: https://pandas.pydata.org/pandas-docs/stable/user_guide/indexing.html#returning-a-view-versus-a-copy\n",
      "  \n"
     ]
    },
    {
     "data": {
      "text/plain": [
       "<matplotlib.axes._subplots.AxesSubplot at 0x7f48c7d204a8>"
      ]
     },
     "execution_count": 89,
     "metadata": {},
     "output_type": "execute_result"
    },
    {
     "data": {
      "image/png": "[encoded data removed]",
      "text/plain": [
       "<Figure size 1080x360 with 2 Axes>"
      ]
     },
     "metadata": {
      "needs_background": "light"
     },
     "output_type": "display_data"
    }
   ],
   "source": [
    "df_investigate[\"NOX\"].describe()\n",
    "\n",
    "# ranging from 0.38 to .87 \n",
    "# lets make buckets ranging from .3 to .9 in .1 steps\n",
    "\n",
    "df_investigate[\"NOXbucket\"] = np.floor(df_investigate[\"NOX\"] * 10 ) / 10\n",
    "\n",
    "# we have the buckets now assign each bucket the mean TAX value\n",
    "NOX_to_TAX_dict = df_investigate[[\"NOXbucket\",\"TAX\"]].groupby([\"NOXbucket\"]).mean()[\"TAX\"].to_dict()\n",
    "\n",
    "#bucket list lacks .7 so we articially create it by meaning .6 and .8\n",
    "NOX_to_TAX_dict[.7] = (NOX_to_TAX_dict[.6] + NOX_to_TAX_dict[.8]) / 2\n",
    "\n",
    "# apply buckets to original dataset for assignments\n",
    "df[\"NOXbucket\"] = np.floor(df[\"NOX\"] * 10 ) / 10\n",
    "\n",
    "# now assign the original dataset df the changed numbers\n",
    "df[\"TAX\"] = df.apply(lambda x: NOX_to_TAX_dict[x[\"NOXbucket\"]] if x[\"TAX\"] >= 600 else x[\"TAX\"]  ,axis=1)\n",
    "\n",
    "# drop the bucket column\n",
    "df = df.drop([\"NOXbucket\"],axis=1)\n",
    "\n",
    "plt.figure(figsize=(15,5))\n",
    "\n",
    "ax = plt.subplot(121)\n",
    "sns.boxplot(df[\"TAX\"],ax=ax)\n",
    "\n",
    "ax = plt.subplot(122)\n",
    "sns.distplot(df[\"TAX\"],ax=ax)\n"
   ]
  },
  {
   "cell_type": "markdown",
   "metadata": {},
   "source": [
    "The result is still not perfect but better than before where we had to disconnected \"Islands\" in the distribution function\n",
    "\n",
    "Before we further analyse features we will have a look at a heatmap of the correlation matrix to see what featueres are even worth discussing. We will pick features with a high correlation towards our target variable as candidates for our ML models"
   ]
  },
  {
   "cell_type": "code",
   "execution_count": 90,
   "metadata": {
    "ExecuteTime": {
     "end_time": "2020-06-04T10:16:21.665869Z",
     "start_time": "2020-06-04T10:16:20.300456Z"
    }
   },
   "outputs": [
    {
     "data": {
      "text/plain": [
       "<matplotlib.axes._subplots.AxesSubplot at 0x7f48c8de8940>"
      ]
     },
     "execution_count": 90,
     "metadata": {},
     "output_type": "execute_result"
    },
    {
     "data": {
      "image/png": "[encoded data removed]",
      "text/plain": [
       "<Figure size 1080x1080 with 2 Axes>"
      ]
     },
     "metadata": {
      "needs_background": "light"
     },
     "output_type": "display_data"
    }
   ],
   "source": [
    "plt.figure(figsize=(15,15))\n",
    "\n",
    "sns.heatmap(df.corr().abs(),annot=True)"
   ]
  },
  {
   "cell_type": "markdown",
   "metadata": {},
   "source": [
    "LSTAT, RAD, AGE, RM, NOX, INDUS have a correlation > 0.5. We also include TAX because we did so much cleaning work at this point it is interesting for us to see if a model picks it up. Naturally it seems to be related because TAX are reflected by the House Price normally"
   ]
  },
  {
   "cell_type": "code",
   "execution_count": 106,
   "metadata": {
    "ExecuteTime": {
     "end_time": "2020-06-04T11:11:07.028078Z",
     "start_time": "2020-06-04T11:11:07.020529Z"
    }
   },
   "outputs": [],
   "source": [
    "df_cleaned = df[[\"LSTAT\",\"TAX\",\"RAD\",\"AGE\",\"RM\",\"NOX\",\"INDUS\",\"MEDV\"]]"
   ]
  },
  {
   "cell_type": "markdown",
   "metadata": {},
   "source": [
    "Before we start with evaluating the models we will split into test and train set\n",
    "\n",
    "Then for the evaluation of Machine Learning Models we do following steps for each ML model\n",
    "\n",
    "* Pick model and run baseline scoring (mape) on a cross validation 5 fold\n",
    "* Tune Hyper Parameters by doing GridSearch\n",
    "* Run cross validation on tuned model and note scores\n",
    "* Finally validate against test set and note scores\n",
    "\n",
    "At the end we will compare the models on distribution of cross validation and also on the error score (we chose mae (mean absolute error)\n",
    "\n",
    "Following models are going to be evaluated:\n",
    "\n",
    "* Linear Regeression\n",
    "* Random Forest\n",
    "* Support Vector Machine\n",
    "* Gradient Boost\n",
    "* FNN (Dense neural network)"
   ]
  },
  {
   "cell_type": "code",
   "execution_count": 109,
   "metadata": {
    "ExecuteTime": {
     "end_time": "2020-06-04T11:11:58.049532Z",
     "start_time": "2020-06-04T11:11:58.041398Z"
    }
   },
   "outputs": [],
   "source": [
    "from sklearn.model_selection import train_test_split\n",
    "\n",
    "X_train, X_test, y_train, y_test = train_test_split(df_cleaned.iloc[:,:-1], df_cleaned.iloc[:,-1], test_size=0.2)"
   ]
  },
  {
   "cell_type": "markdown",
   "metadata": {},
   "source": [
    "## Models\n",
    "\n",
    "First of all we implement a Pipeline for each model because the scales of the different features are varying greatly. For this we will introduce StandardScaler. We also could think of min/max scaler but we go with StandardScaler for now.\n",
    "\n",
    "Since we already established that we don't have missing values no Imputer will be used."
   ]
  },
  {
   "cell_type": "code",
   "execution_count": 171,
   "metadata": {
    "ExecuteTime": {
     "end_time": "2020-06-04T12:30:14.482593Z",
     "start_time": "2020-06-04T12:30:14.474067Z"
    }
   },
   "outputs": [],
   "source": [
    "from sklearn.preprocessing import StandardScaler\n",
    "from sklearn.metrics import mean_absolute_error\n",
    "from sklearn.linear_model import LinearRegression\n",
    "from sklearn.ensemble import GradientBoostingRegressor, RandomForestRegressor\n",
    "from sklearn.svm import SVR\n",
    "from sklearn.model_selection import cross_val_score, GridSearchCV\n",
    "from sklearn.pipeline import Pipeline\n",
    "from tensorflow import keras\n",
    "from keras.layers import Dense, Dropout\n",
    "from keras.wrappers.scikit_learn import KerasRegressor\n",
    "from keras.models import Sequential\n",
    "\n",
    "scoremap = {}\n",
    "test_scores = {}"
   ]
  },
  {
   "cell_type": "code",
   "execution_count": 172,
   "metadata": {
    "ExecuteTime": {
     "end_time": "2020-06-04T12:30:18.447193Z",
     "start_time": "2020-06-04T12:30:15.197027Z"
    }
   },
   "outputs": [
    {
     "name": "stderr",
     "output_type": "stream",
     "text": [
      "[Parallel(n_jobs=4)]: Using backend LokyBackend with 4 concurrent workers.\n",
      "[Parallel(n_jobs=4)]: Done   2 out of   5 | elapsed:    2.8s remaining:    4.1s\n"
     ]
    },
    {
     "name": "stdout",
     "output_type": "stream",
     "text": [
      "[3.03152432 2.82214269 3.41476952 2.95611329 3.14489302] 3.0738885676880745\n",
      "2.729631397695149\n"
     ]
    },
    {
     "name": "stderr",
     "output_type": "stream",
     "text": [
      "[Parallel(n_jobs=4)]: Done   5 out of   5 | elapsed:    3.2s finished\n"
     ]
    }
   ],
   "source": [
    "linear_pipe = Pipeline([\n",
    "    (\"dataprep\", StandardScaler()),\n",
    "    (\"lr\",LinearRegression())\n",
    "])\n",
    "\n",
    "# do baseline evaluation\n",
    "\n",
    "scores = cross_val_score(linear_pipe,X_train,y_train, cv=5, n_jobs=4, verbose=5, scoring=\"neg_mean_absolute_error\")\n",
    "print(np.abs(scores), np.abs(np.mean(scores)))\n",
    "\n",
    "# Baseline is ~ 3.07\n",
    "\n",
    "# ignore hyper parameter because they don't really exist for LinearRegression\n",
    "\n",
    "#takeover scores as final scores\n",
    "scoremap[\"Linear Regression\"] = np.abs(scores)\n",
    "\n",
    "linear_pipe.fit(X_train,y_train)\n",
    "predictions = linear_pipe.predict(X_test)\n",
    "\n",
    "mae = mean_absolute_error(y_test,predictions)\n",
    "\n",
    "print(mae)\n",
    "test_scores[\"Linear Regression\"] = mae\n"
   ]
  },
  {
   "cell_type": "code",
   "execution_count": 173,
   "metadata": {
    "ExecuteTime": {
     "end_time": "2020-06-04T12:30:19.792920Z",
     "start_time": "2020-06-04T12:30:18.454030Z"
    }
   },
   "outputs": [
    {
     "name": "stderr",
     "output_type": "stream",
     "text": [
      "[Parallel(n_jobs=4)]: Using backend LokyBackend with 4 concurrent workers.\n",
      "[Parallel(n_jobs=4)]: Done   2 out of   5 | elapsed:    0.7s remaining:    1.0s\n",
      "[Parallel(n_jobs=4)]: Done   5 out of   5 | elapsed:    1.1s finished\n"
     ]
    },
    {
     "name": "stdout",
     "output_type": "stream",
     "text": [
      "[2.18349333 2.06685333 2.38561333 1.98877333 2.19881081] 2.1647088288288288\n",
      "1.9801702127659564\n"
     ]
    }
   ],
   "source": [
    "rf_pipe = Pipeline([\n",
    "    (\"dataprep\", StandardScaler()),\n",
    "    (\"rf\",RandomForestRegressor())\n",
    "])\n",
    "\n",
    "# do baseline evaluation\n",
    "\n",
    "scores = cross_val_score(rf_pipe,X_train,y_train, cv=5, n_jobs=4, verbose=5, scoring=\"neg_mean_absolute_error\")\n",
    "print(np.abs(scores), np.abs(np.mean(scores)))\n",
    "\n",
    "# Baseline is ~ 2.18\n",
    "\n",
    "# do gridsearch\n",
    "#parameters = {\n",
    "#    \"rf__n_estimators\": [10,50,100,150],\n",
    "#    \"rf__max_depth\": [8,16,32,64,128,None]\n",
    "#}\n",
    "\n",
    "#clf = GridSearchCV(rf_pipe, parameters,cv=5,scoring=\"neg_mean_absolute_error\",verbose=1)\n",
    "#clf.fit(X_train,y_train)\n",
    "#print(clf.best_params_)\n",
    "#{'rf__max_depth': None, 'rf__n_estimators': 50}\n",
    "\n",
    "rf_pipe[1].max_depth=None\n",
    "rf_pipe[1].n_estimators=50\n",
    "\n",
    "#takeover scores as final scores\n",
    "scoremap[\"Random Forest\"] = np.abs(scores)\n",
    "\n",
    "rf_pipe.fit(X_train,y_train)\n",
    "predictions = rf_pipe.predict(X_test)\n",
    "\n",
    "mae = mean_absolute_error(y_test,predictions)\n",
    "\n",
    "print(mae)\n",
    "test_scores[\"Random Forest\"] = mae\n"
   ]
  },
  {
   "cell_type": "code",
   "execution_count": 174,
   "metadata": {
    "ExecuteTime": {
     "end_time": "2020-06-04T12:30:25.331807Z",
     "start_time": "2020-06-04T12:30:22.482068Z"
    }
   },
   "outputs": [
    {
     "name": "stderr",
     "output_type": "stream",
     "text": [
      "[Parallel(n_jobs=4)]: Using backend LokyBackend with 4 concurrent workers.\n",
      "[Parallel(n_jobs=4)]: Done   2 out of   5 | elapsed:    0.0s remaining:    0.1s\n",
      "[Parallel(n_jobs=4)]: Done   5 out of   5 | elapsed:    0.1s finished\n",
      "[Parallel(n_jobs=1)]: Using backend SequentialBackend with 1 concurrent workers.\n"
     ]
    },
    {
     "name": "stdout",
     "output_type": "stream",
     "text": [
      "[2.41608344 2.43036914 2.699404   2.05031337 2.76555951] 2.472345892251704\n",
      "Fitting 5 folds for each of 10 candidates, totalling 50 fits\n",
      "{'svm__C': 10.0, 'svm__kernel': 'rbf'}\n",
      "2.000340420298744\n"
     ]
    },
    {
     "name": "stderr",
     "output_type": "stream",
     "text": [
      "[Parallel(n_jobs=1)]: Done  50 out of  50 | elapsed:    2.6s finished\n"
     ]
    }
   ],
   "source": [
    "svm_pipe = Pipeline([\n",
    "    (\"dataprep\", StandardScaler()),\n",
    "    (\"svm\",SVR())\n",
    "])\n",
    "\n",
    "# do baseline evaluation\n",
    "\n",
    "scores = cross_val_score(svm_pipe,X_train,y_train, cv=5, n_jobs=4, verbose=5, scoring=\"neg_mean_absolute_error\")\n",
    "print(np.abs(scores), np.abs(np.mean(scores)))\n",
    "\n",
    "# Baseline is ~ 2.18\n",
    "\n",
    "# do gridsearch\n",
    "parameters = {\n",
    "    \"svm__C\": [1e-2, 1e-1, 1e0, 1e1, 1e2],\n",
    "    \"svm__kernel\": [\"linear\",\"rbf\"]\n",
    "}\n",
    "\n",
    "clf = GridSearchCV(svm_pipe, parameters,cv=5,scoring=\"neg_mean_absolute_error\",verbose=1)\n",
    "clf.fit(X_train,y_train)\n",
    "print(clf.best_params_)\n",
    "#{'svm__C': 10.0, 'svm__kernel': 'rbf'}\n",
    "\n",
    "svm_pipe[1].C=10\n",
    "svm_pipe[1].kernel=\"rbf\"\n",
    "\n",
    "#takeover scores as final scores\n",
    "scoremap[\"SVM\"] = np.abs(scores)\n",
    "\n",
    "svm_pipe.fit(X_train,y_train)\n",
    "predictions = svm_pipe.predict(X_test)\n",
    "\n",
    "mae = mean_absolute_error(y_test,predictions)\n",
    "\n",
    "print(mae)\n",
    "test_scores[\"SVM\"] = mae\n"
   ]
  },
  {
   "cell_type": "code",
   "execution_count": 176,
   "metadata": {
    "ExecuteTime": {
     "end_time": "2020-06-04T12:30:45.745982Z",
     "start_time": "2020-06-04T12:30:44.084252Z"
    }
   },
   "outputs": [
    {
     "name": "stderr",
     "output_type": "stream",
     "text": [
      "[Parallel(n_jobs=4)]: Using backend LokyBackend with 4 concurrent workers.\n",
      "[Parallel(n_jobs=4)]: Done   2 out of   5 | elapsed:    0.1s remaining:    0.2s\n",
      "[Parallel(n_jobs=4)]: Done   5 out of   5 | elapsed:    0.3s finished\n"
     ]
    },
    {
     "name": "stdout",
     "output_type": "stream",
     "text": [
      "[2.15110911 2.34098387 2.2745426  1.9887839  2.37732403] 2.2265487029891777\n",
      "1.7676934110233231\n"
     ]
    }
   ],
   "source": [
    "gb_pipe = Pipeline([\n",
    "    (\"dataprep\", StandardScaler()),\n",
    "    (\"xbg\",GradientBoostingRegressor())\n",
    "])\n",
    "\n",
    "# do baseline evaluation\n",
    "\n",
    "scores = cross_val_score(gb_pipe,X_train,y_train, cv=5, n_jobs=4, verbose=5, scoring=\"neg_mean_absolute_error\")\n",
    "print(np.abs(scores), np.abs(np.mean(scores)))\n",
    "\n",
    "# Baseline is ~ 2.18\n",
    "\n",
    "# do gridsearch\n",
    "parameters = {\n",
    "    #\"xbg__min_samples_split\": np.linspace(0.1, 0.5, 12),\n",
    "    #\"xbg__min_samples_leaf\": np.linspace(0.1, 0.5, 12),\n",
    "    \"xbg__max_depth\":[3,5,8],\n",
    "    #\"xbg__max_features\":[\"log2\",\"sqrt\"],\n",
    "    #\"xbg__criterion\": [\"friedman_mse\",  \"mae\"],\n",
    "    \"xbg__subsample\":[0.5, 0.8, 1.0],\n",
    "    \"xbg__n_estimators\":[10,100,1000]\n",
    "    }\n",
    "\n",
    "clf = GridSearchCV(gb_pipe, parameters,cv=5,scoring=\"neg_mean_absolute_error\",verbose=1)\n",
    "#clf.fit(X_train,y_train)\n",
    "#print(clf.best_params_)\n",
    "#{'xbg__max_depth': 8, 'xbg__n_estimators': 1000, 'xbg__subsample': 0.5}\n",
    "\n",
    "gb_pipe[1].max_depth=8\n",
    "gb_pipe[1].n_estimators=1000\n",
    "gb_pipe[1].subsample=0.5\n",
    "\n",
    "\n",
    "#takeover scores as final scores\n",
    "scoremap[\"Gradient Boost\"] = np.abs(scores)\n",
    "\n",
    "gb_pipe.fit(X_train,y_train)\n",
    "predictions = gb_pipe.predict(X_test)\n",
    "\n",
    "mae = mean_absolute_error(y_test,predictions)\n",
    "\n",
    "print(mae)\n",
    "test_scores[\"Gradient Boost\"] = mae\n"
   ]
  },
  {
   "cell_type": "code",
   "execution_count": 177,
   "metadata": {
    "ExecuteTime": {
     "end_time": "2020-06-04T12:32:50.638161Z",
     "start_time": "2020-06-04T12:31:12.512376Z"
    },
    "scrolled": true
   },
   "outputs": [
    {
     "name": "stderr",
     "output_type": "stream",
     "text": [
      "[Parallel(n_jobs=-1)]: Using backend LokyBackend with 8 concurrent workers.\n",
      "[Parallel(n_jobs=-1)]: Done   2 out of   5 | elapsed:  1.4min remaining:  2.1min\n",
      "[Parallel(n_jobs=-1)]: Done   5 out of   5 | elapsed:  1.4min finished\n"
     ]
    },
    {
     "name": "stdout",
     "output_type": "stream",
     "text": [
      "[2.49011242 2.72966845 2.71133893 2.01309052 2.39210814] 2.4672636932098113\n",
      "Epoch 1/15\n",
      "374/374 [==============================] - 1s 3ms/step - loss: 12.8000\n",
      "Epoch 2/15\n",
      "374/374 [==============================] - 1s 3ms/step - loss: 4.3196\n",
      "Epoch 3/15\n",
      "374/374 [==============================] - 1s 3ms/step - loss: 3.7399\n",
      "Epoch 4/15\n",
      "374/374 [==============================] - 1s 3ms/step - loss: 3.4518\n",
      "Epoch 5/15\n",
      "374/374 [==============================] - 1s 3ms/step - loss: 3.3153\n",
      "Epoch 6/15\n",
      "374/374 [==============================] - 1s 3ms/step - loss: 3.1108\n",
      "Epoch 7/15\n",
      "374/374 [==============================] - 1s 3ms/step - loss: 3.1323\n",
      "Epoch 8/15\n",
      "374/374 [==============================] - 1s 3ms/step - loss: 2.8389\n",
      "Epoch 9/15\n",
      "374/374 [==============================] - 1s 2ms/step - loss: 2.9800\n",
      "Epoch 10/15\n",
      "374/374 [==============================] - 1s 3ms/step - loss: 2.8678\n",
      "Restoring model weights from the end of the best epoch\n",
      "Epoch 00010: early stopping\n",
      "2.5034846630502248\n"
     ]
    }
   ],
   "source": [
    "def fnn():\n",
    "    model = Sequential()\n",
    "    model.add(Dense(50, input_shape=(X_train.shape[1],),activation='relu'))\n",
    "    model.add(Dropout(.2))\n",
    "    model.add(Dense(20, activation='relu'))\n",
    "    model.add(Dense(1))\n",
    "\n",
    "    model.compile(optimizer='adam', loss='mae')\n",
    "    return model\n",
    "\n",
    "fnn_pipe = Pipeline([\n",
    "    (\"dataprep\", StandardScaler()),\n",
    "    (\"nn\",KerasRegressor(build_fn=fnn, epochs=100, batch_size=1, verbose=False))\n",
    "])\n",
    "\n",
    "# do baseline evaluation\n",
    "\n",
    "#fnn_pipe.fit(X_train,y_train)\n",
    "\n",
    "scores = cross_val_score(fnn_pipe,X_train,y_train, cv=5, n_jobs=-1, verbose=5, scoring=\"neg_mean_absolute_error\")\n",
    "print(np.abs(scores), np.abs(np.mean(scores)))\n",
    "\n",
    "# Baseline is ~ 2.18\n",
    "\n",
    "\n",
    "#takeover scores as final scores\n",
    "scoremap[\"NN\"] = np.abs(scores)\n",
    "\n",
    "scaler = StandardScaler()\n",
    "X_train_scaled = scaler.fit_transform(X_train)\n",
    "X_test_scaled = scaler.transform(X_test)\n",
    "\n",
    "from keras.callbacks import ReduceLROnPlateau, EarlyStopping\n",
    "\n",
    "lrcallback = ReduceLROnPlateau(factor=0.1, patience=0, monitor='loss',verbose=True)\n",
    "es = EarlyStopping(monitor='loss', patience=2, verbose=True, mode=\"min\", restore_best_weights=True)\n",
    "\n",
    "\n",
    "model = fnn()\n",
    "history = model.fit(X_train_scaled, y_train, epochs=15, batch_size=1, verbose=True, callbacks= [es])\n",
    "\n",
    "predictions = model.predict(X_test_scaled)\n",
    "\n",
    "mae = mean_absolute_error(y_test,predictions)\n",
    "\n",
    "print(mae)\n",
    "test_scores[\"NN\"] = mae\n",
    "\n"
   ]
  },
  {
   "cell_type": "code",
   "execution_count": 178,
   "metadata": {
    "ExecuteTime": {
     "end_time": "2020-06-04T12:33:03.987437Z",
     "start_time": "2020-06-04T12:33:03.740098Z"
    }
   },
   "outputs": [
    {
     "data": {
      "text/plain": [
       "[<matplotlib.lines.Line2D at 0x7f4862084dd8>]"
      ]
     },
     "execution_count": 178,
     "metadata": {},
     "output_type": "execute_result"
    },
    {
     "data": {
      "image/png": "[encoded data removed]",
      "text/plain": [
       "<Figure size 432x288 with 1 Axes>"
      ]
     },
     "metadata": {
      "needs_background": "light"
     },
     "output_type": "display_data"
    }
   ],
   "source": [
    "plt.plot(history.history[\"loss\"])"
   ]
  },
  {
   "cell_type": "code",
   "execution_count": 168,
   "metadata": {
    "ExecuteTime": {
     "end_time": "2020-06-04T12:29:42.294477Z",
     "start_time": "2020-06-04T12:29:42.291296Z"
    }
   },
   "outputs": [],
   "source": [
    "# evaluate all"
   ]
  },
  {
   "cell_type": "code",
   "execution_count": 189,
   "metadata": {
    "ExecuteTime": {
     "end_time": "2020-06-04T12:37:35.254379Z",
     "start_time": "2020-06-04T12:37:34.437062Z"
    }
   },
   "outputs": [
    {
     "name": "stdout",
     "output_type": "stream",
     "text": [
      "{'Linear Regression': 2.729631397695149, 'Random Forest': 1.9801702127659564, 'SVM': 2.000340420298744, 'Gradient Boost': 1.7676934110233231, 'NN': 2.5034846630502248}\n"
     ]
    },
    {
     "data": {
      "image/png": "[encoded data removed]",
      "text/plain": [
       "<Figure size 1008x648 with 1 Axes>"
      ]
     },
     "metadata": {
      "needs_background": "light"
     },
     "output_type": "display_data"
    }
   ],
   "source": [
    "df_eval = pd.DataFrame.from_dict(scoremap)\n",
    "plt.figure(figsize=(14,9))\n",
    "sns.boxplot(data=df_eval)\n",
    "#pd.DataFrame.from_dict(test_scores).plot()\n",
    "print(test_scores)"
   ]
  },
  {
   "cell_type": "markdown",
   "metadata": {},
   "source": [
    "Observations:\n",
    "\n",
    "* As expected Linear Regression performed the worst\n",
    "* Feed Forward Neural Network performed almost like SVM both are sharing 2nd place\n",
    "* Random Forest and Gradient Boost almost perfomed alike but Random Forest is a bit more consistent\n",
    "* Although on Test set Gradient Boost is a bit better than Random Forest, we would chose now Random Forest for forecasting due to its consistency.\n"
   ]
  }
 ],
 "metadata": {
  "kernelspec": {
   "display_name": "Python 3",
   "language": "python",
   "name": "python3"
  },
  "language_info": {
   "codemirror_mode": {
    "name": "ipython",
    "version": 3
   },
   "file_extension": ".py",
   "mimetype": "text/x-python",
   "name": "python",
   "nbconvert_exporter": "python",
   "pygments_lexer": "ipython3",
   "version": "3.6.9"
  }
 },
 "nbformat": 4,
 "nbformat_minor": 4
}
