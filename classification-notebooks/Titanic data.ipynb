{
 "cells": [
  {
   "cell_type": "code",
   "execution_count": 753,
   "metadata": {
    "ExecuteTime": {
     "end_time": "2020-06-10T13:34:37.076425Z",
     "start_time": "2020-06-10T13:34:37.049252Z"
    }
   },
   "outputs": [],
   "source": [
    "import pandas as pd\n",
    "import seaborn as sns\n",
    "import numpy as np\n",
    "\n",
    "df = pd.read_csv(\"Titanic_train.csv\")"
   ]
  },
  {
   "cell_type": "markdown",
   "metadata": {
    "ExecuteTime": {
     "end_time": "2020-06-08T11:14:47.219042Z",
     "start_time": "2020-06-08T11:14:47.202423Z"
    }
   },
   "source": [
    "| col name  | description |details|\n",
    "| --- | --- | --- |\n",
    "| survival\t| Survival\t    |0 = No, 1 = Yes|\n",
    "| pclass\t    | Ticket class\t|1 = 1st, 2 = 2nd, 3 = 3rd|\n",
    "| sex\t    | Sex\t\n",
    "| Age\t    | Age in years\t\n",
    "| sibsp\t    | # of siblings / spouses aboard the Titanic\t\n",
    "| parch\t    | # of parents / children aboard the Titanic\t\n",
    "| ticket\t    | Ticket number\t\n",
    "| fare\t    | Passenger fare\t\n",
    "| cabin\t    | Cabin number\t\n",
    "| embarked\t| Port of Embarkation\t| C = Cherbourg, Q = Queenstown, S = Southampton\n"
   ]
  },
  {
   "cell_type": "markdown",
   "metadata": {},
   "source": [
    "So before looking at the data lets see what the columns are all about \n",
    "\n",
    "**survivial** is obviously our target variable\n",
    "\n",
    "**pclass** is the ticket category which could be related to the survival, depending on where certain classes were located in the ship. With no further knowledge a data analysis will show us if it is related\n",
    "\n",
    "**sex** no comment, categorical feature\n",
    "\n",
    "**age** might be important because of the fitness of a person or maybe young people like kids and women got rescued more as they say \"children and women first (off board)\"\n",
    "\n",
    "**sibsp** is the number of siblings our spouses aboard. It's an interesting feature and can probably be used for feature engineering later\n",
    "\n",
    "**parch** almost like sibsp, can be probably used as is and for feature engineering. \n",
    "\n",
    "**ticketnumber** is probably unrelated, needs to be discussed by maybe analysing certain buckets of numbers towards target variable cor\n",
    "\n",
    "**fare** interesting feature that shows us price class. Could be similar to pclass, further investigation needs to show if fare is strongly related to pclass and then maybe one of it can be dropped\n",
    "\n",
    "**cabin** as cabinnumber. has to be investigated if the numbers mean anything or are just sumply aritifial numbers. In the latter case it would be useless and to be droped\n",
    "\n",
    "**embarked** location of the port. can be indirectly related. maybe some ports embarked more wealthy people or in general a group of people that are likelier to survive than others"
   ]
  },
  {
   "cell_type": "code",
   "execution_count": 754,
   "metadata": {
    "ExecuteTime": {
     "end_time": "2020-06-10T13:34:37.151871Z",
     "start_time": "2020-06-10T13:34:37.081188Z"
    }
   },
   "outputs": [
    {
     "data": {
      "text/html": [
       "<div>\n",
       "<style scoped>\n",
       "    .dataframe tbody tr th:only-of-type {\n",
       "        vertical-align: middle;\n",
       "    }\n",
       "\n",
       "    .dataframe tbody tr th {\n",
       "        vertical-align: top;\n",
       "    }\n",
       "\n",
       "    .dataframe thead th {\n",
       "        text-align: right;\n",
       "    }\n",
       "</style>\n",
       "<table border=\"1\" class=\"dataframe\">\n",
       "  <thead>\n",
       "    <tr style=\"text-align: right;\">\n",
       "      <th></th>\n",
       "      <th>PassengerId</th>\n",
       "      <th>Survived</th>\n",
       "      <th>Pclass</th>\n",
       "      <th>Name</th>\n",
       "      <th>Sex</th>\n",
       "      <th>Age</th>\n",
       "      <th>SibSp</th>\n",
       "      <th>Parch</th>\n",
       "      <th>Ticket</th>\n",
       "      <th>Fare</th>\n",
       "      <th>Cabin</th>\n",
       "      <th>Embarked</th>\n",
       "    </tr>\n",
       "  </thead>\n",
       "  <tbody>\n",
       "    <tr>\n",
       "      <th>0</th>\n",
       "      <td>1</td>\n",
       "      <td>0</td>\n",
       "      <td>3</td>\n",
       "      <td>Braund, Mr. Owen Harris</td>\n",
       "      <td>male</td>\n",
       "      <td>22.0</td>\n",
       "      <td>1</td>\n",
       "      <td>0</td>\n",
       "      <td>A/5 21171</td>\n",
       "      <td>7.2500</td>\n",
       "      <td>NaN</td>\n",
       "      <td>S</td>\n",
       "    </tr>\n",
       "    <tr>\n",
       "      <th>1</th>\n",
       "      <td>2</td>\n",
       "      <td>1</td>\n",
       "      <td>1</td>\n",
       "      <td>Cumings, Mrs. John Bradley (Florence Briggs Th...</td>\n",
       "      <td>female</td>\n",
       "      <td>38.0</td>\n",
       "      <td>1</td>\n",
       "      <td>0</td>\n",
       "      <td>PC 17599</td>\n",
       "      <td>71.2833</td>\n",
       "      <td>C85</td>\n",
       "      <td>C</td>\n",
       "    </tr>\n",
       "    <tr>\n",
       "      <th>2</th>\n",
       "      <td>3</td>\n",
       "      <td>1</td>\n",
       "      <td>3</td>\n",
       "      <td>Heikkinen, Miss. Laina</td>\n",
       "      <td>female</td>\n",
       "      <td>26.0</td>\n",
       "      <td>0</td>\n",
       "      <td>0</td>\n",
       "      <td>STON/O2. 3101282</td>\n",
       "      <td>7.9250</td>\n",
       "      <td>NaN</td>\n",
       "      <td>S</td>\n",
       "    </tr>\n",
       "    <tr>\n",
       "      <th>3</th>\n",
       "      <td>4</td>\n",
       "      <td>1</td>\n",
       "      <td>1</td>\n",
       "      <td>Futrelle, Mrs. Jacques Heath (Lily May Peel)</td>\n",
       "      <td>female</td>\n",
       "      <td>35.0</td>\n",
       "      <td>1</td>\n",
       "      <td>0</td>\n",
       "      <td>113803</td>\n",
       "      <td>53.1000</td>\n",
       "      <td>C123</td>\n",
       "      <td>S</td>\n",
       "    </tr>\n",
       "    <tr>\n",
       "      <th>4</th>\n",
       "      <td>5</td>\n",
       "      <td>0</td>\n",
       "      <td>3</td>\n",
       "      <td>Allen, Mr. William Henry</td>\n",
       "      <td>male</td>\n",
       "      <td>35.0</td>\n",
       "      <td>0</td>\n",
       "      <td>0</td>\n",
       "      <td>373450</td>\n",
       "      <td>8.0500</td>\n",
       "      <td>NaN</td>\n",
       "      <td>S</td>\n",
       "    </tr>\n",
       "    <tr>\n",
       "      <th>...</th>\n",
       "      <td>...</td>\n",
       "      <td>...</td>\n",
       "      <td>...</td>\n",
       "      <td>...</td>\n",
       "      <td>...</td>\n",
       "      <td>...</td>\n",
       "      <td>...</td>\n",
       "      <td>...</td>\n",
       "      <td>...</td>\n",
       "      <td>...</td>\n",
       "      <td>...</td>\n",
       "      <td>...</td>\n",
       "    </tr>\n",
       "    <tr>\n",
       "      <th>886</th>\n",
       "      <td>887</td>\n",
       "      <td>0</td>\n",
       "      <td>2</td>\n",
       "      <td>Montvila, Rev. Juozas</td>\n",
       "      <td>male</td>\n",
       "      <td>27.0</td>\n",
       "      <td>0</td>\n",
       "      <td>0</td>\n",
       "      <td>211536</td>\n",
       "      <td>13.0000</td>\n",
       "      <td>NaN</td>\n",
       "      <td>S</td>\n",
       "    </tr>\n",
       "    <tr>\n",
       "      <th>887</th>\n",
       "      <td>888</td>\n",
       "      <td>1</td>\n",
       "      <td>1</td>\n",
       "      <td>Graham, Miss. Margaret Edith</td>\n",
       "      <td>female</td>\n",
       "      <td>19.0</td>\n",
       "      <td>0</td>\n",
       "      <td>0</td>\n",
       "      <td>112053</td>\n",
       "      <td>30.0000</td>\n",
       "      <td>B42</td>\n",
       "      <td>S</td>\n",
       "    </tr>\n",
       "    <tr>\n",
       "      <th>888</th>\n",
       "      <td>889</td>\n",
       "      <td>0</td>\n",
       "      <td>3</td>\n",
       "      <td>Johnston, Miss. Catherine Helen \"Carrie\"</td>\n",
       "      <td>female</td>\n",
       "      <td>NaN</td>\n",
       "      <td>1</td>\n",
       "      <td>2</td>\n",
       "      <td>W./C. 6607</td>\n",
       "      <td>23.4500</td>\n",
       "      <td>NaN</td>\n",
       "      <td>S</td>\n",
       "    </tr>\n",
       "    <tr>\n",
       "      <th>889</th>\n",
       "      <td>890</td>\n",
       "      <td>1</td>\n",
       "      <td>1</td>\n",
       "      <td>Behr, Mr. Karl Howell</td>\n",
       "      <td>male</td>\n",
       "      <td>26.0</td>\n",
       "      <td>0</td>\n",
       "      <td>0</td>\n",
       "      <td>111369</td>\n",
       "      <td>30.0000</td>\n",
       "      <td>C148</td>\n",
       "      <td>C</td>\n",
       "    </tr>\n",
       "    <tr>\n",
       "      <th>890</th>\n",
       "      <td>891</td>\n",
       "      <td>0</td>\n",
       "      <td>3</td>\n",
       "      <td>Dooley, Mr. Patrick</td>\n",
       "      <td>male</td>\n",
       "      <td>32.0</td>\n",
       "      <td>0</td>\n",
       "      <td>0</td>\n",
       "      <td>370376</td>\n",
       "      <td>7.7500</td>\n",
       "      <td>NaN</td>\n",
       "      <td>Q</td>\n",
       "    </tr>\n",
       "  </tbody>\n",
       "</table>\n",
       "<p>891 rows × 12 columns</p>\n",
       "</div>"
      ],
      "text/plain": [
       "     PassengerId  Survived  Pclass  \\\n",
       "0              1         0       3   \n",
       "1              2         1       1   \n",
       "2              3         1       3   \n",
       "3              4         1       1   \n",
       "4              5         0       3   \n",
       "..           ...       ...     ...   \n",
       "886          887         0       2   \n",
       "887          888         1       1   \n",
       "888          889         0       3   \n",
       "889          890         1       1   \n",
       "890          891         0       3   \n",
       "\n",
       "                                                  Name     Sex   Age  SibSp  \\\n",
       "0                              Braund, Mr. Owen Harris    male  22.0      1   \n",
       "1    Cumings, Mrs. John Bradley (Florence Briggs Th...  female  38.0      1   \n",
       "2                               Heikkinen, Miss. Laina  female  26.0      0   \n",
       "3         Futrelle, Mrs. Jacques Heath (Lily May Peel)  female  35.0      1   \n",
       "4                             Allen, Mr. William Henry    male  35.0      0   \n",
       "..                                                 ...     ...   ...    ...   \n",
       "886                              Montvila, Rev. Juozas    male  27.0      0   \n",
       "887                       Graham, Miss. Margaret Edith  female  19.0      0   \n",
       "888           Johnston, Miss. Catherine Helen \"Carrie\"  female   NaN      1   \n",
       "889                              Behr, Mr. Karl Howell    male  26.0      0   \n",
       "890                                Dooley, Mr. Patrick    male  32.0      0   \n",
       "\n",
       "     Parch            Ticket     Fare Cabin Embarked  \n",
       "0        0         A/5 21171   7.2500   NaN        S  \n",
       "1        0          PC 17599  71.2833   C85        C  \n",
       "2        0  STON/O2. 3101282   7.9250   NaN        S  \n",
       "3        0            113803  53.1000  C123        S  \n",
       "4        0            373450   8.0500   NaN        S  \n",
       "..     ...               ...      ...   ...      ...  \n",
       "886      0            211536  13.0000   NaN        S  \n",
       "887      0            112053  30.0000   B42        S  \n",
       "888      2        W./C. 6607  23.4500   NaN        S  \n",
       "889      0            111369  30.0000  C148        C  \n",
       "890      0            370376   7.7500   NaN        Q  \n",
       "\n",
       "[891 rows x 12 columns]"
      ]
     },
     "execution_count": 754,
     "metadata": {},
     "output_type": "execute_result"
    }
   ],
   "source": [
    "df"
   ]
  },
  {
   "cell_type": "markdown",
   "metadata": {},
   "source": [
    "First observation is that PassengerId is completely useless, so we drop it. \n",
    "\n",
    "Name seems to be useless as well, although it contains maybe information like titles that could be derived from it.\n",
    "\n",
    "Sex needs to be encoded\n",
    "\n",
    "Ticketnumber seems to be indeed useless.\n",
    "\n",
    "Cabin seems to have missing vaues so we need to check if we can impute them somehow"
   ]
  },
  {
   "cell_type": "code",
   "execution_count": 755,
   "metadata": {
    "ExecuteTime": {
     "end_time": "2020-06-10T13:34:37.174024Z",
     "start_time": "2020-06-10T13:34:37.160629Z"
    }
   },
   "outputs": [],
   "source": [
    "df = df.drop([\"Ticket\",\"PassengerId\"],axis=1)"
   ]
  },
  {
   "cell_type": "code",
   "execution_count": 756,
   "metadata": {
    "ExecuteTime": {
     "end_time": "2020-06-10T13:34:37.202889Z",
     "start_time": "2020-06-10T13:34:37.180060Z"
    }
   },
   "outputs": [],
   "source": [
    "df_copy = df.copy()\n",
    "df_copy[\"Sex\"] = df_copy[\"Sex\"].apply(lambda x: 1 if x == \"male\" else 0)\n",
    "\n",
    "from sklearn.preprocessing import LabelEncoder\n",
    "\n",
    "df_copy = df_copy[df_copy[\"Embarked\"].notnull()]\n",
    "\n",
    "le = LabelEncoder()\n",
    "df_copy[\"Embarked\"] = le.fit_transform(df_copy[\"Embarked\"])\n",
    "\n",
    "\n"
   ]
  },
  {
   "cell_type": "markdown",
   "metadata": {},
   "source": [
    "For the purpose of correlation analysis I quickly label encoded \"Sex\" and \"Embarked\" parameter to see if and how strong the correlate. For the actual data pipeline those will be one-hot-encoded "
   ]
  },
  {
   "cell_type": "code",
   "execution_count": 757,
   "metadata": {
    "ExecuteTime": {
     "end_time": "2020-06-10T13:34:37.225378Z",
     "start_time": "2020-06-10T13:34:37.206267Z"
    }
   },
   "outputs": [
    {
     "name": "stdout",
     "output_type": "stream",
     "text": [
      "<class 'pandas.core.frame.DataFrame'>\n",
      "Int64Index: 889 entries, 0 to 890\n",
      "Data columns (total 10 columns):\n",
      " #   Column    Non-Null Count  Dtype  \n",
      "---  ------    --------------  -----  \n",
      " 0   Survived  889 non-null    int64  \n",
      " 1   Pclass    889 non-null    int64  \n",
      " 2   Name      889 non-null    object \n",
      " 3   Sex       889 non-null    int64  \n",
      " 4   Age       712 non-null    float64\n",
      " 5   SibSp     889 non-null    int64  \n",
      " 6   Parch     889 non-null    int64  \n",
      " 7   Fare      889 non-null    float64\n",
      " 8   Cabin     202 non-null    object \n",
      " 9   Embarked  889 non-null    int64  \n",
      "dtypes: float64(2), int64(6), object(2)\n",
      "memory usage: 76.4+ KB\n"
     ]
    }
   ],
   "source": [
    "df_copy.info()"
   ]
  },
  {
   "cell_type": "markdown",
   "metadata": {},
   "source": [
    "Cabin is only filled for 202 persons so we just drop the feature because its missing for the very majority of our data"
   ]
  },
  {
   "cell_type": "code",
   "execution_count": 758,
   "metadata": {
    "ExecuteTime": {
     "end_time": "2020-06-10T13:34:37.239068Z",
     "start_time": "2020-06-10T13:34:37.229291Z"
    }
   },
   "outputs": [],
   "source": [
    "df_copy = df_copy.drop([\"Cabin\"],axis=1)"
   ]
  },
  {
   "cell_type": "code",
   "execution_count": 759,
   "metadata": {
    "ExecuteTime": {
     "end_time": "2020-06-10T13:34:38.776049Z",
     "start_time": "2020-06-10T13:34:37.243597Z"
    }
   },
   "outputs": [
    {
     "data": {
      "text/plain": [
       "<matplotlib.axes._subplots.AxesSubplot at 0x7fa1df584710>"
      ]
     },
     "execution_count": 759,
     "metadata": {},
     "output_type": "execute_result"
    },
    {
     "data": {
      "image/png": "[encoded data removed]",
      "text/plain": [
       "<Figure size 1224x648 with 2 Axes>"
      ]
     },
     "metadata": {
      "needs_background": "light"
     },
     "output_type": "display_data"
    }
   ],
   "source": [
    "import matplotlib.pyplot as plt\n",
    "plt.figure(figsize=(17,9))\n",
    "sns.heatmap(df_copy.corr(),annot=True)"
   ]
  },
  {
   "cell_type": "markdown",
   "metadata": {},
   "source": [
    "Observations:\n",
    "\n",
    "* Survived seems to be stronger correlated to fare, Sex, and PClass\n",
    "* As suspected Pclass has correlations to Fare which is expected because PClass is some kind of bucketing of fares (often)\n",
    "* Sex is strongest correlated to Survived which is also explainable since women were probably a high priority\n",
    "* SibSp and Parch are strognly correlated, so we will create a new feature called \"Number of Family members\" that should reflect both of the features quite well\n",
    "* The correlation of embarked is not as high as one would think but still it is a usefull information and seems to be related to pclass which is interesting\n",
    "* Name is not on the plot, but it contains the title of someone so we extract this channeling it into a new feature"
   ]
  },
  {
   "cell_type": "code",
   "execution_count": 760,
   "metadata": {
    "ExecuteTime": {
     "end_time": "2020-06-10T13:34:38.823512Z",
     "start_time": "2020-06-10T13:34:38.784310Z"
    }
   },
   "outputs": [],
   "source": [
    "####  adding new feature title\n",
    "def name2Category(name):\n",
    "    start = name.find(\",\")\n",
    "    end = name.find(\".\")\n",
    "    return name[start+1:end].strip()\n",
    "\n",
    "\n",
    "df_copy[\"Title\"] = df_copy.apply(lambda x: name2Category(x[\"Name\"]),axis=1)\n",
    "\n",
    "#le = LabelEncoder()\n",
    "#df_copy[\"Title\"] = le.fit_transform(df_copy[\"Title\"])\n",
    "\n",
    "\n",
    "\n",
    "\n",
    "\n"
   ]
  },
  {
   "cell_type": "code",
   "execution_count": 761,
   "metadata": {
    "ExecuteTime": {
     "end_time": "2020-06-10T13:34:40.391408Z",
     "start_time": "2020-06-10T13:34:38.827748Z"
    }
   },
   "outputs": [
    {
     "data": {
      "text/plain": [
       "<matplotlib.axes._subplots.AxesSubplot at 0x7fa1db354358>"
      ]
     },
     "execution_count": 761,
     "metadata": {},
     "output_type": "execute_result"
    },
    {
     "data": {
      "image/png": "[encoded data removed]",
      "text/plain": [
       "<Figure size 1224x648 with 2 Axes>"
      ]
     },
     "metadata": {
      "needs_background": "light"
     },
     "output_type": "display_data"
    }
   ],
   "source": [
    "# create new feature \"number of family members\"\n",
    "\n",
    "df_copy[\"Number Family Members\"] = df_copy[\"Parch\"] + df_copy[\"SibSp\"]\n",
    "\n",
    "df_copy = df_copy.drop([\"Parch\",\"SibSp\"],axis=1)\n",
    "\n",
    "import matplotlib.pyplot as plt\n",
    "plt.figure(figsize=(17,9))\n",
    "sns.heatmap(df_copy.corr(),annot=True)\n",
    "\n"
   ]
  },
  {
   "cell_type": "markdown",
   "metadata": {
    "ExecuteTime": {
     "end_time": "2020-06-08T13:47:03.547170Z",
     "start_time": "2020-06-08T13:47:03.545506Z"
    }
   },
   "source": [
    "## EDA of all the features so far\n",
    "\n",
    "plan:\n",
    "\n",
    "* find out how balanced the classes are by investigating survived variable\n",
    "* each feature to be investigated upon its distribution and corrleation to target variable\n",
    "* Age has missing values but correlates stronger with \"Number Family Members\", \"Title\", \"PClass\"\n",
    "\n",
    "we will try to impute missing Age numbers with a regression over said 3 features"
   ]
  },
  {
   "cell_type": "markdown",
   "metadata": {
    "ExecuteTime": {
     "end_time": "2020-06-09T13:57:06.558378Z",
     "start_time": "2020-06-09T13:57:06.555820Z"
    }
   },
   "source": [
    "\n",
    "### handle missing age values"
   ]
  },
  {
   "cell_type": "code",
   "execution_count": 762,
   "metadata": {
    "ExecuteTime": {
     "end_time": "2020-06-10T13:34:40.434805Z",
     "start_time": "2020-06-10T13:34:40.399050Z"
    }
   },
   "outputs": [],
   "source": [
    "from sklearn.ensemble import RandomForestRegressor\n",
    "\n",
    "def fillAge(data):\n",
    "\n",
    "    \n",
    "    df_ages = data.copy()\n",
    "    \n",
    "    df_ages = df_ages[[\"Pclass\",\"Title\",\"Number Family Members\",\"Sex\",\"Age\"]]\n",
    "    \n",
    "    df_ages = df_ages.join(pd.get_dummies(df_ages[\"Title\"]))\n",
    "    df_ages = df_ages.drop([\"Title\"],axis=1)\n",
    "    \n",
    "    df_ages = df_ages.join(pd.get_dummies(df_ages[\"Pclass\"]))\n",
    "    df_ages = df_ages.drop([\"Pclass\"],axis=1)\n",
    "    \n",
    "    df_ages = df_ages.join(pd.get_dummies(df_ages[\"Sex\"]))\n",
    "    df_ages = df_ages.drop([\"Sex\"],axis=1)\n",
    "    \n",
    "    \n",
    "    r = RandomForestRegressor()\n",
    "    \n",
    "    df_train = df_ages[df_ages[\"Age\"].notnull()]\n",
    "    df_test =  df_ages[~df_ages[\"Age\"].notnull()]\n",
    "    \n",
    "    X_train, y_train = df_train.drop([\"Age\"],axis=1), df_train[\"Age\"]\n",
    "    X_test, _ = df_test.drop([\"Age\"],axis=1), df_test[\"Age\"]\n",
    "    \n",
    "    r = RandomForestRegressor(n_estimators=300,max_depth=100)\n",
    "    r.fit(X_train, y_train)\n",
    "    \n",
    "    data.loc[X_test.index,\"Age\"] = np.round(r.predict(X_test),0)\n",
    "    \n",
    "    \n",
    "    ## add bracket\n",
    "    data[\"AgeBucket\"] = data.apply(lambda x: pd.cut([x[\"Age\"]],[0,2,6,12,18,30,40,60,80,100])[0],axis=1)\n",
    "    \n",
    "    print(data[data.AgeBucket.isna()])\n",
    "    \n",
    "    return data\n",
    "\n"
   ]
  },
  {
   "cell_type": "code",
   "execution_count": null,
   "metadata": {},
   "outputs": [],
   "source": []
  },
  {
   "cell_type": "code",
   "execution_count": null,
   "metadata": {},
   "outputs": [],
   "source": []
  },
  {
   "cell_type": "markdown",
   "metadata": {},
   "source": [
    "#### Survived"
   ]
  },
  {
   "cell_type": "code",
   "execution_count": 763,
   "metadata": {
    "ExecuteTime": {
     "end_time": "2020-06-10T13:34:40.897117Z",
     "start_time": "2020-06-10T13:34:40.443847Z"
    }
   },
   "outputs": [
    {
     "name": "stdout",
     "output_type": "stream",
     "text": [
      "[1.61470588 1.        ]\n"
     ]
    },
    {
     "data": {
      "image/png": "[encoded data removed]",
      "text/plain": [
       "<Figure size 432x288 with 1 Axes>"
      ]
     },
     "metadata": {
      "needs_background": "light"
     },
     "output_type": "display_data"
    }
   ],
   "source": [
    "df_copy[\"Survived\"].hist()\n",
    "\n",
    "survived_distribution = df_copy[[\"Survived\",\"Sex\"]].groupby(\"Survived\").count().values.ravel()\n",
    "survived_distribution = survived_distribution / survived_distribution[1]\n",
    "print(survived_distribution)\n"
   ]
  },
  {
   "cell_type": "markdown",
   "metadata": {},
   "source": [
    "So the ratio is 1:61 survived to not survived. We need to keep this in mind for when we apply models to it. It might be good to even out the classes by over- or undersampling the data to make the groups more balanced"
   ]
  },
  {
   "cell_type": "markdown",
   "metadata": {},
   "source": [
    "#### pclass"
   ]
  },
  {
   "cell_type": "code",
   "execution_count": 764,
   "metadata": {
    "ExecuteTime": {
     "end_time": "2020-06-10T13:34:42.013019Z",
     "start_time": "2020-06-10T13:34:40.902965Z"
    }
   },
   "outputs": [
    {
     "data": {
      "text/plain": [
       "<matplotlib.axes._subplots.AxesSubplot at 0x7fa1e47fa5f8>"
      ]
     },
     "execution_count": 764,
     "metadata": {},
     "output_type": "execute_result"
    },
    {
     "data": {
      "image/png": "[encoded data removed]",
      "text/plain": [
       "<Figure size 1008x504 with 3 Axes>"
      ]
     },
     "metadata": {
      "needs_background": "light"
     },
     "output_type": "display_data"
    }
   ],
   "source": [
    "\n",
    "plt.figure(figsize=(14,7))\n",
    "\n",
    "a = plt.subplot(131)\n",
    "sns.distplot(df_copy[\"Pclass\"],ax=a)\n",
    "\n",
    "a = plt.subplot(132)\n",
    "df_copy[[\"Survived\",\"Pclass\"]].groupby([\"Survived\"]).mean().plot(ax=a,kind=\"bar\")\n",
    "\n",
    "a = plt.subplot(133)\n",
    "df_copy[[\"Survived\",\"Pclass\"]].groupby([\"Pclass\"]).mean().plot(ax=a,kind=\"bar\")\n",
    "\n"
   ]
  },
  {
   "cell_type": "markdown",
   "metadata": {},
   "source": [
    "As seen in fig 1 overall we have a lot more Class 3 Passengers. However class 1 passengers were about 63% sure to survive in contrast to around 25% in class 3 (fig 3)\n",
    "\n",
    "Overall we value this Parameter having a bigger influence to the target variable"
   ]
  },
  {
   "cell_type": "markdown",
   "metadata": {},
   "source": [
    "#### Sex"
   ]
  },
  {
   "cell_type": "code",
   "execution_count": 765,
   "metadata": {
    "ExecuteTime": {
     "end_time": "2020-06-10T13:34:42.987595Z",
     "start_time": "2020-06-10T13:34:42.017528Z"
    }
   },
   "outputs": [
    {
     "data": {
      "text/plain": [
       "<matplotlib.axes._subplots.AxesSubplot at 0x7fa1e4990ac8>"
      ]
     },
     "execution_count": 765,
     "metadata": {},
     "output_type": "execute_result"
    },
    {
     "data": {
      "image/png": "[encoded data removed]",
      "text/plain": [
       "<Figure size 1008x504 with 3 Axes>"
      ]
     },
     "metadata": {
      "needs_background": "light"
     },
     "output_type": "display_data"
    }
   ],
   "source": [
    "\n",
    "plt.figure(figsize=(14,7))\n",
    "\n",
    "a = plt.subplot(131)\n",
    "sns.distplot(df_copy[\"Sex\"],ax=a)\n",
    "\n",
    "a = plt.subplot(132)\n",
    "df_copy[[\"Survived\",\"Sex\"]].groupby([\"Survived\"]).mean().plot(ax=a,kind=\"bar\")\n",
    "\n",
    "a = plt.subplot(133)\n",
    "df_copy[[\"Survived\",\"Sex\"]].groupby([\"Sex\"]).mean().plot(ax=a,kind=\"bar\")\n",
    "\n"
   ]
  },
  {
   "cell_type": "markdown",
   "metadata": {},
   "source": [
    "Keeping in mind that Sex 1 means Man and Sex 0 means woman\n",
    "\n",
    "We seem to have double the amount of men on the ship (fig 1)\n",
    "\n",
    "Also it was much more likely for women to survive (fig 3). men only had a change ~20% to survive.\n",
    "So this seems to be a very strong indicator."
   ]
  },
  {
   "cell_type": "markdown",
   "metadata": {},
   "source": [
    "#### Age"
   ]
  },
  {
   "cell_type": "code",
   "execution_count": 766,
   "metadata": {
    "ExecuteTime": {
     "end_time": "2020-06-10T13:34:44.443519Z",
     "start_time": "2020-06-10T13:34:42.992954Z"
    }
   },
   "outputs": [
    {
     "data": {
      "text/plain": [
       "<matplotlib.axes._subplots.AxesSubplot at 0x7fa1d80ce320>"
      ]
     },
     "execution_count": 766,
     "metadata": {},
     "output_type": "execute_result"
    },
    {
     "data": {
      "image/png": "[encoded data removed]",
      "text/plain": [
       "<Figure size 1008x504 with 3 Axes>"
      ]
     },
     "metadata": {
      "needs_background": "light"
     },
     "output_type": "display_data"
    }
   ],
   "source": [
    "\n",
    "plt.figure(figsize=(14,7))\n",
    "\n",
    "a = plt.subplot(131)\n",
    "sns.distplot(df_copy[\"Age\"],ax=a)\n",
    "\n",
    "a = plt.subplot(132)\n",
    "df_copy[[\"Survived\",\"Age\"]].groupby([\"Survived\"]).mean().plot(ax=a,kind=\"bar\")\n",
    "\n",
    "a = plt.subplot(133)\n",
    "\n",
    "# create buckets for age \n",
    "df_temp = df_copy.copy()\n",
    "\n",
    "df_temp[\"ageBucket\"] = pd.cut(df_temp[\"Age\"],10)\n",
    "\n",
    "df_temp[[\"Survived\",\"ageBucket\"]].groupby([\"ageBucket\"]).mean().plot(ax=a,kind=\"bar\")\n",
    "\n"
   ]
  },
  {
   "cell_type": "markdown",
   "metadata": {},
   "source": [
    "Overall its visible that the Age is a normal distribution with a skew to the right. Furtheremore we seem to have a lot of lids with age 0 on board. This was probably used for babys. (fig 1)\n",
    "\n",
    "The average survivors age is not very different from the average dead person as seen in fig 2\n",
    "\n",
    "Bucketing the ages we can see that a lot of infants survived but the rest of the people seem to have almost a 50/50 chance of surviving. People older than 72 are a bit more likely to survive.\n",
    "\n",
    "Probably this is still a good feature combined with gender, so we keep it. Just a look at the age distribution at age 0 is up because it is actually disturbing the normal distribution"
   ]
  },
  {
   "cell_type": "code",
   "execution_count": 767,
   "metadata": {
    "ExecuteTime": {
     "end_time": "2020-06-10T13:34:44.483292Z",
     "start_time": "2020-06-10T13:34:44.445370Z"
    }
   },
   "outputs": [
    {
     "data": {
      "text/html": [
       "<div>\n",
       "<style scoped>\n",
       "    .dataframe tbody tr th:only-of-type {\n",
       "        vertical-align: middle;\n",
       "    }\n",
       "\n",
       "    .dataframe tbody tr th {\n",
       "        vertical-align: top;\n",
       "    }\n",
       "\n",
       "    .dataframe thead th {\n",
       "        text-align: right;\n",
       "    }\n",
       "</style>\n",
       "<table border=\"1\" class=\"dataframe\">\n",
       "  <thead>\n",
       "    <tr style=\"text-align: right;\">\n",
       "      <th></th>\n",
       "      <th>Survived</th>\n",
       "      <th>Pclass</th>\n",
       "      <th>Name</th>\n",
       "      <th>Sex</th>\n",
       "      <th>Age</th>\n",
       "      <th>Fare</th>\n",
       "      <th>Embarked</th>\n",
       "      <th>Title</th>\n",
       "      <th>Number Family Members</th>\n",
       "      <th>ageBucket</th>\n",
       "    </tr>\n",
       "  </thead>\n",
       "  <tbody>\n",
       "    <tr>\n",
       "      <th>7</th>\n",
       "      <td>0</td>\n",
       "      <td>3</td>\n",
       "      <td>Palsson, Master. Gosta Leonard</td>\n",
       "      <td>1</td>\n",
       "      <td>2.00</td>\n",
       "      <td>21.0750</td>\n",
       "      <td>2</td>\n",
       "      <td>Master</td>\n",
       "      <td>4</td>\n",
       "      <td>(0.34, 8.378]</td>\n",
       "    </tr>\n",
       "    <tr>\n",
       "      <th>16</th>\n",
       "      <td>0</td>\n",
       "      <td>3</td>\n",
       "      <td>Rice, Master. Eugene</td>\n",
       "      <td>1</td>\n",
       "      <td>2.00</td>\n",
       "      <td>29.1250</td>\n",
       "      <td>1</td>\n",
       "      <td>Master</td>\n",
       "      <td>5</td>\n",
       "      <td>(0.34, 8.378]</td>\n",
       "    </tr>\n",
       "    <tr>\n",
       "      <th>43</th>\n",
       "      <td>1</td>\n",
       "      <td>2</td>\n",
       "      <td>Laroche, Miss. Simonne Marie Anne Andree</td>\n",
       "      <td>0</td>\n",
       "      <td>3.00</td>\n",
       "      <td>41.5792</td>\n",
       "      <td>0</td>\n",
       "      <td>Miss</td>\n",
       "      <td>3</td>\n",
       "      <td>(0.34, 8.378]</td>\n",
       "    </tr>\n",
       "    <tr>\n",
       "      <th>78</th>\n",
       "      <td>1</td>\n",
       "      <td>2</td>\n",
       "      <td>Caldwell, Master. Alden Gates</td>\n",
       "      <td>1</td>\n",
       "      <td>0.83</td>\n",
       "      <td>29.0000</td>\n",
       "      <td>2</td>\n",
       "      <td>Master</td>\n",
       "      <td>2</td>\n",
       "      <td>(0.34, 8.378]</td>\n",
       "    </tr>\n",
       "    <tr>\n",
       "      <th>119</th>\n",
       "      <td>0</td>\n",
       "      <td>3</td>\n",
       "      <td>Andersson, Miss. Ellis Anna Maria</td>\n",
       "      <td>0</td>\n",
       "      <td>2.00</td>\n",
       "      <td>31.2750</td>\n",
       "      <td>2</td>\n",
       "      <td>Miss</td>\n",
       "      <td>6</td>\n",
       "      <td>(0.34, 8.378]</td>\n",
       "    </tr>\n",
       "    <tr>\n",
       "      <th>164</th>\n",
       "      <td>0</td>\n",
       "      <td>3</td>\n",
       "      <td>Panula, Master. Eino Viljami</td>\n",
       "      <td>1</td>\n",
       "      <td>1.00</td>\n",
       "      <td>39.6875</td>\n",
       "      <td>2</td>\n",
       "      <td>Master</td>\n",
       "      <td>5</td>\n",
       "      <td>(0.34, 8.378]</td>\n",
       "    </tr>\n",
       "    <tr>\n",
       "      <th>172</th>\n",
       "      <td>1</td>\n",
       "      <td>3</td>\n",
       "      <td>Johnson, Miss. Eleanor Ileen</td>\n",
       "      <td>0</td>\n",
       "      <td>1.00</td>\n",
       "      <td>11.1333</td>\n",
       "      <td>2</td>\n",
       "      <td>Miss</td>\n",
       "      <td>2</td>\n",
       "      <td>(0.34, 8.378]</td>\n",
       "    </tr>\n",
       "    <tr>\n",
       "      <th>183</th>\n",
       "      <td>1</td>\n",
       "      <td>2</td>\n",
       "      <td>Becker, Master. Richard F</td>\n",
       "      <td>1</td>\n",
       "      <td>1.00</td>\n",
       "      <td>39.0000</td>\n",
       "      <td>2</td>\n",
       "      <td>Master</td>\n",
       "      <td>3</td>\n",
       "      <td>(0.34, 8.378]</td>\n",
       "    </tr>\n",
       "    <tr>\n",
       "      <th>193</th>\n",
       "      <td>1</td>\n",
       "      <td>2</td>\n",
       "      <td>Navratil, Master. Michel M</td>\n",
       "      <td>1</td>\n",
       "      <td>3.00</td>\n",
       "      <td>26.0000</td>\n",
       "      <td>2</td>\n",
       "      <td>Master</td>\n",
       "      <td>2</td>\n",
       "      <td>(0.34, 8.378]</td>\n",
       "    </tr>\n",
       "    <tr>\n",
       "      <th>205</th>\n",
       "      <td>0</td>\n",
       "      <td>3</td>\n",
       "      <td>Strom, Miss. Telma Matilda</td>\n",
       "      <td>0</td>\n",
       "      <td>2.00</td>\n",
       "      <td>10.4625</td>\n",
       "      <td>2</td>\n",
       "      <td>Miss</td>\n",
       "      <td>1</td>\n",
       "      <td>(0.34, 8.378]</td>\n",
       "    </tr>\n",
       "    <tr>\n",
       "      <th>261</th>\n",
       "      <td>1</td>\n",
       "      <td>3</td>\n",
       "      <td>Asplund, Master. Edvin Rojj Felix</td>\n",
       "      <td>1</td>\n",
       "      <td>3.00</td>\n",
       "      <td>31.3875</td>\n",
       "      <td>2</td>\n",
       "      <td>Master</td>\n",
       "      <td>6</td>\n",
       "      <td>(0.34, 8.378]</td>\n",
       "    </tr>\n",
       "    <tr>\n",
       "      <th>297</th>\n",
       "      <td>0</td>\n",
       "      <td>1</td>\n",
       "      <td>Allison, Miss. Helen Loraine</td>\n",
       "      <td>0</td>\n",
       "      <td>2.00</td>\n",
       "      <td>151.5500</td>\n",
       "      <td>2</td>\n",
       "      <td>Miss</td>\n",
       "      <td>3</td>\n",
       "      <td>(0.34, 8.378]</td>\n",
       "    </tr>\n",
       "    <tr>\n",
       "      <th>305</th>\n",
       "      <td>1</td>\n",
       "      <td>1</td>\n",
       "      <td>Allison, Master. Hudson Trevor</td>\n",
       "      <td>1</td>\n",
       "      <td>0.92</td>\n",
       "      <td>151.5500</td>\n",
       "      <td>2</td>\n",
       "      <td>Master</td>\n",
       "      <td>3</td>\n",
       "      <td>(0.34, 8.378]</td>\n",
       "    </tr>\n",
       "    <tr>\n",
       "      <th>340</th>\n",
       "      <td>1</td>\n",
       "      <td>2</td>\n",
       "      <td>Navratil, Master. Edmond Roger</td>\n",
       "      <td>1</td>\n",
       "      <td>2.00</td>\n",
       "      <td>26.0000</td>\n",
       "      <td>2</td>\n",
       "      <td>Master</td>\n",
       "      <td>2</td>\n",
       "      <td>(0.34, 8.378]</td>\n",
       "    </tr>\n",
       "    <tr>\n",
       "      <th>348</th>\n",
       "      <td>1</td>\n",
       "      <td>3</td>\n",
       "      <td>Coutts, Master. William Loch \"William\"</td>\n",
       "      <td>1</td>\n",
       "      <td>3.00</td>\n",
       "      <td>15.9000</td>\n",
       "      <td>2</td>\n",
       "      <td>Master</td>\n",
       "      <td>2</td>\n",
       "      <td>(0.34, 8.378]</td>\n",
       "    </tr>\n",
       "    <tr>\n",
       "      <th>374</th>\n",
       "      <td>0</td>\n",
       "      <td>3</td>\n",
       "      <td>Palsson, Miss. Stina Viola</td>\n",
       "      <td>0</td>\n",
       "      <td>3.00</td>\n",
       "      <td>21.0750</td>\n",
       "      <td>2</td>\n",
       "      <td>Miss</td>\n",
       "      <td>4</td>\n",
       "      <td>(0.34, 8.378]</td>\n",
       "    </tr>\n",
       "    <tr>\n",
       "      <th>381</th>\n",
       "      <td>1</td>\n",
       "      <td>3</td>\n",
       "      <td>Nakid, Miss. Maria (\"Mary\")</td>\n",
       "      <td>0</td>\n",
       "      <td>1.00</td>\n",
       "      <td>15.7417</td>\n",
       "      <td>0</td>\n",
       "      <td>Miss</td>\n",
       "      <td>2</td>\n",
       "      <td>(0.34, 8.378]</td>\n",
       "    </tr>\n",
       "    <tr>\n",
       "      <th>386</th>\n",
       "      <td>0</td>\n",
       "      <td>3</td>\n",
       "      <td>Goodwin, Master. Sidney Leonard</td>\n",
       "      <td>1</td>\n",
       "      <td>1.00</td>\n",
       "      <td>46.9000</td>\n",
       "      <td>2</td>\n",
       "      <td>Master</td>\n",
       "      <td>7</td>\n",
       "      <td>(0.34, 8.378]</td>\n",
       "    </tr>\n",
       "    <tr>\n",
       "      <th>407</th>\n",
       "      <td>1</td>\n",
       "      <td>2</td>\n",
       "      <td>Richards, Master. William Rowe</td>\n",
       "      <td>1</td>\n",
       "      <td>3.00</td>\n",
       "      <td>18.7500</td>\n",
       "      <td>2</td>\n",
       "      <td>Master</td>\n",
       "      <td>2</td>\n",
       "      <td>(0.34, 8.378]</td>\n",
       "    </tr>\n",
       "    <tr>\n",
       "      <th>469</th>\n",
       "      <td>1</td>\n",
       "      <td>3</td>\n",
       "      <td>Baclini, Miss. Helene Barbara</td>\n",
       "      <td>0</td>\n",
       "      <td>0.75</td>\n",
       "      <td>19.2583</td>\n",
       "      <td>0</td>\n",
       "      <td>Miss</td>\n",
       "      <td>3</td>\n",
       "      <td>(0.34, 8.378]</td>\n",
       "    </tr>\n",
       "    <tr>\n",
       "      <th>479</th>\n",
       "      <td>1</td>\n",
       "      <td>3</td>\n",
       "      <td>Hirvonen, Miss. Hildur E</td>\n",
       "      <td>0</td>\n",
       "      <td>2.00</td>\n",
       "      <td>12.2875</td>\n",
       "      <td>2</td>\n",
       "      <td>Miss</td>\n",
       "      <td>1</td>\n",
       "      <td>(0.34, 8.378]</td>\n",
       "    </tr>\n",
       "    <tr>\n",
       "      <th>530</th>\n",
       "      <td>1</td>\n",
       "      <td>2</td>\n",
       "      <td>Quick, Miss. Phyllis May</td>\n",
       "      <td>0</td>\n",
       "      <td>2.00</td>\n",
       "      <td>26.0000</td>\n",
       "      <td>2</td>\n",
       "      <td>Miss</td>\n",
       "      <td>2</td>\n",
       "      <td>(0.34, 8.378]</td>\n",
       "    </tr>\n",
       "    <tr>\n",
       "      <th>642</th>\n",
       "      <td>0</td>\n",
       "      <td>3</td>\n",
       "      <td>Skoog, Miss. Margit Elizabeth</td>\n",
       "      <td>0</td>\n",
       "      <td>2.00</td>\n",
       "      <td>27.9000</td>\n",
       "      <td>2</td>\n",
       "      <td>Miss</td>\n",
       "      <td>5</td>\n",
       "      <td>(0.34, 8.378]</td>\n",
       "    </tr>\n",
       "    <tr>\n",
       "      <th>644</th>\n",
       "      <td>1</td>\n",
       "      <td>3</td>\n",
       "      <td>Baclini, Miss. Eugenie</td>\n",
       "      <td>0</td>\n",
       "      <td>0.75</td>\n",
       "      <td>19.2583</td>\n",
       "      <td>0</td>\n",
       "      <td>Miss</td>\n",
       "      <td>3</td>\n",
       "      <td>(0.34, 8.378]</td>\n",
       "    </tr>\n",
       "    <tr>\n",
       "      <th>755</th>\n",
       "      <td>1</td>\n",
       "      <td>2</td>\n",
       "      <td>Hamalainen, Master. Viljo</td>\n",
       "      <td>1</td>\n",
       "      <td>0.67</td>\n",
       "      <td>14.5000</td>\n",
       "      <td>2</td>\n",
       "      <td>Master</td>\n",
       "      <td>2</td>\n",
       "      <td>(0.34, 8.378]</td>\n",
       "    </tr>\n",
       "    <tr>\n",
       "      <th>788</th>\n",
       "      <td>1</td>\n",
       "      <td>3</td>\n",
       "      <td>Dean, Master. Bertram Vere</td>\n",
       "      <td>1</td>\n",
       "      <td>1.00</td>\n",
       "      <td>20.5750</td>\n",
       "      <td>2</td>\n",
       "      <td>Master</td>\n",
       "      <td>3</td>\n",
       "      <td>(0.34, 8.378]</td>\n",
       "    </tr>\n",
       "    <tr>\n",
       "      <th>803</th>\n",
       "      <td>1</td>\n",
       "      <td>3</td>\n",
       "      <td>Thomas, Master. Assad Alexander</td>\n",
       "      <td>1</td>\n",
       "      <td>0.42</td>\n",
       "      <td>8.5167</td>\n",
       "      <td>0</td>\n",
       "      <td>Master</td>\n",
       "      <td>1</td>\n",
       "      <td>(0.34, 8.378]</td>\n",
       "    </tr>\n",
       "    <tr>\n",
       "      <th>824</th>\n",
       "      <td>0</td>\n",
       "      <td>3</td>\n",
       "      <td>Panula, Master. Urho Abraham</td>\n",
       "      <td>1</td>\n",
       "      <td>2.00</td>\n",
       "      <td>39.6875</td>\n",
       "      <td>2</td>\n",
       "      <td>Master</td>\n",
       "      <td>5</td>\n",
       "      <td>(0.34, 8.378]</td>\n",
       "    </tr>\n",
       "    <tr>\n",
       "      <th>827</th>\n",
       "      <td>1</td>\n",
       "      <td>2</td>\n",
       "      <td>Mallet, Master. Andre</td>\n",
       "      <td>1</td>\n",
       "      <td>1.00</td>\n",
       "      <td>37.0042</td>\n",
       "      <td>0</td>\n",
       "      <td>Master</td>\n",
       "      <td>2</td>\n",
       "      <td>(0.34, 8.378]</td>\n",
       "    </tr>\n",
       "    <tr>\n",
       "      <th>831</th>\n",
       "      <td>1</td>\n",
       "      <td>2</td>\n",
       "      <td>Richards, Master. George Sibley</td>\n",
       "      <td>1</td>\n",
       "      <td>0.83</td>\n",
       "      <td>18.7500</td>\n",
       "      <td>2</td>\n",
       "      <td>Master</td>\n",
       "      <td>2</td>\n",
       "      <td>(0.34, 8.378]</td>\n",
       "    </tr>\n",
       "  </tbody>\n",
       "</table>\n",
       "</div>"
      ],
      "text/plain": [
       "     Survived  Pclass                                      Name  Sex   Age  \\\n",
       "7           0       3            Palsson, Master. Gosta Leonard    1  2.00   \n",
       "16          0       3                      Rice, Master. Eugene    1  2.00   \n",
       "43          1       2  Laroche, Miss. Simonne Marie Anne Andree    0  3.00   \n",
       "78          1       2             Caldwell, Master. Alden Gates    1  0.83   \n",
       "119         0       3         Andersson, Miss. Ellis Anna Maria    0  2.00   \n",
       "164         0       3              Panula, Master. Eino Viljami    1  1.00   \n",
       "172         1       3              Johnson, Miss. Eleanor Ileen    0  1.00   \n",
       "183         1       2                 Becker, Master. Richard F    1  1.00   \n",
       "193         1       2                Navratil, Master. Michel M    1  3.00   \n",
       "205         0       3                Strom, Miss. Telma Matilda    0  2.00   \n",
       "261         1       3         Asplund, Master. Edvin Rojj Felix    1  3.00   \n",
       "297         0       1              Allison, Miss. Helen Loraine    0  2.00   \n",
       "305         1       1            Allison, Master. Hudson Trevor    1  0.92   \n",
       "340         1       2            Navratil, Master. Edmond Roger    1  2.00   \n",
       "348         1       3    Coutts, Master. William Loch \"William\"    1  3.00   \n",
       "374         0       3                Palsson, Miss. Stina Viola    0  3.00   \n",
       "381         1       3               Nakid, Miss. Maria (\"Mary\")    0  1.00   \n",
       "386         0       3           Goodwin, Master. Sidney Leonard    1  1.00   \n",
       "407         1       2            Richards, Master. William Rowe    1  3.00   \n",
       "469         1       3             Baclini, Miss. Helene Barbara    0  0.75   \n",
       "479         1       3                  Hirvonen, Miss. Hildur E    0  2.00   \n",
       "530         1       2                  Quick, Miss. Phyllis May    0  2.00   \n",
       "642         0       3             Skoog, Miss. Margit Elizabeth    0  2.00   \n",
       "644         1       3                    Baclini, Miss. Eugenie    0  0.75   \n",
       "755         1       2                 Hamalainen, Master. Viljo    1  0.67   \n",
       "788         1       3                Dean, Master. Bertram Vere    1  1.00   \n",
       "803         1       3           Thomas, Master. Assad Alexander    1  0.42   \n",
       "824         0       3              Panula, Master. Urho Abraham    1  2.00   \n",
       "827         1       2                     Mallet, Master. Andre    1  1.00   \n",
       "831         1       2           Richards, Master. George Sibley    1  0.83   \n",
       "\n",
       "         Fare  Embarked   Title  Number Family Members      ageBucket  \n",
       "7     21.0750         2  Master                      4  (0.34, 8.378]  \n",
       "16    29.1250         1  Master                      5  (0.34, 8.378]  \n",
       "43    41.5792         0    Miss                      3  (0.34, 8.378]  \n",
       "78    29.0000         2  Master                      2  (0.34, 8.378]  \n",
       "119   31.2750         2    Miss                      6  (0.34, 8.378]  \n",
       "164   39.6875         2  Master                      5  (0.34, 8.378]  \n",
       "172   11.1333         2    Miss                      2  (0.34, 8.378]  \n",
       "183   39.0000         2  Master                      3  (0.34, 8.378]  \n",
       "193   26.0000         2  Master                      2  (0.34, 8.378]  \n",
       "205   10.4625         2    Miss                      1  (0.34, 8.378]  \n",
       "261   31.3875         2  Master                      6  (0.34, 8.378]  \n",
       "297  151.5500         2    Miss                      3  (0.34, 8.378]  \n",
       "305  151.5500         2  Master                      3  (0.34, 8.378]  \n",
       "340   26.0000         2  Master                      2  (0.34, 8.378]  \n",
       "348   15.9000         2  Master                      2  (0.34, 8.378]  \n",
       "374   21.0750         2    Miss                      4  (0.34, 8.378]  \n",
       "381   15.7417         0    Miss                      2  (0.34, 8.378]  \n",
       "386   46.9000         2  Master                      7  (0.34, 8.378]  \n",
       "407   18.7500         2  Master                      2  (0.34, 8.378]  \n",
       "469   19.2583         0    Miss                      3  (0.34, 8.378]  \n",
       "479   12.2875         2    Miss                      1  (0.34, 8.378]  \n",
       "530   26.0000         2    Miss                      2  (0.34, 8.378]  \n",
       "642   27.9000         2    Miss                      5  (0.34, 8.378]  \n",
       "644   19.2583         0    Miss                      3  (0.34, 8.378]  \n",
       "755   14.5000         2  Master                      2  (0.34, 8.378]  \n",
       "788   20.5750         2  Master                      3  (0.34, 8.378]  \n",
       "803    8.5167         0  Master                      1  (0.34, 8.378]  \n",
       "824   39.6875         2  Master                      5  (0.34, 8.378]  \n",
       "827   37.0042         0  Master                      2  (0.34, 8.378]  \n",
       "831   18.7500         2  Master                      2  (0.34, 8.378]  "
      ]
     },
     "execution_count": 767,
     "metadata": {},
     "output_type": "execute_result"
    }
   ],
   "source": [
    "df_temp[df_temp[\"Age\"] < 4]"
   ]
  },
  {
   "cell_type": "markdown",
   "metadata": {},
   "source": [
    "Nothing unusual here, seems we had justa lot of 2 year old. It's probably rounding from years 2 on and before its using more granular age when the age is < 1. A thought here could be to normalize age <1 to 0 to not have the gaps in the ages"
   ]
  },
  {
   "cell_type": "code",
   "execution_count": 768,
   "metadata": {
    "ExecuteTime": {
     "end_time": "2020-06-10T13:34:44.497368Z",
     "start_time": "2020-06-10T13:34:44.487746Z"
    }
   },
   "outputs": [],
   "source": [
    "df_copy[\"Age\"] = df_copy[\"Age\"].apply(lambda x: 0 if x < 1 else x)"
   ]
  },
  {
   "cell_type": "markdown",
   "metadata": {},
   "source": [
    "#### Fare"
   ]
  },
  {
   "cell_type": "code",
   "execution_count": 769,
   "metadata": {
    "ExecuteTime": {
     "end_time": "2020-06-10T13:34:46.403685Z",
     "start_time": "2020-06-10T13:34:44.502415Z"
    }
   },
   "outputs": [
    {
     "data": {
      "text/plain": [
       "<matplotlib.axes._subplots.AxesSubplot at 0x7fa1dacbdf28>"
      ]
     },
     "execution_count": 769,
     "metadata": {},
     "output_type": "execute_result"
    },
    {
     "data": {
      "image/png": "[encoded data removed]",
      "text/plain": [
       "<Figure size 1008x1008 with 4 Axes>"
      ]
     },
     "metadata": {
      "needs_background": "light"
     },
     "output_type": "display_data"
    }
   ],
   "source": [
    "\n",
    "plt.figure(figsize=(14,14))\n",
    "\n",
    "a = plt.subplot(221)\n",
    "sns.distplot(df_copy[\"Fare\"],ax=a)\n",
    "\n",
    "a = plt.subplot(222)\n",
    "df_copy[[\"Survived\",\"Fare\"]].groupby([\"Survived\"]).mean().plot(ax=a,kind=\"bar\")\n",
    "\n",
    "a = plt.subplot(223)\n",
    "\n",
    "# create buckets for Fare \n",
    "df_temp = df_copy.copy()\n",
    "\n",
    "df_temp[\"fareBucket\"] = pd.cut(df_temp[\"Fare\"],10)\n",
    "\n",
    "df_temp[[\"Survived\",\"fareBucket\"]].groupby([\"fareBucket\"]).mean().plot(ax=a,kind=\"bar\")\n",
    "\n",
    "\n",
    "a = plt.subplot(224)\n",
    "sns.boxplot(data=df_copy[[\"Fare\"]],ax=a)\n",
    "\n"
   ]
  },
  {
   "cell_type": "markdown",
   "metadata": {},
   "source": [
    "First all, the majority of tickets seem to be < 20 $. (fig 4, fig 1), therefore a lot of these extrem high values of 500 or between 100 and 300 are outliers.\n",
    "\n",
    "In general the average survivor paid almost double the price than the average dead person. (fig 2).\n",
    "\n",
    "Also certain price ranges have 100\\% survivability\n",
    "\n",
    "the 500 outlier will be filtered however because it seems to be one data point that will completely useless for us and indeed is a outlier"
   ]
  },
  {
   "cell_type": "code",
   "execution_count": 770,
   "metadata": {
    "ExecuteTime": {
     "end_time": "2020-06-10T13:34:46.420697Z",
     "start_time": "2020-06-10T13:34:46.408247Z"
    }
   },
   "outputs": [],
   "source": [
    "df_copy[df_copy[\"Fare\"] > 300]\n",
    "\n",
    "# actuall its 3 people who have the highsest fare, so we remove them because there are an exception and don't represent the data set very well\n",
    "\n",
    "df_copy = df_copy[df_copy[\"Fare\"] < 300]"
   ]
  },
  {
   "cell_type": "markdown",
   "metadata": {
    "ExecuteTime": {
     "end_time": "2020-06-08T15:39:45.441119Z",
     "start_time": "2020-06-08T15:39:44.374299Z"
    }
   },
   "source": [
    "#### Embarked"
   ]
  },
  {
   "cell_type": "code",
   "execution_count": 771,
   "metadata": {
    "ExecuteTime": {
     "end_time": "2020-06-10T13:34:47.480411Z",
     "start_time": "2020-06-10T13:34:46.426860Z"
    }
   },
   "outputs": [
    {
     "data": {
      "text/plain": [
       "<matplotlib.axes._subplots.AxesSubplot at 0x7fa1f6b39c88>"
      ]
     },
     "execution_count": 771,
     "metadata": {},
     "output_type": "execute_result"
    },
    {
     "data": {
      "image/png": "[encoded data removed]",
      "text/plain": [
       "<Figure size 1008x504 with 3 Axes>"
      ]
     },
     "metadata": {
      "needs_background": "light"
     },
     "output_type": "display_data"
    }
   ],
   "source": [
    "\n",
    "plt.figure(figsize=(14,7))\n",
    "\n",
    "a = plt.subplot(131)\n",
    "sns.distplot(df_copy[\"Embarked\"],ax=a)\n",
    "\n",
    "a = plt.subplot(132)\n",
    "df_copy[[\"Survived\",\"Embarked\"]].groupby([\"Survived\"]).mean().plot(ax=a,kind=\"bar\")\n",
    "\n",
    "a = plt.subplot(133)\n",
    "\n",
    "df_copy[[\"Survived\",\"Embarked\"]].groupby([\"Embarked\"]).mean().plot(ax=a,kind=\"bar\")\n",
    "\n",
    "\n"
   ]
  },
  {
   "cell_type": "markdown",
   "metadata": {},
   "source": [
    "First we notice that there a lot of members embarqued in 2.\n",
    "\n",
    "People embarqued in 0 were around 10% more likely to survive.\n",
    "\n",
    "We leave this feature as it is."
   ]
  },
  {
   "cell_type": "markdown",
   "metadata": {},
   "source": [
    "#### Number of (other) Familiy Member "
   ]
  },
  {
   "cell_type": "code",
   "execution_count": 772,
   "metadata": {
    "ExecuteTime": {
     "end_time": "2020-06-10T13:34:48.757056Z",
     "start_time": "2020-06-10T13:34:47.484245Z"
    }
   },
   "outputs": [
    {
     "data": {
      "text/plain": [
       "<matplotlib.axes._subplots.AxesSubplot at 0x7fa1d1067978>"
      ]
     },
     "execution_count": 772,
     "metadata": {},
     "output_type": "execute_result"
    },
    {
     "data": {
      "image/png": "[encoded data removed]",
      "text/plain": [
       "<Figure size 1008x504 with 3 Axes>"
      ]
     },
     "metadata": {
      "needs_background": "light"
     },
     "output_type": "display_data"
    }
   ],
   "source": [
    "\n",
    "plt.figure(figsize=(14,7))\n",
    "\n",
    "a = plt.subplot(131)\n",
    "sns.distplot(df_copy[\"Number Family Members\"],ax=a)\n",
    "\n",
    "a = plt.subplot(132)\n",
    "df_copy[[\"Survived\",\"Number Family Members\"]].groupby([\"Survived\"]).mean().plot(ax=a,kind=\"bar\")\n",
    "\n",
    "a = plt.subplot(133)\n",
    "\n",
    "df_copy[[\"Survived\",\"Number Family Members\"]].groupby([\"Number Family Members\"]).mean().plot(ax=a,kind=\"bar\")\n",
    "\n",
    "\n"
   ]
  },
  {
   "cell_type": "markdown",
   "metadata": {},
   "source": [
    "Most people have no other family member on board. \n",
    "\n",
    "People with 3 other family members have a 70% to survive, whilst People with 0 family members have only a 30% of survival.\n",
    "\n",
    "But overall the average survivor had around 1 family member on board while the average dead person had .9. so its not that influencale "
   ]
  },
  {
   "cell_type": "markdown",
   "metadata": {
    "ExecuteTime": {
     "end_time": "2020-06-08T15:51:03.098085Z",
     "start_time": "2020-06-08T15:51:03.094879Z"
    }
   },
   "source": [
    "## Models"
   ]
  },
  {
   "cell_type": "code",
   "execution_count": 773,
   "metadata": {
    "ExecuteTime": {
     "end_time": "2020-06-10T13:34:48.778299Z",
     "start_time": "2020-06-10T13:34:48.760970Z"
    }
   },
   "outputs": [
    {
     "name": "stdout",
     "output_type": "stream",
     "text": [
      "<class 'pandas.core.frame.DataFrame'>\n",
      "Int64Index: 886 entries, 0 to 890\n",
      "Data columns (total 9 columns):\n",
      " #   Column                 Non-Null Count  Dtype  \n",
      "---  ------                 --------------  -----  \n",
      " 0   Survived               886 non-null    int64  \n",
      " 1   Pclass                 886 non-null    int64  \n",
      " 2   Name                   886 non-null    object \n",
      " 3   Sex                    886 non-null    int64  \n",
      " 4   Age                    709 non-null    float64\n",
      " 5   Fare                   886 non-null    float64\n",
      " 6   Embarked               886 non-null    int64  \n",
      " 7   Title                  886 non-null    object \n",
      " 8   Number Family Members  886 non-null    int64  \n",
      "dtypes: float64(2), int64(5), object(2)\n",
      "memory usage: 69.2+ KB\n"
     ]
    }
   ],
   "source": [
    "# last check for null values\n",
    "\n",
    "accuracy_map = {}\n",
    "\n",
    "df_copy.info()"
   ]
  },
  {
   "cell_type": "code",
   "execution_count": 774,
   "metadata": {
    "ExecuteTime": {
     "end_time": "2020-06-10T13:34:52.359369Z",
     "start_time": "2020-06-10T13:34:48.782219Z"
    }
   },
   "outputs": [
    {
     "name": "stdout",
     "output_type": "stream",
     "text": [
      "Empty DataFrame\n",
      "Columns: [Survived, Pclass, Name, Sex, Age, SibSp, Parch, Fare, Cabin, Embarked, Number Family Members, Title, AgeBucket]\n",
      "Index: []\n"
     ]
    }
   ],
   "source": [
    "# First create a Pipeline reflecting all our changes done manually in the above \n",
    "# to be able to redo this with test data or new data in general\n",
    "from sklearn.base import BaseEstimator, TransformerMixin\n",
    "from sklearn.pipeline import Pipeline, FeatureUnion\n",
    "from sklearn.preprocessing import OneHotEncoder, StandardScaler\n",
    "from sklearn.model_selection import train_test_split, cross_val_score\n",
    "\n",
    "\n",
    "class AddNewFeature(BaseEstimator, TransformerMixin):\n",
    "    def __init__(self, colname, formula):\n",
    "        self.colname = colname\n",
    "        self.formula = formula\n",
    "        \n",
    "    def fit(self, X, y=None):\n",
    "        return self\n",
    "    \n",
    "    def transform(self, X):\n",
    "        X[self.colname] = X.apply(self.formula, axis=1)\n",
    "        return X\n",
    "    \n",
    "class ColSelector(BaseEstimator, TransformerMixin):\n",
    "    def __init__(self, collist):\n",
    "        self.collist = collist\n",
    "        \n",
    "    def fit(self, X, y=None):\n",
    "        return self\n",
    "    \n",
    "    def transform(self, X):\n",
    "        return X[self.collist]\n",
    "\n",
    "class RowSelector(BaseEstimator, TransformerMixin):\n",
    "    def __init__(self, condition):\n",
    "        self.condition = condition\n",
    "        \n",
    "    def fit(self, X, y=None):\n",
    "        return self\n",
    "    \n",
    "    def transform(self, X):\n",
    "        return X[X.apply(self.condition,axis=1)]\n",
    "\n",
    "    \n",
    "# create Pipelines\n",
    "\n",
    "\n",
    "\n",
    "numerical_features = [\"Number Family Members\", \"Fare\", \"Age\"]\n",
    "caterogical_features = [\"Pclass\",\"Sex\",\"Embarked\",\"Title\",\"AgeBucket\",\"Cabin\"]\n",
    "\n",
    "def name2Category(name):\n",
    "    start = name.find(\",\")\n",
    "    end = name.find(\".\")\n",
    "    return name[start+1:end].strip()\n",
    "\n",
    "\n",
    "df_copy[\"Title\"] = df_copy.apply(lambda x: name2Category(x[\"Name\"]),axis=1)\n",
    "\n",
    "\n",
    "filtering_Pipeline = Pipeline([\n",
    "    (\"setEmbarkedToOther\", AddNewFeature(\"Embarked\", lambda x: \"other\" if pd.isnull(x[\"Embarked\"])  else x[\"Embarked\"])),\n",
    "    #(\"fixAge\", AddNewFeature(\"Age\", lambda x: np.round(x[\"Age\"],0) )),\n",
    "    (\"familyMemberFeature\", AddNewFeature(\"Number Family Members\", lambda x: x[\"SibSp\"] + x[\"Parch\"])),\n",
    "    (\"addTitle\", AddNewFeature(\"Title\", lambda x: name2Category(x[\"Name\"]))),\n",
    "    (\"setCabinToXifNull\", AddNewFeature(\"Cabin\", lambda x: 'X' if pd.isnull(x[\"Cabin\"]) else x[\"Cabin\"][:1]))\n",
    "]) \n",
    "\n",
    "from sklearn.impute import SimpleImputer\n",
    "\n",
    "numerical_Pipeline = Pipeline([\n",
    "    #(\"cleaning\", filtering_Pipeline),\n",
    "    (\"filter\" , ColSelector(numerical_features)),\n",
    "    (\"imputer\", SimpleImputer()),\n",
    "    (\"scaler\", StandardScaler())\n",
    "])\n",
    "\n",
    "\n",
    "categorical_Pipeline = Pipeline([\n",
    "    #(\"cleaning\", filtering_Pipeline),\n",
    "    (\"filter\" , ColSelector(caterogical_features)),\n",
    "    (\"scaler\", OneHotEncoder(handle_unknown=\"ignore\"))\n",
    "])\n",
    "\n",
    "full_Pipeline = FeatureUnion([\n",
    "    (\"numerical\", numerical_Pipeline),\n",
    "    (\"categorical\", categorical_Pipeline)\n",
    "])\n",
    "\n",
    "\n",
    "\n",
    "## cleaning \n",
    "### first clean age by interpolating with model\n",
    "\n",
    "df_cleaned = filtering_Pipeline.fit_transform(df)\n",
    "df_cleaned = fillAge(df_cleaned)\n",
    "\n",
    "\n",
    "# Seperate target from features \n",
    "X = df_cleaned[[\"Pclass\",\"Sex\",\"Age\",\"SibSp\",\"Parch\",\"Fare\",\"Embarked\",\"Number Family Members\",\"Title\",\"Cabin\",\"AgeBucket\"]]\n",
    "\n",
    "y = df_cleaned[\"Survived\"]\n",
    "\n",
    "\n",
    "\n",
    "X_train, X_test, y_train, y_test = train_test_split(X,y, test_size=.2)\n",
    "\n",
    "\n"
   ]
  },
  {
   "cell_type": "code",
   "execution_count": 775,
   "metadata": {
    "ExecuteTime": {
     "end_time": "2020-06-10T13:34:52.380036Z",
     "start_time": "2020-06-10T13:34:52.365649Z"
    }
   },
   "outputs": [
    {
     "data": {
      "text/html": [
       "<div>\n",
       "<style scoped>\n",
       "    .dataframe tbody tr th:only-of-type {\n",
       "        vertical-align: middle;\n",
       "    }\n",
       "\n",
       "    .dataframe tbody tr th {\n",
       "        vertical-align: top;\n",
       "    }\n",
       "\n",
       "    .dataframe thead th {\n",
       "        text-align: right;\n",
       "    }\n",
       "</style>\n",
       "<table border=\"1\" class=\"dataframe\">\n",
       "  <thead>\n",
       "    <tr style=\"text-align: right;\">\n",
       "      <th></th>\n",
       "      <th>Pclass</th>\n",
       "      <th>Sex</th>\n",
       "      <th>Age</th>\n",
       "      <th>SibSp</th>\n",
       "      <th>Parch</th>\n",
       "      <th>Fare</th>\n",
       "      <th>Embarked</th>\n",
       "      <th>Number Family Members</th>\n",
       "      <th>Title</th>\n",
       "      <th>Cabin</th>\n",
       "      <th>AgeBucket</th>\n",
       "    </tr>\n",
       "  </thead>\n",
       "  <tbody>\n",
       "  </tbody>\n",
       "</table>\n",
       "</div>"
      ],
      "text/plain": [
       "Empty DataFrame\n",
       "Columns: [Pclass, Sex, Age, SibSp, Parch, Fare, Embarked, Number Family Members, Title, Cabin, AgeBucket]\n",
       "Index: []"
      ]
     },
     "execution_count": 775,
     "metadata": {},
     "output_type": "execute_result"
    }
   ],
   "source": [
    "X_train[X_train.AgeBucket.isna()]"
   ]
  },
  {
   "cell_type": "markdown",
   "metadata": {},
   "source": [
    "### Random Forest"
   ]
  },
  {
   "cell_type": "code",
   "execution_count": 776,
   "metadata": {
    "ExecuteTime": {
     "end_time": "2020-06-10T13:35:02.282896Z",
     "start_time": "2020-06-10T13:34:52.384191Z"
    }
   },
   "outputs": [
    {
     "name": "stderr",
     "output_type": "stream",
     "text": [
      "[Parallel(n_jobs=4)]: Using backend LokyBackend with 4 concurrent workers.\n",
      "[Parallel(n_jobs=4)]: Done   2 out of   5 | elapsed:    3.2s remaining:    4.8s\n",
      "[Parallel(n_jobs=4)]: Done   5 out of   5 | elapsed:    4.0s finished\n"
     ]
    },
    {
     "name": "stdout",
     "output_type": "stream",
     "text": [
      "[0.74782609 0.65420561 0.80357143 0.76635514 0.75438596] 0.7452688456207566\n",
      "Test Set 0.6935483870967741 0.7877094972067039\n",
      "Train Set 0.7376686003851096 0.804855707672609\n",
      "LastCross [0.82681564 0.78651685 0.83707865 0.76966292 0.83146067]\n"
     ]
    }
   ],
   "source": [
    "from sklearn.ensemble import RandomForestClassifier\n",
    "from sklearn.model_selection import GridSearchCV\n",
    "from sklearn.metrics import f1_score, accuracy_score\n",
    "\n",
    "\n",
    "rf_pipe = Pipeline([\n",
    "    (\"dataprep\", full_Pipeline),\n",
    "    (\"rf\",RandomForestClassifier())\n",
    "])\n",
    "\n",
    "# do baseline evaluation\n",
    "\n",
    "scores = cross_val_score(rf_pipe,X_train,y_train, cv=5, n_jobs=4, verbose=5, scoring=\"f1\")\n",
    "print(np.abs(scores), np.abs(np.mean(scores)))\n",
    "\n",
    "# Baseline is 0.7700623775994024 [0.74725275 0.73333333 0.79069767 0.82608696 0.75294118]\n",
    "\n",
    "# do gridsearch\n",
    "#parameters = {\n",
    "#    \"rf__n_estimators\": [10,50,100,150],\n",
    "#    \"rf__max_depth\": [8,16,32,64,128,None]\n",
    "#}\n",
    "\n",
    "#clf = GridSearchCV(rf_pipe, parameters,cv=5,scoring=\"f1\",verbose=1)\n",
    "#clf.fit(X_train,y_train)\n",
    "#print(clf.best_params_)\n",
    "#{'rf__max_depth': 64, 'rf__n_estimators': 150}\n",
    "\n",
    "rf_pipe[1].max_depth=64\n",
    "rf_pipe[1].n_estimators=150\n",
    "\n",
    "#takeover scores as final scores\n",
    "#scoremap[\"Random Forest\"] = np.abs(scores)\n",
    "\n",
    "rf_pipe.fit(X_train,y_train)\n",
    "predictions = rf_pipe.predict(X_test)\n",
    "\n",
    "f1 = f1_score(y_test,predictions)\n",
    "acc = accuracy_score(y_test, predictions)\n",
    "\n",
    "\n",
    "print(\"Test Set\", f1, acc)\n",
    "print(\"Train Set\", np.mean(cross_val_score(rf_pipe, X_train, y_train, cv=5, n_jobs=4, scoring=\"f1\")), np.mean(cross_val_score(rf_pipe, X_train, y_train, cv=5, n_jobs=4, scoring=\"accuracy\")))\n",
    "#test_scores[\"Random Forest\"] = mae\n",
    "\n",
    "\n",
    "# last cross validation on all of the training data\n",
    "lastCross = cross_val_score(rf_pipe,X,y, cv=5, n_jobs =4, scoring=\"accuracy\")\n",
    "print(\"LastCross\", lastCross)\n",
    "accuracy_map[\"random forest\"] = lastCross\n"
   ]
  },
  {
   "cell_type": "markdown",
   "metadata": {},
   "source": [
    "### SVM"
   ]
  },
  {
   "cell_type": "code",
   "execution_count": 777,
   "metadata": {
    "ExecuteTime": {
     "end_time": "2020-06-10T13:35:03.450067Z",
     "start_time": "2020-06-10T13:35:02.286634Z"
    }
   },
   "outputs": [
    {
     "name": "stderr",
     "output_type": "stream",
     "text": [
      "[Parallel(n_jobs=4)]: Using backend LokyBackend with 4 concurrent workers.\n",
      "[Parallel(n_jobs=4)]: Done   2 out of   5 | elapsed:    0.1s remaining:    0.2s\n",
      "[Parallel(n_jobs=4)]: Done   5 out of   5 | elapsed:    0.3s finished\n"
     ]
    },
    {
     "name": "stdout",
     "output_type": "stream",
     "text": [
      "[0.8        0.75229358 0.7962963  0.79245283 0.83928571] 0.7960656837504683\n",
      "Test Set 0.672 0.770949720670391\n",
      "Train Set 0.7960656837504683 0.8455431892051608\n",
      "LastCross [0.84916201 0.82022472 0.8258427  0.80898876 0.87078652]\n"
     ]
    }
   ],
   "source": [
    "from sklearn.svm import SVC\n",
    "from sklearn.model_selection import GridSearchCV\n",
    "from sklearn.metrics import f1_score\n",
    "\n",
    "\n",
    "svm_pipe = Pipeline([\n",
    "    (\"dataprep\", full_Pipeline),\n",
    "    (\"svm\",SVC())\n",
    "])\n",
    "\n",
    "# do baseline evaluation\n",
    "\n",
    "scores = cross_val_score(svm_pipe,X_train,y_train, cv=5, n_jobs=4, verbose=5, scoring=\"f1\")\n",
    "print(np.abs(scores), np.abs(np.mean(scores)))\n",
    "\n",
    "# do gridsearch\n",
    "#parameters = {\n",
    "#    \"svm__C\": [0.001, 0.01, 0.1, 1, 10, 100],\n",
    "#    \"svm__kernel\": [\"linear\",\"rbf\"]\n",
    "#}\n",
    "\n",
    "#clf = GridSearchCV(svm_pipe, parameters,cv=5,scoring=\"f1\",verbose=1)\n",
    "#clf.fit(X_train,y_train)\n",
    "#print(clf.best_params_)\n",
    "#{'svm__C': 1, 'svm__kernel': 'rbf'}\n",
    "\n",
    "svm_pipe[1].C=1\n",
    "svm_pipe[1].kernel=\"rbf\"\n",
    "\n",
    "#takeover scores as final scores\n",
    "#scoremap[\"Random Forest\"] = np.abs(scores)\n",
    "\n",
    "svm_pipe.fit(X_train,y_train)\n",
    "predictions = svm_pipe.predict(X_test)\n",
    "\n",
    "f1 = f1_score(y_test,predictions)\n",
    "acc = accuracy_score(y_test,predictions)\n",
    "\n",
    "print(\"Test Set\", f1, acc)\n",
    "print(\"Train Set\", np.mean(cross_val_score(svm_pipe, X_train, y_train, cv=5, n_jobs=4, scoring=\"f1\")),np.mean(cross_val_score(svm_pipe, X_train, y_train, cv=5, n_jobs=4, scoring=\"accuracy\")))\n",
    "#test_scores[\"Random Forest\"] = mae\n",
    "\n",
    "# last cross validation on all of the training data\n",
    "lastCross = cross_val_score(svm_pipe,X,y, cv=5, n_jobs =4, scoring=\"accuracy\")\n",
    "print(\"LastCross\", lastCross)\n",
    "accuracy_map[\"svm\"] = lastCross"
   ]
  },
  {
   "cell_type": "markdown",
   "metadata": {
    "ExecuteTime": {
     "end_time": "2020-06-09T10:54:48.031665Z",
     "start_time": "2020-06-09T10:54:48.029187Z"
    }
   },
   "source": [
    "### Gradient Boost"
   ]
  },
  {
   "cell_type": "code",
   "execution_count": 778,
   "metadata": {
    "ExecuteTime": {
     "end_time": "2020-06-10T13:35:13.680291Z",
     "start_time": "2020-06-10T13:35:03.453628Z"
    },
    "scrolled": true
   },
   "outputs": [
    {
     "name": "stderr",
     "output_type": "stream",
     "text": [
      "[Parallel(n_jobs=4)]: Using backend LokyBackend with 4 concurrent workers.\n",
      "[Parallel(n_jobs=4)]: Done   2 out of   5 | elapsed:    0.4s remaining:    0.6s\n",
      "[Parallel(n_jobs=4)]: Done   5 out of   5 | elapsed:    0.8s finished\n"
     ]
    },
    {
     "name": "stdout",
     "output_type": "stream",
     "text": [
      "[0.82568807 0.72222222 0.80733945 0.74509804 0.81081081] 0.7822317190368999\n",
      "Test Set 0.6825396825396826 0.776536312849162\n",
      "Train Set 0.7474128666158066 0.7992120555500838\n",
      "LastCross [0.80446927 0.78089888 0.83146067 0.78651685 0.7752809 ]\n"
     ]
    }
   ],
   "source": [
    "from sklearn.ensemble import GradientBoostingClassifier\n",
    "from sklearn.metrics import f1_score, accuracy_score\n",
    "\n",
    "\n",
    "gb_pipe = Pipeline([\n",
    "    (\"dataprep\", full_Pipeline),\n",
    "    (\"xbg\",GradientBoostingClassifier())\n",
    "])\n",
    "\n",
    "# do baseline evaluation\n",
    "\n",
    "scores = cross_val_score(gb_pipe,X_train,y_train, cv=5, n_jobs=4, verbose=5, scoring=\"f1\")\n",
    "print(np.abs(scores), np.abs(np.mean(scores)))\n",
    "\n",
    "# do gridsearch\n",
    "parameters = {\n",
    "    #\"xbg__min_samples_split\": np.linspace(0.1, 0.5, 12),\n",
    "    #\"xbg__min_samples_leaf\": np.linspace(0.1, 0.5, 12),\n",
    "    \"xbg__max_depth\":[8,16,32,64,128],\n",
    "    #\"xbg__max_features\":[\"log2\",\"sqrt\"],\n",
    "    #\"xbg__criterion\": [\"friedman_mse\",  \"mae\"],\n",
    "    \"xbg__learning_rate\":[0.15,0.1,0.05,0.01,0.005,0.001],\n",
    "    \"xbg__n_estimators\":[10,100,1000]\n",
    "    }\n",
    "\n",
    "clf = GridSearchCV(gb_pipe, parameters,cv=5,scoring=\"f1\",verbose=5)\n",
    "#clf.fit(X_train,y_train)\n",
    "#print(clf.best_params_)\n",
    "#xbg__learning_rate=0.05, xbg__max_depth=8, xbg__n_estimators=100\n",
    "\n",
    "gb_pipe[1].max_depth=8\n",
    "gb_pipe[1].n_estimators=100\n",
    "gb_pipe[1].learning_rate=0.05\n",
    "\n",
    "\n",
    "#takeover scores as final scores\n",
    "#scoremap[\"Gradient Boost\"] = np.abs(scores)\n",
    "\n",
    "gb_pipe.fit(X_train,y_train)\n",
    "predictions = gb_pipe.predict(X_test)\n",
    "\n",
    "f1 = f1_score(y_test,predictions)\n",
    "acc = accuracy_score(y_test,predictions)\n",
    "\n",
    "print(\"Test Set\", f1, acc)\n",
    "print(\"Train Set\", np.mean(cross_val_score(gb_pipe, X_train, y_train, cv=5, n_jobs=4, scoring=\"f1\")),np.mean(cross_val_score(gb_pipe, X_train, y_train, cv=5, n_jobs=4, scoring=\"accuracy\")))\n",
    "#test_scores[\"Gradient Boost\"] = mae\n",
    "\n",
    "# last cross validation on all of the training data\n",
    "lastCross = cross_val_score(gb_pipe,X,y, cv=5, n_jobs =4, scoring=\"accuracy\")\n",
    "print(\"LastCross\", lastCross)\n",
    "accuracy_map[\"gradient Boost\"] = lastCross"
   ]
  },
  {
   "cell_type": "markdown",
   "metadata": {},
   "source": [
    "### FNN"
   ]
  },
  {
   "cell_type": "code",
   "execution_count": 779,
   "metadata": {
    "ExecuteTime": {
     "end_time": "2020-06-10T13:37:36.017647Z",
     "start_time": "2020-06-10T13:35:13.683281Z"
    }
   },
   "outputs": [
    {
     "name": "stdout",
     "output_type": "stream",
     "text": [
      "143/143 [==============================] - 0s 786us/step\n",
      "[0.3658098447156119, 0.8601398468017578, 0.8448635339736938, 0.8448635339736938]\n",
      "143/143 [==============================] - 0s 696us/step\n",
      "[0.24794120617679782, 0.9230769276618958, 0.8230332136154175, 0.8230332136154175]\n",
      "142/142 [==============================] - 0s 522us/step\n",
      "[0.5379480958824426, 0.7676056623458862, 0.8639674186706543, 0.8639674186706543]\n",
      "142/142 [==============================] - 0s 779us/step\n",
      "[0.4943607147310821, 0.8239436745643616, 0.8610746264457703, 0.8610746264457703]\n",
      "142/142 [==============================] - 0s 810us/step\n",
      "[0.3806054869168241, 0.8380281925201416, 0.849288821220398, 0.849288821220398]\n",
      "Accuarcy for Net 0.8425588607788086 [0.8601398468017578, 0.9230769276618958, 0.7676056623458862, 0.8239436745643616, 0.8380281925201416]\n"
     ]
    }
   ],
   "source": [
    "from tensorflow import keras\n",
    "from keras.layers import Dense, Dropout\n",
    "from keras.models import Sequential\n",
    "from keras.wrappers.scikit_learn import KerasClassifier\n",
    "from keras.callbacks import ReduceLROnPlateau, EarlyStopping\n",
    "from keras.utils import to_categorical\n",
    "from functools import reduce\n",
    "\n",
    "X_train_2 = full_Pipeline.fit_transform(X_train)\n",
    "\n",
    "X_test_2 = full_Pipeline.transform(X_test)\n",
    "y_train_2 = to_categorical(y_train)\n",
    "\n",
    "y_test_2 = to_categorical(y_test)\n",
    "\n",
    "lrcallback = ReduceLROnPlateau(factor=0.1, patience=0, monitor='loss',verbose=False)\n",
    "estop = EarlyStopping(monitor='loss', patience=3, restore_best_weights=True,verbose=False)\n",
    "\n",
    "def fnn(input_shape):\n",
    "    model = Sequential()\n",
    "    model.add(Dense(50, input_shape=(input_shape,),activation='relu'))\n",
    "    model.add(Dropout(.2))\n",
    "    model.add(Dense(20, activation='relu'))\n",
    "    model.add(Dropout(.2))\n",
    "    model.add(Dense(2, activation=\"softmax\"))\n",
    "\n",
    "    #model.compile(optimizer='adam', loss='binary_crossentropy', metrics=[\"acc\",keras.metrics.Recall(),keras.metrics.Precision()])\n",
    "    model.compile(optimizer='adam', loss='categorical_crossentropy', metrics=[\"acc\",keras.metrics.Recall(),keras.metrics.Precision()])\n",
    "    return model\n",
    "\n",
    "\n",
    "\n",
    "\n",
    "kfold = 5\n",
    "\n",
    "indices = np.array(range(X_train_2.shape[0]))\n",
    "np.random.shuffle(indices)\n",
    "\n",
    "# split it into n chunks\n",
    "accuarcies = []\n",
    "splitted = np.array_split(indices, 5)\n",
    "\n",
    "for i in range(len(splitted)):\n",
    "    temp_test_X = X_train_2[splitted[i],:]\n",
    "    temp_test_y = y_train_2[splitted[i],:]\n",
    "    \n",
    "    \n",
    "    otherArray =  []\n",
    "    otherIndexes = [j for j in range(len(splitted)) if i!=j]\n",
    "    \n",
    "    for j in otherIndexes:\n",
    "        otherArray = otherArray + splitted[j].tolist()\n",
    "    \n",
    "    train_ind = otherArray\n",
    "    \n",
    "    temp_train_X = X_train_2[train_ind,:]\n",
    "    temp_train_y = y_train_2[train_ind,:]\n",
    "    \n",
    "    net = fnn(X_train_2.shape[1])\n",
    "    \n",
    "    net.fit(temp_train_X, temp_train_y,epochs = 100, batch_size=1, verbose=False, callbacks=[lrcallback, estop])\n",
    "    evalObj = net.evaluate(temp_test_X, temp_test_y)\n",
    "    print(evalObj)\n",
    "    accuarcies.append(evalObj[1])\n",
    "    \n",
    "print(\"Accuarcy for Net\", np.mean(np.array(accuarcies)), accuarcies)\n",
    "accuracy_map[\"FNN\"] = accuarcies\n"
   ]
  },
  {
   "cell_type": "markdown",
   "metadata": {},
   "source": [
    "## Result\n",
    "\n",
    "Lets create a submission for the competition"
   ]
  },
  {
   "cell_type": "code",
   "execution_count": 780,
   "metadata": {
    "ExecuteTime": {
     "end_time": "2020-06-10T13:37:37.277175Z",
     "start_time": "2020-06-10T13:37:36.021695Z"
    }
   },
   "outputs": [
    {
     "data": {
      "text/plain": [
       "<matplotlib.axes._subplots.AxesSubplot at 0x7fa1d28cffd0>"
      ]
     },
     "execution_count": 780,
     "metadata": {},
     "output_type": "execute_result"
    },
    {
     "data": {
      "image/png": "[encoded data removed]",
      "text/plain": [
       "<Figure size 1296x1008 with 2 Axes>"
      ]
     },
     "metadata": {
      "needs_background": "light"
     },
     "output_type": "display_data"
    }
   ],
   "source": [
    "plt.figure(figsize=(18,14))\n",
    "\n",
    "a = plt.subplot(211)\n",
    "sns.boxplot(data=pd.DataFrame.from_dict(accuracy_map),ax=a)\n",
    "\n",
    "a = plt.subplot(212)\n",
    "sns.violinplot(data=pd.DataFrame.from_dict(accuracy_map),ax=a)"
   ]
  },
  {
   "cell_type": "code",
   "execution_count": 781,
   "metadata": {
    "ExecuteTime": {
     "end_time": "2020-06-10T13:37:37.291436Z",
     "start_time": "2020-06-10T13:37:37.280730Z"
    }
   },
   "outputs": [],
   "source": [
    "import pandas as pd\n",
    "dftest = pd.read_csv(\"Titanic_test.csv\")\n",
    "\n"
   ]
  },
  {
   "cell_type": "code",
   "execution_count": 782,
   "metadata": {
    "ExecuteTime": {
     "end_time": "2020-06-10T13:38:36.530625Z",
     "start_time": "2020-06-10T13:37:37.293998Z"
    }
   },
   "outputs": [
    {
     "name": "stdout",
     "output_type": "stream",
     "text": [
      "(418, 11)\n",
      "Empty DataFrame\n",
      "Columns: [PassengerId, Pclass, Name, Sex, Age, SibSp, Parch, Ticket, Fare, Cabin, Embarked, Number Family Members, Title, AgeBucket]\n",
      "Index: []\n"
     ]
    },
    {
     "data": {
      "text/plain": [
       "<keras.callbacks.callbacks.History at 0x7fa1d25baf98>"
      ]
     },
     "execution_count": 782,
     "metadata": {},
     "output_type": "execute_result"
    }
   ],
   "source": [
    "## we need to alter a bit the pipeline because we cannot just cross out data here\n",
    "from sklearn.pipeline import Pipeline\n",
    "\n",
    "print(dftest.shape)\n",
    "\n",
    "df_test_cleaned = filtering_Pipeline.fit_transform(dftest)\n",
    "df_test_cleaned = fillAge(df_test_cleaned)\n",
    "\n",
    "\n",
    "\n",
    "# Seperate target from features \n",
    "X_test = df_test_cleaned[[\"Pclass\",\"Sex\",\"Age\",\"SibSp\",\"Parch\",\"Fare\",\"Embarked\",\"Number Family Members\",\"Title\",\"AgeBucket\",\"Cabin\"]]\n",
    "\n",
    "#y = df_test_cleaned[\"Survived\"]\n",
    "\n",
    "X_nn = full_Pipeline.fit_transform(X)\n",
    "y_nn = to_categorical(y)\n",
    "\n",
    "net = fnn(X_nn.shape[1])\n",
    "net.fit(X_nn, y_nn,epochs = 100, batch_size=1, verbose=False, callbacks=[lrcallback, estop])\n"
   ]
  },
  {
   "cell_type": "code",
   "execution_count": 783,
   "metadata": {
    "ExecuteTime": {
     "end_time": "2020-06-10T13:38:36.782474Z",
     "start_time": "2020-06-10T13:38:36.536818Z"
    }
   },
   "outputs": [
    {
     "name": "stdout",
     "output_type": "stream",
     "text": [
      "(418, 46) (891, 46)\n"
     ]
    }
   ],
   "source": [
    "X_test_2 = full_Pipeline.transform(X_test)\n",
    "print(X_test_2.shape, X_nn.shape)\n",
    "\n",
    "results = []\n",
    "\n",
    "for prediction in net.predict(X_test_2):\n",
    "    results.append(np.argmax(prediction))\n",
    "    \n",
    "len(results)\n",
    "\n",
    "dfout = pd.DataFrame.from_dict({\n",
    "    \"PassengerId\": dftest[\"PassengerId\"],\n",
    "    \"Survived\":results\n",
    "})\n",
    "\n",
    "dfout.to_csv(\"Titanic_submission_nn.csv\",index=False)"
   ]
  },
  {
   "cell_type": "code",
   "execution_count": 786,
   "metadata": {
    "ExecuteTime": {
     "end_time": "2020-06-10T13:39:33.836972Z",
     "start_time": "2020-06-10T13:39:33.711560Z"
    }
   },
   "outputs": [],
   "source": [
    "svm_pipe.fit(X,y)\n",
    "results = svm_pipe.predict(X_test)\n",
    "\n",
    "dfout = pd.DataFrame.from_dict({\n",
    "    \"PassengerId\": dftest[\"PassengerId\"],\n",
    "    \"Survived\":results\n",
    "})\n",
    "\n",
    "dfout.to_csv(\"Titanic_submission_svm.csv\",index=False)"
   ]
  },
  {
   "cell_type": "code",
   "execution_count": null,
   "metadata": {},
   "outputs": [],
   "source": []
  }
 ],
 "metadata": {
  "kernelspec": {
   "display_name": "Python 3",
   "language": "python",
   "name": "python3"
  },
  "language_info": {
   "codemirror_mode": {
    "name": "ipython",
    "version": 3
   },
   "file_extension": ".py",
   "mimetype": "text/x-python",
   "name": "python",
   "nbconvert_exporter": "python",
   "pygments_lexer": "ipython3",
   "version": "3.6.9"
  }
 },
 "nbformat": 4,
 "nbformat_minor": 4
}
