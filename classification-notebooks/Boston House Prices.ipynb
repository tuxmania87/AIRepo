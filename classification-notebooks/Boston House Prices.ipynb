{
 "cells": [
  {
   "cell_type": "markdown",
   "metadata": {},
   "source": [
    "# Boston House Pricing dataset from sklearn"
   ]
  },
  {
   "cell_type": "markdown",
   "metadata": {},
   "source": [
    "## Loading data into pandas dataframe"
   ]
  },
  {
   "cell_type": "markdown",
   "metadata": {},
   "source": [
    "First we extract a list of descriptions out of the data set to understand what we are actually looking at\n",
    "\n",
    "* CRIM     per capita crime rate by town\n",
    "* ZN       proportion of residential land zoned for lots over 25,000 sq.ft.\n",
    "* INDUS    proportion of non-retail business acres per town\n",
    "* CHAS     Charles River dummy variable (= 1 if tract bounds river; 0 otherwise)\n",
    "* NOX      nitric oxides concentration (parts per 10 million)\n",
    "* RM       average number of rooms per dwelling\n",
    "* AGE      proportion of owner-occupied units built prior to 1940\n",
    "* DIS      weighted distances to five Boston employment centres\n",
    "* RAD      index of accessibility to radial highways\n",
    "* TAX      full-value property-tax rate per \\$10,000\n",
    "* PTRATIO  pupil-teacher ratio by town\n",
    "* B        1000(Bk - 0.63)^2 where Bk is the proportion of blacks by town\n",
    "* LSTAT    % lower status of the population\n",
    "* MEDV     Median value of owner-occupied homes in $1000's"
   ]
  },
  {
   "cell_type": "code",
   "execution_count": 156,
   "metadata": {
    "ExecuteTime": {
     "end_time": "2020-06-03T15:35:25.282954Z",
     "start_time": "2020-06-03T15:35:25.275543Z"
    }
   },
   "outputs": [
    {
     "name": "stdout",
     "output_type": "stream",
     "text": [
      ".. _boston_dataset:\n",
      "\n",
      "Boston house prices dataset\n",
      "---------------------------\n",
      "\n",
      "**Data Set Characteristics:**  \n",
      "\n",
      "    :Number of Instances: 506 \n",
      "\n",
      "    :Number of Attributes: 13 numeric/categorical predictive. Median Value (attribute 14) is usually the target.\n",
      "\n",
      "    :Attribute Information (in order):\n",
      "        - CRIM     per capita crime rate by town\n",
      "        - ZN       proportion of residential land zoned for lots over 25,000 sq.ft.\n",
      "        - INDUS    proportion of non-retail business acres per town\n",
      "        - CHAS     Charles River dummy variable (= 1 if tract bounds river; 0 otherwise)\n",
      "        - NOX      nitric oxides concentration (parts per 10 million)\n",
      "        - RM       average number of rooms per dwelling\n",
      "        - AGE      proportion of owner-occupied units built prior to 1940\n",
      "        - DIS      weighted distances to five Boston employment centres\n",
      "        - RAD      index of accessibility to radial highways\n",
      "        - TAX      full-value property-tax rate per $10,000\n",
      "        - PTRATIO  pupil-teacher ratio by town\n",
      "        - B        1000(Bk - 0.63)^2 where Bk is the proportion of blacks by town\n",
      "        - LSTAT    % lower status of the population\n",
      "        - MEDV     Median value of owner-occupied homes in $1000's\n",
      "\n",
      "    :Missing Attribute Values: None\n",
      "\n",
      "    :Creator: Harrison, D. and Rubinfeld, D.L.\n",
      "\n",
      "This is a copy of UCI ML housing dataset.\n",
      "https://archive.ics.uci.edu/ml/machine-learning-databases/housing/\n",
      "\n",
      "\n",
      "This dataset was taken from the StatLib library which is maintained at Carnegie Mellon University.\n",
      "\n",
      "The Boston house-price data of Harrison, D. and Rubinfeld, D.L. 'Hedonic\n",
      "prices and the demand for clean air', J. Environ. Economics & Management,\n",
      "vol.5, 81-102, 1978.   Used in Belsley, Kuh & Welsch, 'Regression diagnostics\n",
      "...', Wiley, 1980.   N.B. Various transformations are used in the table on\n",
      "pages 244-261 of the latter.\n",
      "\n",
      "The Boston house-price data has been used in many machine learning papers that address regression\n",
      "problems.   \n",
      "     \n",
      ".. topic:: References\n",
      "\n",
      "   - Belsley, Kuh & Welsch, 'Regression diagnostics: Identifying Influential Data and Sources of Collinearity', Wiley, 1980. 244-261.\n",
      "   - Quinlan,R. (1993). Combining Instance-Based and Model-Based Learning. In Proceedings on the Tenth International Conference of Machine Learning, 236-243, University of Massachusetts, Amherst. Morgan Kaufmann.\n",
      "\n"
     ]
    }
   ],
   "source": [
    "import pandas as pd\n",
    "from sklearn.datasets import load_boston\n",
    "import matplotlib.pyplot as plt\n",
    "import seaborn as sns\n",
    "import numpy as np\n",
    "\n",
    "boston_dataset = load_boston()\n",
    "df = pd.DataFrame(boston_dataset[\"data\"])\n",
    "df.columns = boston_dataset[\"feature_names\"]\n",
    "\n",
    "df[\"MEDV\"] = boston_dataset[\"target\"]\n",
    "\n",
    "print(boston_dataset[\"DESCR\"])"
   ]
  },
  {
   "cell_type": "code",
   "execution_count": 152,
   "metadata": {
    "ExecuteTime": {
     "end_time": "2020-06-03T15:34:28.824152Z",
     "start_time": "2020-06-03T15:34:28.819674Z"
    }
   },
   "outputs": [
    {
     "data": {
      "text/plain": [
       "CRIM       False\n",
       "ZN         False\n",
       "INDUS      False\n",
       "CHAS       False\n",
       "NOX        False\n",
       "RM         False\n",
       "AGE        False\n",
       "DIS        False\n",
       "RAD        False\n",
       "TAX        False\n",
       "PTRATIO    False\n",
       "B          False\n",
       "LSTAT      False\n",
       "MEDV       False\n",
       "dtype: bool"
      ]
     },
     "execution_count": 152,
     "metadata": {},
     "output_type": "execute_result"
    }
   ],
   "source": [
    "df.isna().any()"
   ]
  },
  {
   "cell_type": "code",
   "execution_count": 155,
   "metadata": {
    "ExecuteTime": {
     "end_time": "2020-06-03T15:34:51.490110Z",
     "start_time": "2020-06-03T15:34:51.445141Z"
    }
   },
   "outputs": [
    {
     "data": {
      "text/html": [
       "<div>\n",
       "<style scoped>\n",
       "    .dataframe tbody tr th:only-of-type {\n",
       "        vertical-align: middle;\n",
       "    }\n",
       "\n",
       "    .dataframe tbody tr th {\n",
       "        vertical-align: top;\n",
       "    }\n",
       "\n",
       "    .dataframe thead th {\n",
       "        text-align: right;\n",
       "    }\n",
       "</style>\n",
       "<table border=\"1\" class=\"dataframe\">\n",
       "  <thead>\n",
       "    <tr style=\"text-align: right;\">\n",
       "      <th></th>\n",
       "      <th>CRIM</th>\n",
       "      <th>ZN</th>\n",
       "      <th>INDUS</th>\n",
       "      <th>CHAS</th>\n",
       "      <th>NOX</th>\n",
       "      <th>RM</th>\n",
       "      <th>AGE</th>\n",
       "      <th>DIS</th>\n",
       "      <th>RAD</th>\n",
       "      <th>TAX</th>\n",
       "      <th>PTRATIO</th>\n",
       "      <th>B</th>\n",
       "      <th>LSTAT</th>\n",
       "      <th>MEDV</th>\n",
       "    </tr>\n",
       "  </thead>\n",
       "  <tbody>\n",
       "    <tr>\n",
       "      <th>count</th>\n",
       "      <td>506.000000</td>\n",
       "      <td>506.000000</td>\n",
       "      <td>506.000000</td>\n",
       "      <td>506.000000</td>\n",
       "      <td>506.000000</td>\n",
       "      <td>506.000000</td>\n",
       "      <td>506.000000</td>\n",
       "      <td>506.000000</td>\n",
       "      <td>506.000000</td>\n",
       "      <td>506.000000</td>\n",
       "      <td>506.000000</td>\n",
       "      <td>506.000000</td>\n",
       "      <td>506.000000</td>\n",
       "      <td>506.000000</td>\n",
       "    </tr>\n",
       "    <tr>\n",
       "      <th>mean</th>\n",
       "      <td>3.613524</td>\n",
       "      <td>11.363636</td>\n",
       "      <td>11.136779</td>\n",
       "      <td>0.069170</td>\n",
       "      <td>0.554695</td>\n",
       "      <td>6.284634</td>\n",
       "      <td>68.574901</td>\n",
       "      <td>3.795043</td>\n",
       "      <td>9.549407</td>\n",
       "      <td>408.237154</td>\n",
       "      <td>18.455534</td>\n",
       "      <td>356.674032</td>\n",
       "      <td>12.653063</td>\n",
       "      <td>22.532806</td>\n",
       "    </tr>\n",
       "    <tr>\n",
       "      <th>std</th>\n",
       "      <td>8.601545</td>\n",
       "      <td>23.322453</td>\n",
       "      <td>6.860353</td>\n",
       "      <td>0.253994</td>\n",
       "      <td>0.115878</td>\n",
       "      <td>0.702617</td>\n",
       "      <td>28.148861</td>\n",
       "      <td>2.105710</td>\n",
       "      <td>8.707259</td>\n",
       "      <td>168.537116</td>\n",
       "      <td>2.164946</td>\n",
       "      <td>91.294864</td>\n",
       "      <td>7.141062</td>\n",
       "      <td>9.197104</td>\n",
       "    </tr>\n",
       "    <tr>\n",
       "      <th>min</th>\n",
       "      <td>0.006320</td>\n",
       "      <td>0.000000</td>\n",
       "      <td>0.460000</td>\n",
       "      <td>0.000000</td>\n",
       "      <td>0.385000</td>\n",
       "      <td>3.561000</td>\n",
       "      <td>2.900000</td>\n",
       "      <td>1.129600</td>\n",
       "      <td>1.000000</td>\n",
       "      <td>187.000000</td>\n",
       "      <td>12.600000</td>\n",
       "      <td>0.320000</td>\n",
       "      <td>1.730000</td>\n",
       "      <td>5.000000</td>\n",
       "    </tr>\n",
       "    <tr>\n",
       "      <th>25%</th>\n",
       "      <td>0.082045</td>\n",
       "      <td>0.000000</td>\n",
       "      <td>5.190000</td>\n",
       "      <td>0.000000</td>\n",
       "      <td>0.449000</td>\n",
       "      <td>5.885500</td>\n",
       "      <td>45.025000</td>\n",
       "      <td>2.100175</td>\n",
       "      <td>4.000000</td>\n",
       "      <td>279.000000</td>\n",
       "      <td>17.400000</td>\n",
       "      <td>375.377500</td>\n",
       "      <td>6.950000</td>\n",
       "      <td>17.025000</td>\n",
       "    </tr>\n",
       "    <tr>\n",
       "      <th>50%</th>\n",
       "      <td>0.256510</td>\n",
       "      <td>0.000000</td>\n",
       "      <td>9.690000</td>\n",
       "      <td>0.000000</td>\n",
       "      <td>0.538000</td>\n",
       "      <td>6.208500</td>\n",
       "      <td>77.500000</td>\n",
       "      <td>3.207450</td>\n",
       "      <td>5.000000</td>\n",
       "      <td>330.000000</td>\n",
       "      <td>19.050000</td>\n",
       "      <td>391.440000</td>\n",
       "      <td>11.360000</td>\n",
       "      <td>21.200000</td>\n",
       "    </tr>\n",
       "    <tr>\n",
       "      <th>75%</th>\n",
       "      <td>3.677083</td>\n",
       "      <td>12.500000</td>\n",
       "      <td>18.100000</td>\n",
       "      <td>0.000000</td>\n",
       "      <td>0.624000</td>\n",
       "      <td>6.623500</td>\n",
       "      <td>94.075000</td>\n",
       "      <td>5.188425</td>\n",
       "      <td>24.000000</td>\n",
       "      <td>666.000000</td>\n",
       "      <td>20.200000</td>\n",
       "      <td>396.225000</td>\n",
       "      <td>16.955000</td>\n",
       "      <td>25.000000</td>\n",
       "    </tr>\n",
       "    <tr>\n",
       "      <th>max</th>\n",
       "      <td>88.976200</td>\n",
       "      <td>100.000000</td>\n",
       "      <td>27.740000</td>\n",
       "      <td>1.000000</td>\n",
       "      <td>0.871000</td>\n",
       "      <td>8.780000</td>\n",
       "      <td>100.000000</td>\n",
       "      <td>12.126500</td>\n",
       "      <td>24.000000</td>\n",
       "      <td>711.000000</td>\n",
       "      <td>22.000000</td>\n",
       "      <td>396.900000</td>\n",
       "      <td>37.970000</td>\n",
       "      <td>50.000000</td>\n",
       "    </tr>\n",
       "  </tbody>\n",
       "</table>\n",
       "</div>"
      ],
      "text/plain": [
       "             CRIM          ZN       INDUS        CHAS         NOX          RM  \\\n",
       "count  506.000000  506.000000  506.000000  506.000000  506.000000  506.000000   \n",
       "mean     3.613524   11.363636   11.136779    0.069170    0.554695    6.284634   \n",
       "std      8.601545   23.322453    6.860353    0.253994    0.115878    0.702617   \n",
       "min      0.006320    0.000000    0.460000    0.000000    0.385000    3.561000   \n",
       "25%      0.082045    0.000000    5.190000    0.000000    0.449000    5.885500   \n",
       "50%      0.256510    0.000000    9.690000    0.000000    0.538000    6.208500   \n",
       "75%      3.677083   12.500000   18.100000    0.000000    0.624000    6.623500   \n",
       "max     88.976200  100.000000   27.740000    1.000000    0.871000    8.780000   \n",
       "\n",
       "              AGE         DIS         RAD         TAX     PTRATIO           B  \\\n",
       "count  506.000000  506.000000  506.000000  506.000000  506.000000  506.000000   \n",
       "mean    68.574901    3.795043    9.549407  408.237154   18.455534  356.674032   \n",
       "std     28.148861    2.105710    8.707259  168.537116    2.164946   91.294864   \n",
       "min      2.900000    1.129600    1.000000  187.000000   12.600000    0.320000   \n",
       "25%     45.025000    2.100175    4.000000  279.000000   17.400000  375.377500   \n",
       "50%     77.500000    3.207450    5.000000  330.000000   19.050000  391.440000   \n",
       "75%     94.075000    5.188425   24.000000  666.000000   20.200000  396.225000   \n",
       "max    100.000000   12.126500   24.000000  711.000000   22.000000  396.900000   \n",
       "\n",
       "            LSTAT        MEDV  \n",
       "count  506.000000  506.000000  \n",
       "mean    12.653063   22.532806  \n",
       "std      7.141062    9.197104  \n",
       "min      1.730000    5.000000  \n",
       "25%      6.950000   17.025000  \n",
       "50%     11.360000   21.200000  \n",
       "75%     16.955000   25.000000  \n",
       "max     37.970000   50.000000  "
      ]
     },
     "execution_count": 155,
     "metadata": {},
     "output_type": "execute_result"
    }
   ],
   "source": [
    "df.describe()"
   ]
  },
  {
   "cell_type": "markdown",
   "metadata": {},
   "source": [
    "There are no missing values so we don't have tink about using an Imputer to fix this situation."
   ]
  },
  {
   "cell_type": "markdown",
   "metadata": {
    "ExecuteTime": {
     "end_time": "2020-06-03T13:19:54.120457Z",
     "start_time": "2020-06-03T13:19:54.104799Z"
    }
   },
   "source": [
    "Before further analyzing the dataset we split it 80/20 in train and test dataset so we are not biased when making design decisions"
   ]
  },
  {
   "cell_type": "code",
   "execution_count": 157,
   "metadata": {
    "ExecuteTime": {
     "end_time": "2020-06-03T15:59:46.145064Z",
     "start_time": "2020-06-03T15:59:46.140626Z"
    }
   },
   "outputs": [],
   "source": [
    "from sklearn.model_selection import train_test_split\n",
    "\n",
    "X_train, X_test, y_train, y_test = train_test_split(df.iloc[:,:-1],df.iloc[:,-1],test_size=0.2)\n"
   ]
  },
  {
   "cell_type": "code",
   "execution_count": 158,
   "metadata": {
    "ExecuteTime": {
     "end_time": "2020-06-03T15:59:46.820341Z",
     "start_time": "2020-06-03T15:59:46.815870Z"
    }
   },
   "outputs": [
    {
     "data": {
      "text/plain": [
       "86     22.5\n",
       "108    19.8\n",
       "330    19.8\n",
       "219    23.0\n",
       "84     23.9\n",
       "       ... \n",
       "245    18.5\n",
       "139    17.8\n",
       "432    16.1\n",
       "478    14.6\n",
       "155    15.6\n",
       "Name: MEDV, Length: 404, dtype: float64"
      ]
     },
     "execution_count": 158,
     "metadata": {},
     "output_type": "execute_result"
    }
   ],
   "source": [
    "y_train\n",
    "# continous so we use Regressor"
   ]
  },
  {
   "cell_type": "code",
   "execution_count": 159,
   "metadata": {
    "ExecuteTime": {
     "end_time": "2020-06-03T15:59:55.546701Z",
     "start_time": "2020-06-03T15:59:54.304015Z"
    }
   },
   "outputs": [
    {
     "data": {
      "image/png": "[encoded data removed]",
      "text/plain": [
       "<Figure size 1440x720 with 14 Axes>"
      ]
     },
     "metadata": {
      "needs_background": "light"
     },
     "output_type": "display_data"
    }
   ],
   "source": [
    "#boxplots to spot outlier\n",
    "df.columns\n",
    "\n",
    "f,a = plt.subplots(ncols=7, nrows=2, figsize=(20, 10))\n",
    "a = a.reshape(a.shape[0] * a.shape[1],1).ravel()\n",
    "#a = a.flatten()\n",
    "i=0\n",
    "for c in df.columns: \n",
    "    sns.boxplot(y=df[c],data=df,ax=a[i])\n",
    "    i += 1\n",
    "\n",
    "plt.tight_layout(pad=0.4, w_pad=0.5, h_pad=5.0)\n",
    "\n",
    "\n",
    "\n"
   ]
  },
  {
   "cell_type": "code",
   "execution_count": 175,
   "metadata": {
    "ExecuteTime": {
     "end_time": "2020-06-03T16:04:32.466737Z",
     "start_time": "2020-06-03T16:04:32.463513Z"
    }
   },
   "outputs": [],
   "source": [
    "from sklearn.pipeline import Pipeline\n",
    "from sklearn.preprocessing import StandardScaler\n",
    "from sklearn.ensemble import RandomForestRegressor\n",
    "from sklearn.svm import SVR\n",
    "from sklearn.metrics import mean_squared_error, mean_absolute_error\n",
    "\n",
    "\n",
    "\n",
    "\n"
   ]
  },
  {
   "cell_type": "code",
   "execution_count": 176,
   "metadata": {
    "ExecuteTime": {
     "end_time": "2020-06-03T16:04:32.757566Z",
     "start_time": "2020-06-03T16:04:32.755060Z"
    }
   },
   "outputs": [],
   "source": [
    "# Try Random Forest Regressor"
   ]
  },
  {
   "cell_type": "code",
   "execution_count": 182,
   "metadata": {
    "ExecuteTime": {
     "end_time": "2020-06-03T16:07:25.013511Z",
     "start_time": "2020-06-03T16:07:22.027503Z"
    }
   },
   "outputs": [
    {
     "name": "stdout",
     "output_type": "stream",
     "text": [
      "R2-Score Random Forest Baseline, against test set 2.3524607843137253\n",
      "Fitting 5 folds for each of 20 candidates, totalling 100 fits\n"
     ]
    },
    {
     "name": "stderr",
     "output_type": "stream",
     "text": [
      "[Parallel(n_jobs=4)]: Using backend LokyBackend with 4 concurrent workers.\n",
      "[Parallel(n_jobs=4)]: Done 100 out of 100 | elapsed:    1.9s finished\n"
     ]
    },
    {
     "name": "stdout",
     "output_type": "stream",
     "text": [
      "Best Score  -2.229881847993827\n",
      "Best Params  {'rf__max_depth': None, 'rf__n_estimators': 32}\n",
      "Baseline Cross Validation [-2.19002701 -2.44562114 -2.26849923 -2.1337963  -2.50007813] -2.307604359567901\n"
     ]
    }
   ],
   "source": [
    "from sklearn.metrics import r2_score\n",
    "from sklearn.model_selection import GridSearchCV,cross_val_score\n",
    "\n",
    "rf_pipe = Pipeline([\n",
    "    (\"dataprep\", StandardScaler()),\n",
    "    (\"rf\", RandomForestRegressor())\n",
    "])\n",
    "\n",
    "\n",
    "rf_pipe.fit(X_train,y_train.values)\n",
    "predicted = rf_pipe.predict(X_test)\n",
    "mae = mean_absolute_error(y_test, predicted)\n",
    "print(\"R2-Score Random Forest Baseline, against test set\", mae)\n",
    "\n",
    "parameters = {\n",
    "    \"rf__n_estimators\": [4,8,16,32,64],\n",
    "    \"rf__max_depth\": [50,100,150,None]\n",
    "}\n",
    "\n",
    "gscv = GridSearchCV(rf_pipe, parameters, n_jobs = 4, verbose=1, cv=5, scoring='neg_mean_absolute_error')\n",
    "grid_result = gscv.fit(X_train, y_train)\n",
    "print(\"Best Score \", grid_result.best_score_)\n",
    "print(\"Best Params \", grid_result.best_params_)\n",
    "\n",
    "rf_pipe = Pipeline([\n",
    "    (\"dataprep\", StandardScaler()),\n",
    "    (\"rf\", RandomForestRegressor(max_depth=100, n_estimators=64))\n",
    "])\n",
    "\n",
    "\n",
    "cross_val_scores = cross_val_score(rf_pipe, X_train, y_train, cv=5, scoring=\"neg_mean_absolute_error\")\n",
    "print(\"Baseline Cross Validation\", cross_val_scores, np.mean(cross_val_scores) )\n"
   ]
  },
  {
   "cell_type": "code",
   "execution_count": 212,
   "metadata": {
    "ExecuteTime": {
     "end_time": "2020-06-03T16:30:30.149679Z",
     "start_time": "2020-06-03T16:30:30.002189Z"
    }
   },
   "outputs": [
    {
     "data": {
      "text/html": [
       "<div>\n",
       "<style scoped>\n",
       "    .dataframe tbody tr th:only-of-type {\n",
       "        vertical-align: middle;\n",
       "    }\n",
       "\n",
       "    .dataframe tbody tr th {\n",
       "        vertical-align: top;\n",
       "    }\n",
       "\n",
       "    .dataframe thead th {\n",
       "        text-align: right;\n",
       "    }\n",
       "</style>\n",
       "<table border=\"1\" class=\"dataframe\">\n",
       "  <thead>\n",
       "    <tr style=\"text-align: right;\">\n",
       "      <th></th>\n",
       "      <th>importance</th>\n",
       "      <th>feature_names</th>\n",
       "      <th>cumsum</th>\n",
       "    </tr>\n",
       "  </thead>\n",
       "  <tbody>\n",
       "    <tr>\n",
       "      <th>5</th>\n",
       "      <td>0.500229</td>\n",
       "      <td>RM</td>\n",
       "      <td>0.500229</td>\n",
       "    </tr>\n",
       "    <tr>\n",
       "      <th>12</th>\n",
       "      <td>0.331128</td>\n",
       "      <td>LSTAT</td>\n",
       "      <td>0.831357</td>\n",
       "    </tr>\n",
       "    <tr>\n",
       "      <th>7</th>\n",
       "      <td>0.041800</td>\n",
       "      <td>DIS</td>\n",
       "      <td>0.873157</td>\n",
       "    </tr>\n",
       "    <tr>\n",
       "      <th>4</th>\n",
       "      <td>0.028064</td>\n",
       "      <td>NOX</td>\n",
       "      <td>0.901221</td>\n",
       "    </tr>\n",
       "    <tr>\n",
       "      <th>0</th>\n",
       "      <td>0.027492</td>\n",
       "      <td>CRIM</td>\n",
       "      <td>0.928713</td>\n",
       "    </tr>\n",
       "    <tr>\n",
       "      <th>6</th>\n",
       "      <td>0.017710</td>\n",
       "      <td>AGE</td>\n",
       "      <td>0.946423</td>\n",
       "    </tr>\n",
       "    <tr>\n",
       "      <th>10</th>\n",
       "      <td>0.017103</td>\n",
       "      <td>PTRATIO</td>\n",
       "      <td>0.963526</td>\n",
       "    </tr>\n",
       "    <tr>\n",
       "      <th>9</th>\n",
       "      <td>0.014200</td>\n",
       "      <td>TAX</td>\n",
       "      <td>0.977726</td>\n",
       "    </tr>\n",
       "    <tr>\n",
       "      <th>11</th>\n",
       "      <td>0.010233</td>\n",
       "      <td>B</td>\n",
       "      <td>0.987960</td>\n",
       "    </tr>\n",
       "    <tr>\n",
       "      <th>2</th>\n",
       "      <td>0.007299</td>\n",
       "      <td>INDUS</td>\n",
       "      <td>0.995259</td>\n",
       "    </tr>\n",
       "    <tr>\n",
       "      <th>8</th>\n",
       "      <td>0.003311</td>\n",
       "      <td>RAD</td>\n",
       "      <td>0.998570</td>\n",
       "    </tr>\n",
       "    <tr>\n",
       "      <th>1</th>\n",
       "      <td>0.000953</td>\n",
       "      <td>ZN</td>\n",
       "      <td>0.999522</td>\n",
       "    </tr>\n",
       "    <tr>\n",
       "      <th>3</th>\n",
       "      <td>0.000478</td>\n",
       "      <td>CHAS</td>\n",
       "      <td>1.000000</td>\n",
       "    </tr>\n",
       "  </tbody>\n",
       "</table>\n",
       "</div>"
      ],
      "text/plain": [
       "    importance feature_names    cumsum\n",
       "5     0.500229            RM  0.500229\n",
       "12    0.331128         LSTAT  0.831357\n",
       "7     0.041800           DIS  0.873157\n",
       "4     0.028064           NOX  0.901221\n",
       "0     0.027492          CRIM  0.928713\n",
       "6     0.017710           AGE  0.946423\n",
       "10    0.017103       PTRATIO  0.963526\n",
       "9     0.014200           TAX  0.977726\n",
       "11    0.010233             B  0.987960\n",
       "2     0.007299         INDUS  0.995259\n",
       "8     0.003311           RAD  0.998570\n",
       "1     0.000953            ZN  0.999522\n",
       "3     0.000478          CHAS  1.000000"
      ]
     },
     "execution_count": 212,
     "metadata": {},
     "output_type": "execute_result"
    }
   ],
   "source": [
    "rf_pipe = Pipeline([\n",
    "    (\"dataprep\", StandardScaler()),\n",
    "    (\"rf\", RandomForestRegressor(max_depth=100, n_estimators=64))\n",
    "])\n",
    "\n",
    "rf_pipe.fit(X_train, y_train)\n",
    "\n",
    "importance = rf_pipe[1].feature_importances_\n",
    "\n",
    "df_importance = pd.DataFrame.from_dict({\n",
    "    \"importance\": importance,\n",
    "    \"feature_names\": df.columns[:-1]\n",
    "}).sort_values([\"importance\"], ascending=False)\n",
    "\n",
    "df_importance[\"cumsum\"] =  df_importance[\"importance\"].cumsum()\n",
    "df_importance\n",
    "\n",
    "# try SCR"
   ]
  },
  {
   "cell_type": "code",
   "execution_count": 185,
   "metadata": {
    "ExecuteTime": {
     "end_time": "2020-06-03T16:08:10.648914Z",
     "start_time": "2020-06-03T16:08:09.168447Z"
    }
   },
   "outputs": [
    {
     "name": "stdout",
     "output_type": "stream",
     "text": [
      "R2-Score SVR Baseline, against test set 3.253296821483144\n",
      "Fitting 5 folds for each of 10 candidates, totalling 50 fits\n"
     ]
    },
    {
     "name": "stderr",
     "output_type": "stream",
     "text": [
      "[Parallel(n_jobs=4)]: Using backend LokyBackend with 4 concurrent workers.\n",
      "[Parallel(n_jobs=4)]: Done  50 out of  50 | elapsed:    1.1s finished\n"
     ]
    },
    {
     "name": "stdout",
     "output_type": "stream",
     "text": [
      "Best Score  -2.3821505551727773\n",
      "Best Params  {'svm__C': 100, 'svm__kernel': 'rbf'}\n",
      "Baseline Cross Validation [-2.06036886 -2.3395864  -2.47654675 -2.10780628 -2.92644449] -2.3821505551727773\n"
     ]
    }
   ],
   "source": [
    "from sklearn.metrics import r2_score\n",
    "from sklearn.model_selection import GridSearchCV,cross_val_score\n",
    "\n",
    "svm_pipe = Pipeline([\n",
    "    (\"dataprep\", StandardScaler()),\n",
    "    (\"svm\", SVR())\n",
    "])\n",
    "\n",
    "\n",
    "svm_pipe.fit(X_train,y_train.values)\n",
    "predicted = svm_pipe.predict(X_test)\n",
    "mae = mean_absolute_error(y_test, predicted)\n",
    "print(\"R2-Score SVR Baseline, against test set\", mae)\n",
    "\n",
    "parameters = {\n",
    "    \"svm__C\": [0.01, 0.1, 1, 10, 100],\n",
    "    \"svm__kernel\": [\"linear\",\"rbf\"]\n",
    "}\n",
    "\n",
    "gscv = GridSearchCV(svm_pipe, parameters, n_jobs = 4, verbose=1, cv=5, scoring='neg_mean_absolute_error')\n",
    "grid_result = gscv.fit(X_train, y_train)\n",
    "print(\"Best Score \", grid_result.best_score_)\n",
    "print(\"Best Params \", grid_result.best_params_)\n",
    "\n",
    "svm_pipe = Pipeline([\n",
    "    (\"dataprep\", StandardScaler()),\n",
    "    (\"svm\", SVR(C=100, kernel=\"rbf\"))\n",
    "])\n",
    "\n",
    "\n",
    "cross_val_scores = cross_val_score(svm_pipe, X_train, y_train, cv=5, scoring=\"neg_mean_absolute_error\")\n",
    "print(\"Baseline Cross Validation\", cross_val_scores, np.mean(cross_val_scores) )\n"
   ]
  },
  {
   "cell_type": "code",
   "execution_count": null,
   "metadata": {},
   "outputs": [],
   "source": [
    "# try  XGBOOST"
   ]
  },
  {
   "cell_type": "code",
   "execution_count": 186,
   "metadata": {
    "ExecuteTime": {
     "end_time": "2020-06-03T16:11:25.345908Z",
     "start_time": "2020-06-03T16:10:25.624510Z"
    }
   },
   "outputs": [
    {
     "name": "stdout",
     "output_type": "stream",
     "text": [
      "mae SVR Baseline, against test set 2.211502285564647\n",
      "Fitting 5 folds for each of 405 candidates, totalling 2025 fits\n"
     ]
    },
    {
     "name": "stderr",
     "output_type": "stream",
     "text": [
      "[Parallel(n_jobs=4)]: Using backend LokyBackend with 4 concurrent workers.\n",
      "[Parallel(n_jobs=4)]: Done 128 tasks      | elapsed:    2.3s\n",
      "[Parallel(n_jobs=4)]: Done 728 tasks      | elapsed:   12.5s\n",
      "[Parallel(n_jobs=4)]: Done 1728 tasks      | elapsed:   34.3s\n",
      "[Parallel(n_jobs=4)]: Done 2025 out of 2025 | elapsed:   43.1s finished\n"
     ]
    },
    {
     "name": "stdout",
     "output_type": "stream",
     "text": [
      "Best Score  -2.117929404579563\n",
      "Best Params  {'xgb__colsample_bytree': 1.0, 'xgb__gamma': 2, 'xgb__max_depth': 3, 'xgb__min_child_weight': 5, 'xgb__subsample': 1.0}\n",
      "Baseline Cross Validation [-1.98907345 -2.36578785 -2.18791178 -1.87589998 -2.27042772] -2.1378201588789625\n"
     ]
    }
   ],
   "source": [
    "from xgboost import XGBRegressor\n",
    "\n",
    "xgb_pipe = Pipeline([\n",
    "    (\"dataprep\",StandardScaler()),\n",
    "    (\"xgb\", XGBRegressor())\n",
    "])\n",
    "\n",
    "xgb_pipe.fit(X_train,y_train.values)\n",
    "\n",
    "predicted = xgb_pipe.predict(X_test)\n",
    "mae = mean_absolute_error(y_test, predicted)\n",
    "print(\"mae SVR Baseline, against test set\", mae)\n",
    "\n",
    "\n",
    "parameters = {\n",
    "    'xgb__min_child_weight': [1, 5, 10],\n",
    "    'xgb__gamma': [0.5, 1, 1.5, 2, 5],\n",
    "    'xgb__subsample': [0.6, 0.8, 1.0],\n",
    "    'xgb__colsample_bytree': [0.6, 0.8, 1.0],\n",
    "    'xgb__max_depth': [3, 4, 5]\n",
    "}\n",
    "\n",
    "gscv = GridSearchCV(xgb_pipe, parameters, n_jobs = 4, verbose=1, cv=KFold(5), scoring='neg_mean_absolute_error')\n",
    "grid_result = gscv.fit(X_train, y_train)\n",
    "print(\"Best Score \", grid_result.best_score_)\n",
    "print(\"Best Params \", grid_result.best_params_)\n",
    "\n",
    "xgb_pipe = Pipeline([\n",
    "    (\"dataprep\",StandardScaler()),\n",
    "    (\"xgb\", XGBRegressor(colsample_bytree=1, gamma=2, max_depth=4, min_child_weight=1, subsample=1))\n",
    "])\n",
    "\n",
    "cross_val_scores = cross_val_score(xgb_pipe, X_train, y_train, cv=5, scoring=\"neg_mean_absolute_error\")\n",
    "print(\"Baseline Cross Validation\", cross_val_scores, np.mean(cross_val_scores) )"
   ]
  },
  {
   "cell_type": "code",
   "execution_count": 187,
   "metadata": {
    "ExecuteTime": {
     "end_time": "2020-06-03T16:12:28.368656Z",
     "start_time": "2020-06-03T16:12:28.366964Z"
    }
   },
   "outputs": [],
   "source": [
    "# FNN"
   ]
  },
  {
   "cell_type": "code",
   "execution_count": 254,
   "metadata": {
    "ExecuteTime": {
     "end_time": "2020-06-03T16:50:14.914576Z",
     "start_time": "2020-06-03T16:49:58.532306Z"
    },
    "scrolled": true
   },
   "outputs": [
    {
     "name": "stdout",
     "output_type": "stream",
     "text": [
      "Train on 404 samples, validate on 102 samples\n",
      "Epoch 1/40\n",
      "404/404 [==============================] - 0s 1ms/step - loss: 0.1366 - val_loss: 0.0651\n",
      "Epoch 2/40\n",
      "404/404 [==============================] - 0s 799us/step - loss: 0.1024 - val_loss: 0.0738\n",
      "Epoch 3/40\n",
      "404/404 [==============================] - 0s 931us/step - loss: 0.0928 - val_loss: 0.0633\n",
      "Epoch 4/40\n",
      "404/404 [==============================] - 0s 839us/step - loss: 0.0848 - val_loss: 0.0657\n",
      "Epoch 5/40\n",
      "404/404 [==============================] - 0s 784us/step - loss: 0.0769 - val_loss: 0.0669\n",
      "Epoch 6/40\n",
      "404/404 [==============================] - 0s 779us/step - loss: 0.0821 - val_loss: 0.0626\n",
      "Epoch 7/40\n",
      "404/404 [==============================] - 0s 783us/step - loss: 0.0725 - val_loss: 0.0624\n",
      "Epoch 8/40\n",
      "404/404 [==============================] - 0s 797us/step - loss: 0.0724 - val_loss: 0.0619\n",
      "Epoch 9/40\n",
      "404/404 [==============================] - 0s 786us/step - loss: 0.0760 - val_loss: 0.0615\n",
      "Epoch 10/40\n",
      "404/404 [==============================] - 0s 800us/step - loss: 0.0696 - val_loss: 0.0615\n",
      "Epoch 11/40\n",
      "404/404 [==============================] - 0s 805us/step - loss: 0.0746 - val_loss: 0.0616\n",
      "Epoch 12/40\n",
      "404/404 [==============================] - 0s 814us/step - loss: 0.0731 - val_loss: 0.0616\n",
      "Epoch 13/40\n",
      "404/404 [==============================] - 0s 785us/step - loss: 0.0700 - val_loss: 0.0616\n",
      "Epoch 14/40\n",
      "404/404 [==============================] - 0s 864us/step - loss: 0.0711 - val_loss: 0.0616\n",
      "Epoch 15/40\n",
      "404/404 [==============================] - 0s 803us/step - loss: 0.0735 - val_loss: 0.0616\n",
      "Epoch 16/40\n",
      "404/404 [==============================] - 0s 819us/step - loss: 0.0671 - val_loss: 0.0616\n",
      "Epoch 17/40\n",
      "404/404 [==============================] - 0s 872us/step - loss: 0.0722 - val_loss: 0.0616\n",
      "Epoch 18/40\n",
      "404/404 [==============================] - 0s 798us/step - loss: 0.0689 - val_loss: 0.0616\n",
      "Epoch 19/40\n",
      "404/404 [==============================] - 0s 902us/step - loss: 0.0704 - val_loss: 0.0616\n",
      "Epoch 20/40\n",
      "404/404 [==============================] - 0s 860us/step - loss: 0.0671 - val_loss: 0.0616\n",
      "Epoch 21/40\n",
      "404/404 [==============================] - 0s 808us/step - loss: 0.0759 - val_loss: 0.0616\n",
      "Epoch 22/40\n",
      "404/404 [==============================] - 0s 936us/step - loss: 0.0715 - val_loss: 0.0616\n",
      "Epoch 23/40\n",
      "404/404 [==============================] - 0s 855us/step - loss: 0.0706 - val_loss: 0.0616\n",
      "Epoch 24/40\n",
      "404/404 [==============================] - 0s 822us/step - loss: 0.0753 - val_loss: 0.0616\n",
      "Epoch 25/40\n",
      "404/404 [==============================] - 0s 893us/step - loss: 0.0756 - val_loss: 0.0616\n",
      "Epoch 26/40\n",
      "404/404 [==============================] - 0s 810us/step - loss: 0.0699 - val_loss: 0.0616\n",
      "Epoch 27/40\n",
      "404/404 [==============================] - 1s 2ms/step - loss: 0.0738 - val_loss: 0.0616\n",
      "Epoch 28/40\n",
      "404/404 [==============================] - 1s 1ms/step - loss: 0.0697 - val_loss: 0.0616\n",
      "Epoch 29/40\n",
      "404/404 [==============================] - 0s 1ms/step - loss: 0.0709 - val_loss: 0.0616\n",
      "Epoch 30/40\n",
      "404/404 [==============================] - 0s 1ms/step - loss: 0.0704 - val_loss: 0.0616\n",
      "Epoch 31/40\n",
      "404/404 [==============================] - 0s 1ms/step - loss: 0.0743 - val_loss: 0.0616\n",
      "Epoch 32/40\n",
      "404/404 [==============================] - 0s 1ms/step - loss: 0.0710 - val_loss: 0.0616\n",
      "Epoch 33/40\n",
      "404/404 [==============================] - 0s 1ms/step - loss: 0.0742 - val_loss: 0.0616\n",
      "Epoch 34/40\n",
      "404/404 [==============================] - 0s 1ms/step - loss: 0.0746 - val_loss: 0.0616\n",
      "Epoch 35/40\n",
      "404/404 [==============================] - 0s 1ms/step - loss: 0.0709 - val_loss: 0.0616\n",
      "Epoch 36/40\n",
      "404/404 [==============================] - 0s 1ms/step - loss: 0.0711 - val_loss: 0.0616\n",
      "Epoch 37/40\n",
      "404/404 [==============================] - 0s 1ms/step - loss: 0.0691 - val_loss: 0.0616\n",
      "Epoch 38/40\n",
      "404/404 [==============================] - 1s 1ms/step - loss: 0.0723 - val_loss: 0.0616\n",
      "Epoch 39/40\n",
      "404/404 [==============================] - 0s 1ms/step - loss: 0.0725 - val_loss: 0.0616\n",
      "Epoch 40/40\n",
      "404/404 [==============================] - 0s 1ms/step - loss: 0.0705 - val_loss: 0.0616\n"
     ]
    }
   ],
   "source": [
    "from tensorflow import keras\n",
    "from keras.layers import Dense, Input, Dropout\n",
    "from keras.models import Sequential\n",
    "from keras.callbacks import ReduceLROnPlateau\n",
    "\n",
    "model = Sequential()\n",
    "#model.add(Input(shape=(X_train.shape[0],)))\n",
    "model.add(Dense(50, activation=\"relu\", input_shape=(X_train.shape[1],)))\n",
    "model.add(Dropout(.2))\n",
    "model.add(Dense(20, activation=\"relu\"))\n",
    "model.add(Dropout(.2))\n",
    "model.add(Dense(1, activation=\"sigmoid\"))\n",
    "\n",
    "model.compile(optimizer=\"adam\", loss=\"mae\")\n",
    "\n",
    "#scale X \n",
    "from sklearn.preprocessing import MinMaxScaler\n",
    "scaler = MinMaxScaler(feature_range=(0,1))\n",
    "df_scaled = scaler.fit_transform(df)\n",
    "\n",
    "X_scaled = df_scaled[:,:-1]\n",
    "y_scaled = df_scaled[:,-1]\n",
    "\n",
    "df_scaled.shape\n",
    "X_scaled.shape\n",
    "\n",
    "callback = ReduceLROnPlateau(monitor='loss', factor=0.1, patience=1)\n",
    "\n",
    "history = model.fit(X_scaled, y_scaled, batch_size=1, epochs=40,verbose=True, validation_split=0.2, callbacks=[callback])\n",
    "\n"
   ]
  },
  {
   "cell_type": "code",
   "execution_count": 262,
   "metadata": {
    "ExecuteTime": {
     "end_time": "2020-06-03T16:51:24.534423Z",
     "start_time": "2020-06-03T16:51:24.405196Z"
    }
   },
   "outputs": [
    {
     "data": {
      "text/plain": [
       "[<matplotlib.lines.Line2D at 0x7f58870eec88>]"
      ]
     },
     "execution_count": 262,
     "metadata": {},
     "output_type": "execute_result"
    },
    {
     "data": {
      "image/png": "[encoded data removed]",
      "text/plain": [
       "<Figure size 432x288 with 1 Axes>"
      ]
     },
     "metadata": {
      "needs_background": "light"
     },
     "output_type": "display_data"
    }
   ],
   "source": [
    "plt.plot(history.history[\"loss\"])\n",
    "plt.plot(history.history[\"val_loss\"])"
   ]
  },
  {
   "cell_type": "code",
   "execution_count": 253,
   "metadata": {
    "ExecuteTime": {
     "end_time": "2020-06-03T16:49:24.002090Z",
     "start_time": "2020-06-03T16:49:23.992275Z"
    }
   },
   "outputs": [
    {
     "data": {
      "text/plain": [
       "2.7463386618185273"
      ]
     },
     "execution_count": 253,
     "metadata": {},
     "output_type": "execute_result"
    }
   ],
   "source": [
    "predictions = model.predict(scaler.transform(X_test)[:,:-1])\n",
    "\n",
    "X_test[\"dummy\"] = predictions\n",
    "\n",
    "real_pred = scaler.inverse_transform(X_test)[:,-1]\n",
    "\n",
    "mean_absolute_error(y_test,real_pred)\n"
   ]
  },
  {
   "cell_type": "code",
   "execution_count": null,
   "metadata": {},
   "outputs": [],
   "source": []
  }
 ],
 "metadata": {
  "kernelspec": {
   "display_name": "Python 3",
   "language": "python",
   "name": "python3"
  },
  "language_info": {
   "codemirror_mode": {
    "name": "ipython",
    "version": 3
   },
   "file_extension": ".py",
   "mimetype": "text/x-python",
   "name": "python",
   "nbconvert_exporter": "python",
   "pygments_lexer": "ipython3",
   "version": "3.6.9"
  }
 },
 "nbformat": 4,
 "nbformat_minor": 4
}
